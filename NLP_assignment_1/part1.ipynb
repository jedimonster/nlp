{
 "worksheets": [
  {
   "cells": [
    {
     "cell_type": "code",
     "metadata": {},
     "outputs": [],
     "input": [
      ""
     ],
     "language": "python"
    }
   ]
  }
 ],
 "cells": [],
 "metadata": {
  "signature": "sha256:e35a7217e2c200fee7d7e534794afc3d7e5606993371e1701921541310b8f1fa"
 },
 "nbformat": 3,
 "nbformat_minor": 0
}