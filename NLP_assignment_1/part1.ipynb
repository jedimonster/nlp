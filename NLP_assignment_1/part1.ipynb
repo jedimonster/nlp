{
 "metadata": {
  "signature": "sha256:6999e7c54859928e1a7e84af6bd39a46cc0515b24eceafc22aa4e07c49f89b5a"
 },
 "nbformat": 3,
 "nbformat_minor": 0,
 "worksheets": [
  {
   "cells": [
    {
     "cell_type": "markdown",
     "metadata": {},
     "source": [
      "The method get_data_from_web fetches and cleans data for the given search query, and saves it and the given path.\n",
      "also returns the text.\n",
      "After fixing a small bug with the positio of one of the parameters, the provided library neatly handled fetching data from Google. same goes for cleantext for cleaning it up. we used the nltk tokenizer which had no problems either.\n",
      "\n",
      "One problem we had with the collected data is that it had unicode characters. since they were rare and our training set didn't have them, we ignored words with characters other than ascii. improvement suggestion - turn unicode characeters to their closest ascii equivelant. we believe that'll give the best accuracy, but testing is obviously needed.\n",
      "\n",
      "Another conclusion is that we should've used .tolower on all the text obtained. \n",
      "\n",
      "At the end of the file we list the disagreements we had regarding tagging.\n"
     ]
    },
    {
     "cell_type": "code",
     "collapsed": false,
     "input": [
      "from src import part1\n",
      "\n",
      "text = partone.get_data_from_web(\"How to eat an apple\", path=\"clean/clean_text.txt\")"
     ],
     "language": "python",
     "metadata": {},
     "outputs": [
      {
       "output_type": "stream",
       "stream": "stdout",
       "text": [
        "[u'http://www.foodbeast.com/2013/05/02/so-apparently-weve-been-eating-apples-all-wrong-video/', u'http://mentalfloss.com/article/53831/8-foods-youve-been-eating-all-wrong', u'http://www.wikihow.com/Eat-an-Apple', u'http://www.telegraph.co.uk/news/good-to-share/10739454/How-to-eat-an-apple-the-right-way.html', u'http://www.mnn.com/food/healthy-eating/blogs/amazing-way-to-eat-an-apple-makes-core-disappear', u'http://www.theatlantic.com/health/archive/2013/11/apple-cores-are-a-myth/281531/', u'http://www.huffingtonpost.com/foodbeast/so-apparently-weve-been-e_b_3201388.html', u'http://www.besthealthmag.ca/eat-well/nutrition/15-health-benefits-of-eating-apples', u'http://www.thekitchn.com/do-you-eat-an-apple-sidetoside-or-toptobottom-198349']\n",
        "10"
       ]
      },
      {
       "output_type": "stream",
       "stream": "stdout",
       "text": [
        "\n",
        "47\n",
        "128\n",
        "128\n"
       ]
      }
     ],
     "prompt_number": 3
    },
    {
     "cell_type": "markdown",
     "metadata": {},
     "source": [
      "We use a combination of 2gram, 1gram, affix tagger and a default tagger for best results:"
     ]
    },
    {
     "cell_type": "code",
     "collapsed": false,
     "input": [
      "import nltk\n",
      "from src import part1\n",
      "from nltk.corpus import brown\n",
      "from nltk import NgramTagger, AffixTagger, DefaultTagger\n",
      "brown_news_tagged = brown.tagged_sents(categories='news', tagset='universal')\n",
      "brown_train = brown_news_tagged[100:]\n",
      "brown_test = brown_news_tagged[:100]\n",
      "    \n",
      "default_tagger = DefaultTagger('NOUN')\n",
      "affix_tagger = nltk.AffixTagger(brown_train, backoff=default_tagger)\n",
      "one_gram_tagger = NgramTagger(1, train=brown_train, backoff=affix_tagger)\n",
      "two_gram_tagger = NgramTagger(2, train=brown_train, backoff=one_gram_tagger)\n",
      "\n",
      "part1.tag_txt_file(\"clean/clean_text.txt\", \"tagged/tagged_text.txt\", two_gram_tagger)\n",
      "\n",
      "\n",
      "hw_tagged = brown.tagged_sents(categories='homework')\n",
      "\n",
      "print \"Evaluating the tagger on the combined manually tagged text: \", two_gram_tagger.evaluate(hw_tagged)"
     ],
     "language": "python",
     "metadata": {},
     "outputs": [
      {
       "output_type": "stream",
       "stream": "stdout",
       "text": [
        "Evaluating the tagger on the combined manually tagged text:  0.943168077388\n"
       ]
      }
     ],
     "prompt_number": 3
    },
    {
     "cell_type": "markdown",
     "metadata": {},
     "source": [
      "Evaluating the tagger on the combined manually tagged text:  0.943168077388"
     ]
    },
    {
     "cell_type": "markdown",
     "metadata": {},
     "source": [
      "disagreements:\n",
      " tagger1 says: 're/PRON tagger2 says: 're/VERB\n",
      " tagger1 says: speaks/VERB tagger2 says: speaks/NOUN\n",
      " tagger1 says: chomp/VERB tagger2 says: chomp/ADJ\n",
      " tagger1 says: n't/ADV tagger2 says: n't/DET\n",
      " tagger1 says: n't/ADV tagger2 says: n't/DET\n",
      " tagger1 says: n't/ADV tagger2 says: n't/DET\n",
      " tagger1 says: shows/VERB tagger2 says: shows/NOUN\n",
      " tagger1 says: n't/ADV tagger2 says: n't/DET\n",
      " tagger1 says: pancake/NOUN tagger2 says: pancake/VERB\n",
      " tagger1 says: seep/VERB tagger2 says: seep/NOUN\n",
      " tagger1 says: stops/VERB tagger2 says: stops/NOUN\n",
      " tagger1 says: fence/VERB tagger2 says: fence/NOUN\n",
      " tagger1 says: jelly/NOUN tagger2 says: jelly/ADV\n",
      " tagger1 says: taller/ADJ tagger2 says: taller/NOUN\n",
      " tagger1 says: sides/NOUN tagger2 says: sides/VERB\n",
      " tagger1 says: orange/NOUN tagger2 says: orange/ADJ\n",
      " tagger1 says: slit/VERB tagger2 says: slit/NOUN\n",
      " tagger1 says: orange/NOUN tagger2 says: orange/ADJ\n",
      " tagger1 says: orange/NOUN tagger2 says: orange/ADJ\n",
      " tagger1 says: unroll/VERB tagger2 says: unroll/NOUN\n",
      " tagger1 says: unwanted/ADJ tagger2 says: unwanted/VERB\n",
      " tagger1 says: sealed/ADJ tagger2 says: sealed/VERB\n",
      " tagger1 says: cupcake/NOUN tagger2 says: cupcake/VERB\n",
      " tagger1 says: pesky/ADJ tagger2 says: pesky/NOUN\n",
      " tagger1 says: cupcake/NOUN tagger2 says: cupcake/VERB\n",
      " tagger1 says: less/ADJ tagger2 says: less/ADV\n",
      " tagger1 says: fall/VERB tagger2 says: fall/NOUN\n",
      " tagger1 says: cheese/NOUN tagger2 says: cheese/DET\n",
      " tagger1 says: wrapping/VERB tagger2 says: wrapping/NOUN\n",
      " tagger1 says: fall/VERB tagger2 says: fall/NOUN\n",
      " tagger1 says: refried/ADJ tagger2 says: refried/VERB\n",
      " tagger1 says: peel/VERB tagger2 says: peel/NOUN\n",
      " tagger1 says: open/VERB tagger2 says: open/ADJ\n",
      " tagger1 says: YOU/PRON tagger2 says: YOU/NOUN\n",
      " tagger1 says: cue/NOUN tagger2 says: cue/ADJ\n",
      " tagger1 says: 's/ADP tagger2 says: 's/VERB\n"
     ]
    },
    {
     "cell_type": "code",
     "collapsed": false,
     "input": [
      "%matplotlib inline\n",
      "\n",
      "part1.plot_nice_data()"
     ],
     "language": "python",
     "metadata": {},
     "outputs": [
      {
       "output_type": "stream",
       "stream": "stdout",
       "text": [
        "[52300, 3440, 300, 49, 9]\n"
       ]
      },
      {
       "metadata": {},
       "output_type": "display_data",
       "png": "[encoded data removed]",
       "text": [
        "<matplotlib.figure.Figure at 0x4e147d0>"
       ]
      }
     ],
     "prompt_number": 4
    },
    {
     "cell_type": "markdown",
     "metadata": {},
     "source": [
      "as we can see, the distribution shows a short tail - that makes sense since there's a limited number of tags.\n",
      "\n",
      "The requested functions for finding most ambigious and verifying are:"
     ]
    },
    {
     "cell_type": "code",
     "collapsed": false,
     "input": [
      "from nltk import corpus\n",
      "from src.part1 import *\n",
      "\n",
      "full_cfd = nltk.ConditionalFreqDist(brown.tagged_words(tagset='universal'))\n",
      "report_most_ambigous(full_cfd, corpus.brown)\n",
      "ShowExamples_v2('open', full_cfd, corpus.brown)\n",
      "TestMostAmbiguousWords(full_cfd, 4)\n"
     ],
     "language": "python",
     "metadata": {},
     "outputs": []
    },
    {
     "cell_type": "code",
     "collapsed": false,
     "input": [],
     "language": "python",
     "metadata": {},
     "outputs": []
    }
   ],
   "metadata": {}
  }
 ]
}