{
 "metadata": {
  "signature": "sha256:457cc4ce21921ee42ba1c26cccc34b23eb443ef5c4f5ada8c799f3893a03f1fc"
 },
 "nbformat": 3,
 "nbformat_minor": 0,
 "worksheets": [
  {
   "cells": [
    {
     "cell_type": "markdown",
     "metadata": {},
     "source": [
      "The method get_data_from_web fetches and cleans data for the given search query, and saves it in the given path.\n",
      "also returns the text.\n",
      "After fixing a small bug with the position of one of the parameters, the provided library neatly handled fetching data from Google. same goes for cleantext for cleaning it up. we used the nltk tokenizer which had no problems either.\n",
      "\n",
      "One problem we had with the collected data is that it had unicode characters. since they were rare and our training set didn't have them, we ignored words with characters other than ascii. improvement suggestion - turn unicode characeters to their closest ascii equivelant. we believe that'll give the best accuracy, but testing is obviously needed.\n",
      "\n",
      "Another conclusion is that we should've used .tolower on all the text obtained. \n",
      "\n",
      "Below the code we list the disagreements we had regarding tagging.\n"
     ]
    },
    {
     "cell_type": "code",
     "collapsed": false,
     "input": [
      "from src import part1\n",
      "\n",
      "text = part1.get_data_from_web(\"How to eat an apple\", path=\"clean/clean_text.txt\")"
     ],
     "language": "python",
     "metadata": {},
     "outputs": [
      {
       "output_type": "stream",
       "stream": "stdout",
       "text": [
        "[u'http://www.foodbeast.com/2013/05/02/so-apparently-weve-been-eating-apples-all-wrong-video/', u'http://www.wikihow.com/Eat-an-Apple', u'http://mentalfloss.com/article/53831/8-foods-youve-been-eating-all-wrong', u'http://www.telegraph.co.uk/news/good-to-share/10739454/How-to-eat-an-apple-the-right-way.html', u'http://www.mnn.com/food/healthy-eating/blogs/amazing-way-to-eat-an-apple-makes-core-disappear', u'http://www.theatlantic.com/health/archive/2013/11/apple-cores-are-a-myth/281531/', u'http://www.huffingtonpost.com/foodbeast/so-apparently-weve-been-e_b_3201388.html', u'http://www.besthealthmag.ca/eat-well/nutrition/15-health-benefits-of-eating-apples', u'http://www.medicaldaily.com/there-no-such-thing-apple-core-eat-entire-fruit-safely-263017']\n",
        "28"
       ]
      },
      {
       "output_type": "stream",
       "stream": "stdout",
       "text": [
        "\n",
        "100\n",
        "100\n"
       ]
      }
     ],
     "prompt_number": 1
    },
    {
     "cell_type": "markdown",
     "metadata": {},
     "source": [
      "We use a combination of 1gram, affix tagger and a default tagger for best results:"
     ]
    },
    {
     "cell_type": "code",
     "collapsed": false,
     "input": [
      "import nltk\n",
      "from src import part1\n",
      "from nltk.corpus import brown\n",
      "from nltk import NgramTagger, AffixTagger, DefaultTagger\n",
      "brown_news_tagged = brown.tagged_sents(categories='news', tagset='universal')\n",
      "brown_train = brown_news_tagged[100:]\n",
      "brown_test = brown_news_tagged[:100]\n",
      "    \n",
      "default_tagger = DefaultTagger('NOUN')\n",
      "affix_tagger = nltk.AffixTagger(brown_train, backoff=default_tagger)\n",
      "one_gram_tagger = NgramTagger(1, train=brown_train, backoff=affix_tagger)\n",
      "\n",
      "\n",
      "part1.tag_txt_file(\"clean/clean_text.txt\", \"tagged/tagged_text.txt\", two_gram_tagger)\n",
      "\n",
      "\n",
      "hw_tagged = brown.tagged_sents(categories='homework')\n",
      "\n",
      "print \"Evaluating the tagger on the combined manually tagged text: \", one_gram_tagger.evaluate(hw_tagged)"
     ],
     "language": "python",
     "metadata": {},
     "outputs": [
      {
       "output_type": "stream",
       "stream": "stdout",
       "text": [
        "Evaluating the tagger on the combined manually tagged text:  0.912938331318\n"
       ]
      }
     ],
     "prompt_number": 5
    },
    {
     "cell_type": "markdown",
     "metadata": {},
     "source": [
      "Evaluating the tagger on the combined manually tagged text:  0.912938331318"
     ]
    },
    {
     "cell_type": "markdown",
     "metadata": {},
     "source": [
      "disagreements:\n",
      " tagger1 says: 're/PRON tagger2 says: 're/VERB\n",
      " tagger1 says: speaks/VERB tagger2 says: speaks/NOUN\n",
      " tagger1 says: chomp/VERB tagger2 says: chomp/ADJ\n",
      " tagger1 says: n't/ADV tagger2 says: n't/DET\n",
      " tagger1 says: n't/ADV tagger2 says: n't/DET\n",
      " tagger1 says: n't/ADV tagger2 says: n't/DET\n",
      " tagger1 says: shows/VERB tagger2 says: shows/NOUN\n",
      " tagger1 says: n't/ADV tagger2 says: n't/DET\n",
      " tagger1 says: pancake/NOUN tagger2 says: pancake/VERB\n",
      " tagger1 says: seep/VERB tagger2 says: seep/NOUN\n",
      " tagger1 says: stops/VERB tagger2 says: stops/NOUN\n",
      " tagger1 says: fence/VERB tagger2 says: fence/NOUN\n",
      " tagger1 says: jelly/NOUN tagger2 says: jelly/ADV\n",
      " tagger1 says: taller/ADJ tagger2 says: taller/NOUN\n",
      " tagger1 says: sides/NOUN tagger2 says: sides/VERB\n",
      " tagger1 says: orange/NOUN tagger2 says: orange/ADJ\n",
      " tagger1 says: slit/VERB tagger2 says: slit/NOUN\n",
      " tagger1 says: orange/NOUN tagger2 says: orange/ADJ\n",
      " tagger1 says: orange/NOUN tagger2 says: orange/ADJ\n",
      " tagger1 says: unroll/VERB tagger2 says: unroll/NOUN\n",
      " tagger1 says: unwanted/ADJ tagger2 says: unwanted/VERB\n",
      " tagger1 says: sealed/ADJ tagger2 says: sealed/VERB\n",
      " tagger1 says: cupcake/NOUN tagger2 says: cupcake/VERB\n",
      " tagger1 says: pesky/ADJ tagger2 says: pesky/NOUN\n",
      " tagger1 says: cupcake/NOUN tagger2 says: cupcake/VERB\n",
      " tagger1 says: less/ADJ tagger2 says: less/ADV\n",
      " tagger1 says: fall/VERB tagger2 says: fall/NOUN\n",
      " tagger1 says: cheese/NOUN tagger2 says: cheese/DET\n",
      " tagger1 says: wrapping/VERB tagger2 says: wrapping/NOUN\n",
      " tagger1 says: fall/VERB tagger2 says: fall/NOUN\n",
      " tagger1 says: refried/ADJ tagger2 says: refried/VERB\n",
      " tagger1 says: peel/VERB tagger2 says: peel/NOUN\n",
      " tagger1 says: open/VERB tagger2 says: open/ADJ\n",
      " tagger1 says: YOU/PRON tagger2 says: YOU/NOUN\n",
      " tagger1 says: cue/NOUN tagger2 says: cue/ADJ\n",
      " tagger1 says: 's/ADP tagger2 says: 's/VERB\n"
     ]
    },
    {
     "cell_type": "code",
     "collapsed": false,
     "input": [
      "%matplotlib inline\n",
      "\n",
      "part1.plot_nice_data()"
     ],
     "language": "python",
     "metadata": {},
     "outputs": [
      {
       "output_type": "stream",
       "stream": "stdout",
       "text": [
        "[52300, 3440, 300, 49, 9]\n"
       ]
      },
      {
       "metadata": {},
       "output_type": "display_data",
       "png": "[encoded data removed]",
       "text": [
        "<matplotlib.figure.Figure at 0x353f0d0>"
       ]
      }
     ],
     "prompt_number": 3
    },
    {
     "cell_type": "markdown",
     "metadata": {},
     "source": [
      "as we can see, the distribution shows a short tail - that makes sense since there's a limited number of tags.\n",
      "\n",
      "The requested functions for finding most ambigious and verifying are:"
     ]
    },
    {
     "cell_type": "code",
     "collapsed": false,
     "input": [
      "from nltk import corpus\n",
      "from src.part1 import *\n",
      "\n",
      "full_cfd = nltk.ConditionalFreqDist(brown.tagged_words(tagset='universal'))\n",
      "report_most_ambigous(full_cfd, corpus.brown)\n",
      "ShowExamples_v2('open', full_cfd, corpus.brown)\n",
      "TestMostAmbiguousWords(full_cfd, 4)\n"
     ],
     "language": "python",
     "metadata": {},
     "outputs": [
      {
       "output_type": "stream",
       "stream": "stdout",
       "text": [
        "find most ambiguous (n=4)\n",
        "down\n",
        "round\n",
        "damn\n",
        "out\n",
        "inside\n",
        "open\n",
        "to\n",
        "well\n",
        "outside\n",
        "that\n",
        "Exemples for word:  down\n",
        "NOUN"
       ]
      },
      {
       "output_type": "stream",
       "stream": "stdout",
       "text": [
        "  --->  [u'Still', u'Andrena', u'will', u'do', u'a', u'reasonably', u'good', u'job', u',', u'so', u'that', u'an', u'animal', u'with', u'a', u'full', u'pollen', u'load', u'looks', u'like', u'a', u'gay', u'little', u'piece', u'of', u'yellow', u'down', u'floating', u'in', u'the', u'wind', u'.']\n",
        "ADP"
       ]
      },
      {
       "output_type": "stream",
       "stream": "stdout",
       "text": [
        "  --->  [u'Assuming', u'the', u'weather', u'is', u'halfway', u'decent', u'that', u'day', u',', u'hundreds', u'of', u'thousands', u'of', u'persons', u'will', u'mass', u'along', u'this', u'thoroughfare', u'as', u'President', u'John', u'F.', u'Kennedy', u'and', u'retiring', u'President', u'Dwight', u'D.', u'Eisenhower', u'leave', u'Capitol', u'Hill', u'following', u'the', u'oath-taking', u'ceremonies', u'and', u'ride', u'down', u'this', u'historic', u'ceremonial', u'route', u'.']\n",
        "PRT  --->  [u'Daniel', u'personally', u'led', u'the', u'fight', u'for', u'the', u'measure', u',', u'which', u'he', u'had', u'watered', u'down', u'considerably', u'since', u'its', u'rejection', u'by', u'two', u'previous', u'Legislatures', u',', u'in', u'a', u'public', u'hearing', u'before', u'the', u'House', u'Committee', u'on', u'Revenue', u'and', u'Taxation', u'.']\n",
        "VERB"
       ]
      },
      {
       "output_type": "stream",
       "stream": "stdout",
       "text": [
        "  --->  [u'The', u'Department', u'of', u'Agriculture', u'averaged', u'out', u'U.S.', u'food', u'consumption', u'last', u'year', u'at', u'1,488', u'lbs.', u'per', u'person', u',', u'which', u',', u'allowing', u'for', u'the', u'17', u'million', u'Americans', u'that', u'John', u'Kennedy', u'said', u'go', u'to', u'bed', u'hungry', u'every', u'night', u',', u'means', u'that', u'certain', u'gluttons', u'on', u'the', u'upper', u'end', u'must', u'somehow', u'down', u'8', u'lbs.', u'or', u'more', u'a', u'day', u'.']\n",
        "X"
       ]
      },
      {
       "output_type": "stream",
       "stream": "stdout",
       "text": [
        "  --->  [u'Recently', u'we', u'introduced', u'you', u'to', u'Matt', u'Jones', u'a', u'dude', u'in', u'a', u'hairnet', u'who', u'can', u'chop', u'up', u'an', u'entire', u'watermelon', u'in', u'21', u'seconds', u'(', u'and', u'keep', u'all', u'ten', u'of', u'his', u'fingers', u')', u'.', u'But', u'as', u'exciting', u'as', u'melon', u'dicing', u'can', u'be', u'this', u'fruit', u'video', u'(', u'above', u')', u'is', u'even', u'more', u'breathtaking', u'.', u'OK', u'maybe', u'we', u\"'re\", u'going', u'overboard', u'by', u'suggesting', u'it', u\"'ll\", u'take', u'your', u'breath', u'away', u'but', u'the', u'above', u'video', u'does', u'illustrate', u'how', u'to', u'consume', u'an', u'apple', u'the', u'less', u'wasteful', u'eating', u'all', u'of', u'it', u'core', u'and', u'all', u'.', u'The', u'traditional', u'style', u'of', u'apple', u'eating', u'the', u'video', u'explains', u'can', u'waste', u'up', u'to', u'a', u'third', u'of', u'the', u'super', u'fruit', u'.', u'We', u\"'re\", u'all', u'for', u'reducing', u'food', u'waste', u'but', u'how', u'does', u'a', u'person', u'eat', u'an', u'entire', u'apple', u'without', u'needing', u'a', u'whole', u'container', u'of', u'floss', u'to', u'clean', u'up', u'the', u'aftermath', u'?', u'The', u'video', u'pretty', u'much', u'speaks', u'for', u'itself', u'but', u'all', u'the', u'regular', u'apple', u'consumer', u'must', u'do', u'is', u'chomp', u'completely', u'top', u'to', u'of', u'right', u'to', u'left', u'.', u'Say', u'what', u'?', u'!', u'Produced', u'by', u'food', u'news', u'mavens', u'Foodbeast', u'the', u'clip', u'explains', u'that', u'eating', u'an', u'apple', u'around', u'its', u'core', u'is', u'simply', u'wrong', u'.', u'How', u'dare', u'you', u'.', u'When', u'Foodbeast', u'writer', u'Elie', u'Ayrouth', u'eats', u'the', u'apple', u'vertically', u'its', u'core', u'becomes', u'virtually', u'non-existant', u'.', u'This', u'hack', u'is', u\"n't\", u'super', u'revolutionary', u'(', u'and', u'we', u'ca', u\"n't\", u'promise', u'you', u'wo', u\"n't\", u'grow', u'an', u'apple', u'tree', u'inside', u'of', u'you', u')', u'but', u'it', u\"'s\", u'totally', u'worth', u'sharing', u'with', u'all', u'those', u'daring', u'noshers', u'out', u'there', u'.', u'You', u'think', u'you', u'know', u'how', u'to', u'eat', u'an', u'apple', u'but', u'you', u\"'re\", u'wrong', u'.', u'Back', u'in', u'November', u'FoodBeast', u'posted', u'a', u'video', u'called', u'to', u'Eat', u'an', u'Apple', u'Like', u'a', u'Boss', u\"''\", u'that', u'went', u'viral', u'.', u'The', u'clip', u'shows', u'that', u'rather', u'than', u'eating', u'an', u'apple', u'from', u'the', u'outside', u'in', u'to', u'the', u'wastes', u'approximately', u'30', u'percent', u'of', u'the', u'should', u'eat', u'it', u'from', u'the', u'top', u'down', u'.', u'The', u'core', u'simply', u'disappears', u'allowing', u'for', u'100', u'percent', u'consumption', u'of', u'the', u'apple', u'.', u'And', u'apples', u'are', u\"n't\", u'the', u'only', u'food', u'you', u\"'re\", u'eating', u'wrong', u'.', u'Here', u'are', u'eight', u'others', u'.', u'Drowning', u'your', u'pancakes', u'in', u'syrup', u'is', u'inefficient', u':', u'The', u'top', u'pancake', u'will', u'be', u'completely', u'soggy', u'while', u'the', u'middle', u'pancakes', u'are', u'totally', u'dry', u'.', u'The', u'solution', u':', u'Carve', u'a', u'hole', u'in', u'the', u'middle', u'of', u'your', u'stack', u'before', u'pouring', u'any', u'syrup', u'which', u'will', u'then', u'distribute', u'more', u'evenly', u'through', u'your', u'pancakes', u'.', u'If', u'eaten', u'a', u'PB', u'&', u'J', u'also', u'probably', u'had', u'a', u'dollop', u'of', u'jelly', u'seep', u'out', u'and', u'land', u'on', u'your', u'table', u'or', u'clothes', u'.', u'But', u'a', u'better', u'way', u'to', u'construct', u'this', u'staple', u'sandwich', u'that', u'stops', u'messy', u'drips', u':', u'Simply', u'fence', u'the', u'jelly', u'in', u'with', u'peanut', u'butter', u'.', u'Spread', u'as', u'much', u'peanut', u'butter', u'as', u'your', u'heart', u'desires', u'on', u'two', u'slices', u'of', u'bread', u'then', u'create', u'a', u'taller', u'border', u'with', u'peanut', u'butter', u'on', u'both', u'sides', u'.', u'On', u'one', u'slice', u'put', u'the', u'jelly', u'in', u'the', u'hole', u'that', u'the', u'border', u'creates', u'then', u'complete', u'your', u'sandwich', u'.', u'If', u'you', u'have', u'a', u'knife', u'handy', u'opening', u'oranges', u'have', u'to', u'be', u'a', u'hassle', u'.', u'Cut', u'small', u'slices', u'off', u'the', u'top', u'and', u'bottom', u'of', u'the', u'orange', u'.', u'Then', u'cut', u'a', u'slit', u'in', u'the', u'side', u'of', u'the', u'orange', u'.', u'The', u'orange', u'should', u'unroll', u'leaving', u'a', u'nice', u'row', u'of', u'slices', u'.', u'This', u'fruit', u'is', u'way', u'less', u'difficult', u'to', u'seed', u'if', u'you', u'use', u'a', u'bowl', u'of', u'water', u'.', u'First', u'cut', u'the', u'fruit', u'in', u'half', u'.', u'Then', u'submerge', u'the', u'fruit', u'in', u'cold', u'water', u'and', u'pull', u'the', u'fruit', u'apart', u'releasing', u'the', u'seeds', u'with', u'minimal', u'mess', u'.', u'The', u'unwanted', u'membrane', u'which', u'holds', u'the', u'seeds', u'will', u'even', u'rise', u'to', u'the', u'top', u'of', u'the', u'water', u'.', u'Never', u'break', u'a', u'nail', u'trying', u'to', u'open', u'a', u'sealed', u'pistachio', u'use', u'another', u'pistachio', u'shell', u'to', u'separate', u'the', u'nut', u'hard', u'to', u'crack', u'.', u'Think', u'no', u'way', u'to', u'eat', u'a', u'cupcake', u'without', u'getting', u'frosting', u'on', u'your', u'nose', u'?', u'Think', u'again', u'.', u'Get', u'rid', u'of', u'that', u'pesky', u'wrapper', u'slice', u'about', u'half', u'of', u'the', u'bottom', u'off', u'the', u'cupcake', u'then', u'make', u'a', u'frosting', u'sandwich', u'out', u'of', u'the', u'two', u'slices', u'.', u'With', u'that', u'delicious', u'gob', u'of', u'frosting', u'safely', u'in', u'between', u'two', u'pieces', u'of', u'cake', u'the', u'odds', u'of', u'frosting', u'all', u'over', u'your', u'face', u'will', u'be', u'minimized', u'.', u'A', u'fork', u'might', u'also', u'solve', u'this', u'problem', u'but', u'way', u'less', u'fun', u'.', u'Hard-shell', u'tacos', u'tend', u'to', u'fall', u'apart', u'leaving', u'too', u'many', u'meat', u'and', u'cheese', u'casualties', u'.', u'But', u'wrapping', u'a', u'tortilla', u'around', u'the', u'taco', u'will', u'help', u'.', u'The', u'food', u'that', u'would', u'normally', u'just', u'fall', u'will', u'be', u'caught', u'by', u'the', u'protective', u'tortilla', u'.', u'You', u'can', u'make', u'this', u'more', u'binding', u'with', u'a', u'layer', u'of', u'refried', u'beans', u'in', u'between', u'the', u'tortilla', u'and', u'the', u'taco', u'shell', u'.', u'Most', u'people', u'start', u'peeling', u'from', u'the', u'end', u'with', u'the', u'longer', u'stem', u'.', u'But', u'if', u'you', u'peel', u'from', u'the', u'bottom', u'it', u'will', u'be', u'easier', u'and', u'the', u'banana', u'will', u'contain', u'fewer', u'stringy', u'pieces', u'.', u'This', u'is', u'also', u'the', u'way', u'that', u'monkeys', u'open', u'their', u'bananas', u'so', u'you', u'know', u'right', u'.', u'DID', u'YOU', u'KNOW', u'?', u'Marlon', u'Brando', u'hated', u'memorizing', u'lines', u'so', u'much', u'that', u'he', u'posted', u'cue', u'cards', u'everywhere', u'to', u'help', u'him', u'get', u'through', u'scenes', u'.', u'He', u'even', u'asked', u'for', u'lines', u'to', u'be', u'written', u'on', u'an', u'actress', u\"'s\", u'posterior', u'.']\n",
        "ADJ"
       ]
      },
      {
       "output_type": "stream",
       "stream": "stdout",
       "text": [
        "  --->  [u'Terms', u'range', u'from', u'one', u'to', u'five', u'years', u'and', u'the', u'interest', u'rates', u'and', u'down', u'payments', u'run', u'about', u'the', u'same', u'as', u'for', u'automobiles', u'.']\n",
        "Exemples for word:  round\n",
        "ADV"
       ]
      },
      {
       "output_type": "stream",
       "stream": "stdout",
       "text": [
        "  --->  [u'The', u'gardens', u'themselves', u'are', u'open', u'free', u'of', u'charge', u'the', u'year', u'round', u',', u'and', u'the', u'192', u'permanent', u'employes', u'make', u'sure', u'that', u'not', u'a', u'dead', u'or', u'wilted', u'flower', u'is', u'ever', u'seen', u'indoors', u'or', u'out', u'by', u'any', u'visitor', u'.']\n",
        "ADJ"
       ]
      },
      {
       "output_type": "stream",
       "stream": "stdout",
       "text": [
        "  --->  [u'``', u'It', u'was', u'a', u'nice', u'round', u'figure', u',', u'that', u'12', u\"''\", u',', u'he', u'said', u'as', u'he', u'headed', u'for', u'the', u'clubhouse', u',', u'not', u'too', u'much', u'perturbed', u'.']\n",
        "VERB"
       ]
      },
      {
       "output_type": "stream",
       "stream": "stdout",
       "text": [
        "  --->  [u'Bill', u'Jr.', u',', u'20', u',', u'Kathy', u',', u'15', u',', u'and', u'Patricia', u',', u'9', u',', u'round', u'out', u'the', u'Shea', u'family', u'.']\n",
        "NOUN"
       ]
      },
      {
       "output_type": "stream",
       "stream": "stdout",
       "text": [
        "  --->  [u'W.', u'Averell', u'Harriman', u'of', u'the', u'United', u'States', u',', u'Malcolm', u'MacDonald', u'of', u'Britain', u',', u'Maurice', u'Couve', u'De', u'Murville', u',', u\"France's\", u'Foreign', u'Minister', u',', u'and', u'Howard', u'C.', u'Green', u',', u\"Canada's\", u'Minister', u'of', u'External', u'Affairs', u',', u'concluded', u',', u'meanwhile', u',', u'a', u'round', u'of', u'consultations', u'here', u'on', u'future', u'tactics', u'in', u'the', u'conference', u'.']\n",
        "ADP"
       ]
      },
      {
       "output_type": "stream",
       "stream": "stdout",
       "text": [
        "  --->  [u'He', u'is', u'a', u'parent', u'with', u'a', u'child', u'to', u'nurture', u',', u'here', u'and', u'now', u',', u'and', u'he', u'is', u'an', u'educator', u'who', u'worries', u'about', u'the', u'children', u'half', u'way', u'round', u'the', u'world', u'.']\n",
        "Exemples for word:  damn\n",
        "ADV"
       ]
      },
      {
       "output_type": "stream",
       "stream": "stdout",
       "text": [
        "  --->  [u'I', u'was', u'the', u'first', u'to', u'get', u'my', u'squad', u'on', u'the', u'ball', u',', u'and', u'anybody', u'thinkin', u'it', u'was', u'easy', u'is', u'pretty', u'damn', u'dumb', u'.']\n",
        "PRT"
       ]
      },
      {
       "output_type": "stream",
       "stream": "stdout",
       "text": [
        "  --->  [u\"I'm\", u'sending', u'you', u'a', u'couple', u'of', u'customers', u'--', u'yeah', u'--', u'just', u'get', u'them', u'out', u'of', u'my', u'hair', u'and', u'keep', u'them', u'out', u'--', u'I', u\"don't\", u'give', u'a', u'damn', u'what', u'you', u'tell', u'them', u'--', u'only', u\"don't\", u'believe', u'a', u'word', u'they', u'say', u'--', u\"they're\", u'out', u'to', u'make', u'trouble', u'for', u'me', u'and', u'it', u'is', u'up', u'to', u'you', u'to', u'stop', u'them', u'--', u'I', u\"don't\", u'care', u'how', u'--', u'and', u'one', u'more', u'thing', u'--', u\"Cate's\", u'Cafe', u'closed', u'at', u'eleven', u'like', u'always', u'last', u'night', u'and', u'Rose', u'and', u'Clarence', u'Corsi', u'left', u'for', u'Quebec', u'yesterday', u'--', u'some', u'shrine', u'or', u'other', u'--', u'I', u'think', u'it', u'was', u'called', u'Saint', u\"Simon's\", u'--', u'yeah', u',', u'yesterday', u'.']\n",
        "VERB"
       ]
      },
      {
       "output_type": "stream",
       "stream": "stdout",
       "text": [
        "  --->  [u'A', u'fellow', u'came', u'up', u'to', u'me', u',', u'a', u'Senator', u',', u'I', u\"don't\", u'have', u'to', u'tell', u'you', u'his', u'name', u',', u'and', u'he', u'told', u'me', u',', u\"'\", u'I', u'love', u'the', u'President', u'like', u'a', u'brother', u',', u'but', u'God', u'damn', u'it', u',', u\"he's\", u'crucifying', u'me', u'.']\n",
        "ADJ"
       ]
      },
      {
       "output_type": "stream",
       "stream": "stdout",
       "text": [
        "  --->  [u'Why', u\"didn't\", u'the', u'damn', u'Reactionaries', u'bump', u'him', u'off', u'?', u'?']\n",
        "NOUN"
       ]
      },
      {
       "output_type": "stream",
       "stream": "stdout",
       "text": [
        "  --->  [u'Not', u'that', u'he', u'gave', u'a', u'damn', u'what', u'the', u'grapevine', u'sent', u'out', u'about', u\"Killpath's\", u'little', u'speech', u'on', u'the', u'comportment', u'of', u'platoon', u'commanders', u'.']\n",
        "Exemples for word:  out\n",
        "ADV"
       ]
      },
      {
       "output_type": "stream",
       "stream": "stdout",
       "text": [
        "  --->  [u'He', u'ordered', u'his', u'editors', u'to', u'tone', u'down', u'on', u'sensationalism', u'and', u'to', u'refrain', u'from', u'using', u'such', u'words', u'as', u'``', u'seduction', u\"''\", u',', u'``', u'rape', u\"''\", u',', u'``', u'abortion', u\"''\", u',', u'``', u'criminal', u'assault', u\"''\", u'and', u'``', u'born', u'out', u'of', u'wedlock', u\"''\", u'.']\n",
        "PRT  --->  [u'In', u'the', u'Blue', u'Ridge', u'meeting', u',', u'the', u'audience', u'was', u'warned', u'that', u'entering', u'a', u'candidate', u'for', u'governor', u'would', u'force', u'it', u'to', u'take', u'petitions', u'out', u'into', u'voting', u'precincts', u'to', u'obtain', u'the', u'signatures', u'of', u'registered', u'voters', u'.']\n",
        "DET"
       ]
      },
      {
       "output_type": "stream",
       "stream": "stdout",
       "text": [
        "  --->  [u'``', u'Our', u'interior', u'line', u'and', u'out', u'linebackers', u'played', u'exceptionally', u'well', u\"''\", u',', u'said', u'Stram', u'Monday', u'after', u'he', u'and', u'his', u'staff', u'reviewed', u'movies', u'of', u'the', u'game', u'.']\n",
        "ADP  --->  [u'Bellows', u'made', u'the', u'request', u'while', u'the', u'all-woman', u'jury', u'was', u'out', u'of', u'the', u'courtroom', u'.']\n",
        "X"
       ]
      },
      {
       "output_type": "stream",
       "stream": "stdout",
       "text": [
        "  --->  [u'Recently', u'we', u'introduced', u'you', u'to', u'Matt', u'Jones', u'a', u'dude', u'in', u'a', u'hairnet', u'who', u'can', u'chop', u'up', u'an', u'entire', u'watermelon', u'in', u'21', u'seconds', u'(', u'and', u'keep', u'all', u'ten', u'of', u'his', u'fingers', u')', u'.', u'But', u'as', u'exciting', u'as', u'melon', u'dicing', u'can', u'be', u'this', u'fruit', u'video', u'(', u'above', u')', u'is', u'even', u'more', u'breathtaking', u'.', u'OK', u'maybe', u'we', u\"'re\", u'going', u'overboard', u'by', u'suggesting', u'it', u\"'ll\", u'take', u'your', u'breath', u'away', u'but', u'the', u'above', u'video', u'does', u'illustrate', u'how', u'to', u'consume', u'an', u'apple', u'the', u'less', u'wasteful', u'eating', u'all', u'of', u'it', u'core', u'and', u'all', u'.', u'The', u'traditional', u'style', u'of', u'apple', u'eating', u'the', u'video', u'explains', u'can', u'waste', u'up', u'to', u'a', u'third', u'of', u'the', u'super', u'fruit', u'.', u'We', u\"'re\", u'all', u'for', u'reducing', u'food', u'waste', u'but', u'how', u'does', u'a', u'person', u'eat', u'an', u'entire', u'apple', u'without', u'needing', u'a', u'whole', u'container', u'of', u'floss', u'to', u'clean', u'up', u'the', u'aftermath', u'?', u'The', u'video', u'pretty', u'much', u'speaks', u'for', u'itself', u'but', u'all', u'the', u'regular', u'apple', u'consumer', u'must', u'do', u'is', u'chomp', u'completely', u'top', u'to', u'of', u'right', u'to', u'left', u'.', u'Say', u'what', u'?', u'!', u'Produced', u'by', u'food', u'news', u'mavens', u'Foodbeast', u'the', u'clip', u'explains', u'that', u'eating', u'an', u'apple', u'around', u'its', u'core', u'is', u'simply', u'wrong', u'.', u'How', u'dare', u'you', u'.', u'When', u'Foodbeast', u'writer', u'Elie', u'Ayrouth', u'eats', u'the', u'apple', u'vertically', u'its', u'core', u'becomes', u'virtually', u'non-existant', u'.', u'This', u'hack', u'is', u\"n't\", u'super', u'revolutionary', u'(', u'and', u'we', u'ca', u\"n't\", u'promise', u'you', u'wo', u\"n't\", u'grow', u'an', u'apple', u'tree', u'inside', u'of', u'you', u')', u'but', u'it', u\"'s\", u'totally', u'worth', u'sharing', u'with', u'all', u'those', u'daring', u'noshers', u'out', u'there', u'.', u'You', u'think', u'you', u'know', u'how', u'to', u'eat', u'an', u'apple', u'but', u'you', u\"'re\", u'wrong', u'.', u'Back', u'in', u'November', u'FoodBeast', u'posted', u'a', u'video', u'called', u'to', u'Eat', u'an', u'Apple', u'Like', u'a', u'Boss', u\"''\", u'that', u'went', u'viral', u'.', u'The', u'clip', u'shows', u'that', u'rather', u'than', u'eating', u'an', u'apple', u'from', u'the', u'outside', u'in', u'to', u'the', u'wastes', u'approximately', u'30', u'percent', u'of', u'the', u'should', u'eat', u'it', u'from', u'the', u'top', u'down', u'.', u'The', u'core', u'simply', u'disappears', u'allowing', u'for', u'100', u'percent', u'consumption', u'of', u'the', u'apple', u'.', u'And', u'apples', u'are', u\"n't\", u'the', u'only', u'food', u'you', u\"'re\", u'eating', u'wrong', u'.', u'Here', u'are', u'eight', u'others', u'.', u'Drowning', u'your', u'pancakes', u'in', u'syrup', u'is', u'inefficient', u':', u'The', u'top', u'pancake', u'will', u'be', u'completely', u'soggy', u'while', u'the', u'middle', u'pancakes', u'are', u'totally', u'dry', u'.', u'The', u'solution', u':', u'Carve', u'a', u'hole', u'in', u'the', u'middle', u'of', u'your', u'stack', u'before', u'pouring', u'any', u'syrup', u'which', u'will', u'then', u'distribute', u'more', u'evenly', u'through', u'your', u'pancakes', u'.', u'If', u'eaten', u'a', u'PB', u'&', u'J', u'also', u'probably', u'had', u'a', u'dollop', u'of', u'jelly', u'seep', u'out', u'and', u'land', u'on', u'your', u'table', u'or', u'clothes', u'.', u'But', u'a', u'better', u'way', u'to', u'construct', u'this', u'staple', u'sandwich', u'that', u'stops', u'messy', u'drips', u':', u'Simply', u'fence', u'the', u'jelly', u'in', u'with', u'peanut', u'butter', u'.', u'Spread', u'as', u'much', u'peanut', u'butter', u'as', u'your', u'heart', u'desires', u'on', u'two', u'slices', u'of', u'bread', u'then', u'create', u'a', u'taller', u'border', u'with', u'peanut', u'butter', u'on', u'both', u'sides', u'.', u'On', u'one', u'slice', u'put', u'the', u'jelly', u'in', u'the', u'hole', u'that', u'the', u'border', u'creates', u'then', u'complete', u'your', u'sandwich', u'.', u'If', u'you', u'have', u'a', u'knife', u'handy', u'opening', u'oranges', u'have', u'to', u'be', u'a', u'hassle', u'.', u'Cut', u'small', u'slices', u'off', u'the', u'top', u'and', u'bottom', u'of', u'the', u'orange', u'.', u'Then', u'cut', u'a', u'slit', u'in', u'the', u'side', u'of', u'the', u'orange', u'.', u'The', u'orange', u'should', u'unroll', u'leaving', u'a', u'nice', u'row', u'of', u'slices', u'.', u'This', u'fruit', u'is', u'way', u'less', u'difficult', u'to', u'seed', u'if', u'you', u'use', u'a', u'bowl', u'of', u'water', u'.', u'First', u'cut', u'the', u'fruit', u'in', u'half', u'.', u'Then', u'submerge', u'the', u'fruit', u'in', u'cold', u'water', u'and', u'pull', u'the', u'fruit', u'apart', u'releasing', u'the', u'seeds', u'with', u'minimal', u'mess', u'.', u'The', u'unwanted', u'membrane', u'which', u'holds', u'the', u'seeds', u'will', u'even', u'rise', u'to', u'the', u'top', u'of', u'the', u'water', u'.', u'Never', u'break', u'a', u'nail', u'trying', u'to', u'open', u'a', u'sealed', u'pistachio', u'use', u'another', u'pistachio', u'shell', u'to', u'separate', u'the', u'nut', u'hard', u'to', u'crack', u'.', u'Think', u'no', u'way', u'to', u'eat', u'a', u'cupcake', u'without', u'getting', u'frosting', u'on', u'your', u'nose', u'?', u'Think', u'again', u'.', u'Get', u'rid', u'of', u'that', u'pesky', u'wrapper', u'slice', u'about', u'half', u'of', u'the', u'bottom', u'off', u'the', u'cupcake', u'then', u'make', u'a', u'frosting', u'sandwich', u'out', u'of', u'the', u'two', u'slices', u'.', u'With', u'that', u'delicious', u'gob', u'of', u'frosting', u'safely', u'in', u'between', u'two', u'pieces', u'of', u'cake', u'the', u'odds', u'of', u'frosting', u'all', u'over', u'your', u'face', u'will', u'be', u'minimized', u'.', u'A', u'fork', u'might', u'also', u'solve', u'this', u'problem', u'but', u'way', u'less', u'fun', u'.', u'Hard-shell', u'tacos', u'tend', u'to', u'fall', u'apart', u'leaving', u'too', u'many', u'meat', u'and', u'cheese', u'casualties', u'.', u'But', u'wrapping', u'a', u'tortilla', u'around', u'the', u'taco', u'will', u'help', u'.', u'The', u'food', u'that', u'would', u'normally', u'just', u'fall', u'will', u'be', u'caught', u'by', u'the', u'protective', u'tortilla', u'.', u'You', u'can', u'make', u'this', u'more', u'binding', u'with', u'a', u'layer', u'of', u'refried', u'beans', u'in', u'between', u'the', u'tortilla', u'and', u'the', u'taco', u'shell', u'.', u'Most', u'people', u'start', u'peeling', u'from', u'the', u'end', u'with', u'the', u'longer', u'stem', u'.', u'But', u'if', u'you', u'peel', u'from', u'the', u'bottom', u'it', u'will', u'be', u'easier', u'and', u'the', u'banana', u'will', u'contain', u'fewer', u'stringy', u'pieces', u'.', u'This', u'is', u'also', u'the', u'way', u'that', u'monkeys', u'open', u'their', u'bananas', u'so', u'you', u'know', u'right', u'.', u'DID', u'YOU', u'KNOW', u'?', u'Marlon', u'Brando', u'hated', u'memorizing', u'lines', u'so', u'much', u'that', u'he', u'posted', u'cue', u'cards', u'everywhere', u'to', u'help', u'him', u'get', u'through', u'scenes', u'.', u'He', u'even', u'asked', u'for', u'lines', u'to', u'be', u'written', u'on', u'an', u'actress', u\"'s\", u'posterior', u'.']\n",
        "Exemples for word:  inside\n",
        "ADV"
       ]
      },
      {
       "output_type": "stream",
       "stream": "stdout",
       "text": [
        "  --->  [u'But', u'we', u'are', u'to', u'believe', u'that', u'Lindemann', u'actively', u'supported', u'radar', u'outside', u'the', u'Tizard', u'Committee', u',', u'and', u'dissembling', u',', u'discounted', u'it', u'inside', u'?', u'?']\n",
        "ADJ"
       ]
      },
      {
       "output_type": "stream",
       "stream": "stdout",
       "text": [
        "  --->  [u'Measurements', u'for', u'rectangular', u'pattern', u'piece', u'A', u'are', u'obtained', u'by', u'measuring', u'inside', u'circumference', u'and', u'depth', u'of', u'butter', u'mold', u'bowl', u'.']\n",
        "NOUN"
       ]
      },
      {
       "output_type": "stream",
       "stream": "stdout",
       "text": [
        "  --->  [u'City', u'Controller', u'Alexander', u'Hemphill', u'charged', u'Tuesday', u'that', u'the', u'bids', u'on', u'the', u'Frankford', u'Elevated', u'repair', u'project', u'were', u'rigged', u'to', u'the', u'advantage', u'of', u'a', u'private', u'contracting', u'company', u'which', u'had', u'``', u'an', u'inside', u'track', u\"''\", u'with', u'the', u'city', u'.']\n",
        "ADP"
       ]
      },
      {
       "output_type": "stream",
       "stream": "stdout",
       "text": [
        "  --->  [u'The', u'Secretary', u'of', u'State', u'himself', u',', u'in', u'his', u'first', u'speech', u',', u'gave', u'some', u'idea', u'of', u'the', u'tremendous', u'march', u'of', u'events', u'inside', u'and', u'outside', u'the', u'United', u'States', u'that', u'has', u'preoccupied', u'the', u'new', u'administration', u'in', u'the', u'past', u'four', u'months', u'.']\n",
        "X"
       ]
      },
      {
       "output_type": "stream",
       "stream": "stdout",
       "text": [
        "  --->  [u'Recently', u'we', u'introduced', u'you', u'to', u'Matt', u'Jones', u'a', u'dude', u'in', u'a', u'hairnet', u'who', u'can', u'chop', u'up', u'an', u'entire', u'watermelon', u'in', u'21', u'seconds', u'(', u'and', u'keep', u'all', u'ten', u'of', u'his', u'fingers', u')', u'.', u'But', u'as', u'exciting', u'as', u'melon', u'dicing', u'can', u'be', u'this', u'fruit', u'video', u'(', u'above', u')', u'is', u'even', u'more', u'breathtaking', u'.', u'OK', u'maybe', u'we', u\"'re\", u'going', u'overboard', u'by', u'suggesting', u'it', u\"'ll\", u'take', u'your', u'breath', u'away', u'but', u'the', u'above', u'video', u'does', u'illustrate', u'how', u'to', u'consume', u'an', u'apple', u'the', u'less', u'wasteful', u'eating', u'all', u'of', u'it', u'core', u'and', u'all', u'.', u'The', u'traditional', u'style', u'of', u'apple', u'eating', u'the', u'video', u'explains', u'can', u'waste', u'up', u'to', u'a', u'third', u'of', u'the', u'super', u'fruit', u'.', u'We', u\"'re\", u'all', u'for', u'reducing', u'food', u'waste', u'but', u'how', u'does', u'a', u'person', u'eat', u'an', u'entire', u'apple', u'without', u'needing', u'a', u'whole', u'container', u'of', u'floss', u'to', u'clean', u'up', u'the', u'aftermath', u'?', u'The', u'video', u'pretty', u'much', u'speaks', u'for', u'itself', u'but', u'all', u'the', u'regular', u'apple', u'consumer', u'must', u'do', u'is', u'chomp', u'completely', u'top', u'to', u'of', u'right', u'to', u'left', u'.', u'Say', u'what', u'?', u'!', u'Produced', u'by', u'food', u'news', u'mavens', u'Foodbeast', u'the', u'clip', u'explains', u'that', u'eating', u'an', u'apple', u'around', u'its', u'core', u'is', u'simply', u'wrong', u'.', u'How', u'dare', u'you', u'.', u'When', u'Foodbeast', u'writer', u'Elie', u'Ayrouth', u'eats', u'the', u'apple', u'vertically', u'its', u'core', u'becomes', u'virtually', u'non-existant', u'.', u'This', u'hack', u'is', u\"n't\", u'super', u'revolutionary', u'(', u'and', u'we', u'ca', u\"n't\", u'promise', u'you', u'wo', u\"n't\", u'grow', u'an', u'apple', u'tree', u'inside', u'of', u'you', u')', u'but', u'it', u\"'s\", u'totally', u'worth', u'sharing', u'with', u'all', u'those', u'daring', u'noshers', u'out', u'there', u'.', u'You', u'think', u'you', u'know', u'how', u'to', u'eat', u'an', u'apple', u'but', u'you', u\"'re\", u'wrong', u'.', u'Back', u'in', u'November', u'FoodBeast', u'posted', u'a', u'video', u'called', u'to', u'Eat', u'an', u'Apple', u'Like', u'a', u'Boss', u\"''\", u'that', u'went', u'viral', u'.', u'The', u'clip', u'shows', u'that', u'rather', u'than', u'eating', u'an', u'apple', u'from', u'the', u'outside', u'in', u'to', u'the', u'wastes', u'approximately', u'30', u'percent', u'of', u'the', u'should', u'eat', u'it', u'from', u'the', u'top', u'down', u'.', u'The', u'core', u'simply', u'disappears', u'allowing', u'for', u'100', u'percent', u'consumption', u'of', u'the', u'apple', u'.', u'And', u'apples', u'are', u\"n't\", u'the', u'only', u'food', u'you', u\"'re\", u'eating', u'wrong', u'.', u'Here', u'are', u'eight', u'others', u'.', u'Drowning', u'your', u'pancakes', u'in', u'syrup', u'is', u'inefficient', u':', u'The', u'top', u'pancake', u'will', u'be', u'completely', u'soggy', u'while', u'the', u'middle', u'pancakes', u'are', u'totally', u'dry', u'.', u'The', u'solution', u':', u'Carve', u'a', u'hole', u'in', u'the', u'middle', u'of', u'your', u'stack', u'before', u'pouring', u'any', u'syrup', u'which', u'will', u'then', u'distribute', u'more', u'evenly', u'through', u'your', u'pancakes', u'.', u'If', u'eaten', u'a', u'PB', u'&', u'J', u'also', u'probably', u'had', u'a', u'dollop', u'of', u'jelly', u'seep', u'out', u'and', u'land', u'on', u'your', u'table', u'or', u'clothes', u'.', u'But', u'a', u'better', u'way', u'to', u'construct', u'this', u'staple', u'sandwich', u'that', u'stops', u'messy', u'drips', u':', u'Simply', u'fence', u'the', u'jelly', u'in', u'with', u'peanut', u'butter', u'.', u'Spread', u'as', u'much', u'peanut', u'butter', u'as', u'your', u'heart', u'desires', u'on', u'two', u'slices', u'of', u'bread', u'then', u'create', u'a', u'taller', u'border', u'with', u'peanut', u'butter', u'on', u'both', u'sides', u'.', u'On', u'one', u'slice', u'put', u'the', u'jelly', u'in', u'the', u'hole', u'that', u'the', u'border', u'creates', u'then', u'complete', u'your', u'sandwich', u'.', u'If', u'you', u'have', u'a', u'knife', u'handy', u'opening', u'oranges', u'have', u'to', u'be', u'a', u'hassle', u'.', u'Cut', u'small', u'slices', u'off', u'the', u'top', u'and', u'bottom', u'of', u'the', u'orange', u'.', u'Then', u'cut', u'a', u'slit', u'in', u'the', u'side', u'of', u'the', u'orange', u'.', u'The', u'orange', u'should', u'unroll', u'leaving', u'a', u'nice', u'row', u'of', u'slices', u'.', u'This', u'fruit', u'is', u'way', u'less', u'difficult', u'to', u'seed', u'if', u'you', u'use', u'a', u'bowl', u'of', u'water', u'.', u'First', u'cut', u'the', u'fruit', u'in', u'half', u'.', u'Then', u'submerge', u'the', u'fruit', u'in', u'cold', u'water', u'and', u'pull', u'the', u'fruit', u'apart', u'releasing', u'the', u'seeds', u'with', u'minimal', u'mess', u'.', u'The', u'unwanted', u'membrane', u'which', u'holds', u'the', u'seeds', u'will', u'even', u'rise', u'to', u'the', u'top', u'of', u'the', u'water', u'.', u'Never', u'break', u'a', u'nail', u'trying', u'to', u'open', u'a', u'sealed', u'pistachio', u'use', u'another', u'pistachio', u'shell', u'to', u'separate', u'the', u'nut', u'hard', u'to', u'crack', u'.', u'Think', u'no', u'way', u'to', u'eat', u'a', u'cupcake', u'without', u'getting', u'frosting', u'on', u'your', u'nose', u'?', u'Think', u'again', u'.', u'Get', u'rid', u'of', u'that', u'pesky', u'wrapper', u'slice', u'about', u'half', u'of', u'the', u'bottom', u'off', u'the', u'cupcake', u'then', u'make', u'a', u'frosting', u'sandwich', u'out', u'of', u'the', u'two', u'slices', u'.', u'With', u'that', u'delicious', u'gob', u'of', u'frosting', u'safely', u'in', u'between', u'two', u'pieces', u'of', u'cake', u'the', u'odds', u'of', u'frosting', u'all', u'over', u'your', u'face', u'will', u'be', u'minimized', u'.', u'A', u'fork', u'might', u'also', u'solve', u'this', u'problem', u'but', u'way', u'less', u'fun', u'.', u'Hard-shell', u'tacos', u'tend', u'to', u'fall', u'apart', u'leaving', u'too', u'many', u'meat', u'and', u'cheese', u'casualties', u'.', u'But', u'wrapping', u'a', u'tortilla', u'around', u'the', u'taco', u'will', u'help', u'.', u'The', u'food', u'that', u'would', u'normally', u'just', u'fall', u'will', u'be', u'caught', u'by', u'the', u'protective', u'tortilla', u'.', u'You', u'can', u'make', u'this', u'more', u'binding', u'with', u'a', u'layer', u'of', u'refried', u'beans', u'in', u'between', u'the', u'tortilla', u'and', u'the', u'taco', u'shell', u'.', u'Most', u'people', u'start', u'peeling', u'from', u'the', u'end', u'with', u'the', u'longer', u'stem', u'.', u'But', u'if', u'you', u'peel', u'from', u'the', u'bottom', u'it', u'will', u'be', u'easier', u'and', u'the', u'banana', u'will', u'contain', u'fewer', u'stringy', u'pieces', u'.', u'This', u'is', u'also', u'the', u'way', u'that', u'monkeys', u'open', u'their', u'bananas', u'so', u'you', u'know', u'right', u'.', u'DID', u'YOU', u'KNOW', u'?', u'Marlon', u'Brando', u'hated', u'memorizing', u'lines', u'so', u'much', u'that', u'he', u'posted', u'cue', u'cards', u'everywhere', u'to', u'help', u'him', u'get', u'through', u'scenes', u'.', u'He', u'even', u'asked', u'for', u'lines', u'to', u'be', u'written', u'on', u'an', u'actress', u\"'s\", u'posterior', u'.']\n",
        "Exemples for word:  open\n",
        "ADV"
       ]
      },
      {
       "output_type": "stream",
       "stream": "stdout",
       "text": [
        "  --->  [u'By', u'leaving', u'our', u'doors', u'open', u'the', u'United', u'States', u'gives', u'other', u'peoples', u'the', u'opportunity', u'to', u'see', u'us', u'and', u'to', u'compare', u',', u'he', u'said', u'.']\n",
        "NOUN"
       ]
      },
      {
       "output_type": "stream",
       "stream": "stdout",
       "text": [
        "  --->  [u'The', u\"world's\", u'best', u'golfer', u',', u'shooting', u'below', u'par', u',', u'came', u'to', u'the', u'last', u'hole', u'of', u'the', u'opening', u'round', u'of', u'the', u'Los', u'Angeles', u'open', u'with', u'every', u'intention', u'of', u'delivering', u'a', u'final', u'crusher', u'.']\n",
        "VERB"
       ]
      },
      {
       "output_type": "stream",
       "stream": "stdout",
       "text": [
        "  --->  [u'--', u'Engaging', u'mature', u',', u'experienced', u'men', u'to', u'pioneer', u'or', u'open', u'new', u'churches', u'in', u'strategic', u'population', u'centers', u'.']\n",
        "ADJ"
       ]
      },
      {
       "output_type": "stream",
       "stream": "stdout",
       "text": [
        "  --->  [u'Dumont', u'spoke', u'on', u'the', u'merit', u'of', u'having', u'an', u'open', u'primary', u'.']\n",
        "X"
       ]
      },
      {
       "output_type": "stream",
       "stream": "stdout",
       "text": [
        "  --->  [u'Recently', u'we', u'introduced', u'you', u'to', u'Matt', u'Jones', u'a', u'dude', u'in', u'a', u'hairnet', u'who', u'can', u'chop', u'up', u'an', u'entire', u'watermelon', u'in', u'21', u'seconds', u'(', u'and', u'keep', u'all', u'ten', u'of', u'his', u'fingers', u')', u'.', u'But', u'as', u'exciting', u'as', u'melon', u'dicing', u'can', u'be', u'this', u'fruit', u'video', u'(', u'above', u')', u'is', u'even', u'more', u'breathtaking', u'.', u'OK', u'maybe', u'we', u\"'re\", u'going', u'overboard', u'by', u'suggesting', u'it', u\"'ll\", u'take', u'your', u'breath', u'away', u'but', u'the', u'above', u'video', u'does', u'illustrate', u'how', u'to', u'consume', u'an', u'apple', u'the', u'less', u'wasteful', u'eating', u'all', u'of', u'it', u'core', u'and', u'all', u'.', u'The', u'traditional', u'style', u'of', u'apple', u'eating', u'the', u'video', u'explains', u'can', u'waste', u'up', u'to', u'a', u'third', u'of', u'the', u'super', u'fruit', u'.', u'We', u\"'re\", u'all', u'for', u'reducing', u'food', u'waste', u'but', u'how', u'does', u'a', u'person', u'eat', u'an', u'entire', u'apple', u'without', u'needing', u'a', u'whole', u'container', u'of', u'floss', u'to', u'clean', u'up', u'the', u'aftermath', u'?', u'The', u'video', u'pretty', u'much', u'speaks', u'for', u'itself', u'but', u'all', u'the', u'regular', u'apple', u'consumer', u'must', u'do', u'is', u'chomp', u'completely', u'top', u'to', u'of', u'right', u'to', u'left', u'.', u'Say', u'what', u'?', u'!', u'Produced', u'by', u'food', u'news', u'mavens', u'Foodbeast', u'the', u'clip', u'explains', u'that', u'eating', u'an', u'apple', u'around', u'its', u'core', u'is', u'simply', u'wrong', u'.', u'How', u'dare', u'you', u'.', u'When', u'Foodbeast', u'writer', u'Elie', u'Ayrouth', u'eats', u'the', u'apple', u'vertically', u'its', u'core', u'becomes', u'virtually', u'non-existant', u'.', u'This', u'hack', u'is', u\"n't\", u'super', u'revolutionary', u'(', u'and', u'we', u'ca', u\"n't\", u'promise', u'you', u'wo', u\"n't\", u'grow', u'an', u'apple', u'tree', u'inside', u'of', u'you', u')', u'but', u'it', u\"'s\", u'totally', u'worth', u'sharing', u'with', u'all', u'those', u'daring', u'noshers', u'out', u'there', u'.', u'You', u'think', u'you', u'know', u'how', u'to', u'eat', u'an', u'apple', u'but', u'you', u\"'re\", u'wrong', u'.', u'Back', u'in', u'November', u'FoodBeast', u'posted', u'a', u'video', u'called', u'to', u'Eat', u'an', u'Apple', u'Like', u'a', u'Boss', u\"''\", u'that', u'went', u'viral', u'.', u'The', u'clip', u'shows', u'that', u'rather', u'than', u'eating', u'an', u'apple', u'from', u'the', u'outside', u'in', u'to', u'the', u'wastes', u'approximately', u'30', u'percent', u'of', u'the', u'should', u'eat', u'it', u'from', u'the', u'top', u'down', u'.', u'The', u'core', u'simply', u'disappears', u'allowing', u'for', u'100', u'percent', u'consumption', u'of', u'the', u'apple', u'.', u'And', u'apples', u'are', u\"n't\", u'the', u'only', u'food', u'you', u\"'re\", u'eating', u'wrong', u'.', u'Here', u'are', u'eight', u'others', u'.', u'Drowning', u'your', u'pancakes', u'in', u'syrup', u'is', u'inefficient', u':', u'The', u'top', u'pancake', u'will', u'be', u'completely', u'soggy', u'while', u'the', u'middle', u'pancakes', u'are', u'totally', u'dry', u'.', u'The', u'solution', u':', u'Carve', u'a', u'hole', u'in', u'the', u'middle', u'of', u'your', u'stack', u'before', u'pouring', u'any', u'syrup', u'which', u'will', u'then', u'distribute', u'more', u'evenly', u'through', u'your', u'pancakes', u'.', u'If', u'eaten', u'a', u'PB', u'&', u'J', u'also', u'probably', u'had', u'a', u'dollop', u'of', u'jelly', u'seep', u'out', u'and', u'land', u'on', u'your', u'table', u'or', u'clothes', u'.', u'But', u'a', u'better', u'way', u'to', u'construct', u'this', u'staple', u'sandwich', u'that', u'stops', u'messy', u'drips', u':', u'Simply', u'fence', u'the', u'jelly', u'in', u'with', u'peanut', u'butter', u'.', u'Spread', u'as', u'much', u'peanut', u'butter', u'as', u'your', u'heart', u'desires', u'on', u'two', u'slices', u'of', u'bread', u'then', u'create', u'a', u'taller', u'border', u'with', u'peanut', u'butter', u'on', u'both', u'sides', u'.', u'On', u'one', u'slice', u'put', u'the', u'jelly', u'in', u'the', u'hole', u'that', u'the', u'border', u'creates', u'then', u'complete', u'your', u'sandwich', u'.', u'If', u'you', u'have', u'a', u'knife', u'handy', u'opening', u'oranges', u'have', u'to', u'be', u'a', u'hassle', u'.', u'Cut', u'small', u'slices', u'off', u'the', u'top', u'and', u'bottom', u'of', u'the', u'orange', u'.', u'Then', u'cut', u'a', u'slit', u'in', u'the', u'side', u'of', u'the', u'orange', u'.', u'The', u'orange', u'should', u'unroll', u'leaving', u'a', u'nice', u'row', u'of', u'slices', u'.', u'This', u'fruit', u'is', u'way', u'less', u'difficult', u'to', u'seed', u'if', u'you', u'use', u'a', u'bowl', u'of', u'water', u'.', u'First', u'cut', u'the', u'fruit', u'in', u'half', u'.', u'Then', u'submerge', u'the', u'fruit', u'in', u'cold', u'water', u'and', u'pull', u'the', u'fruit', u'apart', u'releasing', u'the', u'seeds', u'with', u'minimal', u'mess', u'.', u'The', u'unwanted', u'membrane', u'which', u'holds', u'the', u'seeds', u'will', u'even', u'rise', u'to', u'the', u'top', u'of', u'the', u'water', u'.', u'Never', u'break', u'a', u'nail', u'trying', u'to', u'open', u'a', u'sealed', u'pistachio', u'use', u'another', u'pistachio', u'shell', u'to', u'separate', u'the', u'nut', u'hard', u'to', u'crack', u'.', u'Think', u'no', u'way', u'to', u'eat', u'a', u'cupcake', u'without', u'getting', u'frosting', u'on', u'your', u'nose', u'?', u'Think', u'again', u'.', u'Get', u'rid', u'of', u'that', u'pesky', u'wrapper', u'slice', u'about', u'half', u'of', u'the', u'bottom', u'off', u'the', u'cupcake', u'then', u'make', u'a', u'frosting', u'sandwich', u'out', u'of', u'the', u'two', u'slices', u'.', u'With', u'that', u'delicious', u'gob', u'of', u'frosting', u'safely', u'in', u'between', u'two', u'pieces', u'of', u'cake', u'the', u'odds', u'of', u'frosting', u'all', u'over', u'your', u'face', u'will', u'be', u'minimized', u'.', u'A', u'fork', u'might', u'also', u'solve', u'this', u'problem', u'but', u'way', u'less', u'fun', u'.', u'Hard-shell', u'tacos', u'tend', u'to', u'fall', u'apart', u'leaving', u'too', u'many', u'meat', u'and', u'cheese', u'casualties', u'.', u'But', u'wrapping', u'a', u'tortilla', u'around', u'the', u'taco', u'will', u'help', u'.', u'The', u'food', u'that', u'would', u'normally', u'just', u'fall', u'will', u'be', u'caught', u'by', u'the', u'protective', u'tortilla', u'.', u'You', u'can', u'make', u'this', u'more', u'binding', u'with', u'a', u'layer', u'of', u'refried', u'beans', u'in', u'between', u'the', u'tortilla', u'and', u'the', u'taco', u'shell', u'.', u'Most', u'people', u'start', u'peeling', u'from', u'the', u'end', u'with', u'the', u'longer', u'stem', u'.', u'But', u'if', u'you', u'peel', u'from', u'the', u'bottom', u'it', u'will', u'be', u'easier', u'and', u'the', u'banana', u'will', u'contain', u'fewer', u'stringy', u'pieces', u'.', u'This', u'is', u'also', u'the', u'way', u'that', u'monkeys', u'open', u'their', u'bananas', u'so', u'you', u'know', u'right', u'.', u'DID', u'YOU', u'KNOW', u'?', u'Marlon', u'Brando', u'hated', u'memorizing', u'lines', u'so', u'much', u'that', u'he', u'posted', u'cue', u'cards', u'everywhere', u'to', u'help', u'him', u'get', u'through', u'scenes', u'.', u'He', u'even', u'asked', u'for', u'lines', u'to', u'be', u'written', u'on', u'an', u'actress', u\"'s\", u'posterior', u'.']\n",
        "Exemples for word:  to\n",
        "ADV"
       ]
      },
      {
       "output_type": "stream",
       "stream": "stdout",
       "text": [
        "  --->  [u'He', u'suggested', u'offering', u'half', u'to', u'Sir', u'Edward', u',', u'fearing', u'lest', u'``', u'he', u'shall', u'thinke', u'it', u'to', u'good', u'for', u'us', u'and', u'procure', u'it', u'for', u'himselfe', u',', u'as', u'he', u'served', u'us', u'the', u'last', u'time', u\"''\", u'.']\n",
        "PRT  --->  [u'The', u'September-October', u'term', u'jury', u'had', u'been', u'charged', u'by', u'Fulton', u'Superior', u'Court', u'Judge', u'Durwood', u'Pye', u'to', u'investigate', u'reports', u'of', u'possible', u'``', u'irregularities', u\"''\", u'in', u'the', u'hard-fought', u'primary', u'which', u'was', u'won', u'by', u'Mayor-nominate', u'Ivan', u'Allen', u'Jr.', u'.']\n",
        "NOUN"
       ]
      },
      {
       "output_type": "stream",
       "stream": "stdout",
       "text": [
        "  --->  [u'Also', u'noted', u'are', u'the', u'marriages', u'of', u'Elizabeth', u'Browning', u',', u'daughter', u'of', u'the', u'George', u'L.', u'Brownings', u',', u'to', u'Austin', u'C.', u'Smith', u'Jr.', u';', u';']\n",
        "ADP  --->  [u'It', u'recommended', u'that', u'Fulton', u'legislators', u'act', u'``', u'to', u'have', u'these', u'laws', u'studied', u'and', u'revised', u'to', u'the', u'end', u'of', u'modernizing', u'and', u'improving', u'them', u\"''\", u'.']\n",
        "X"
       ]
      },
      {
       "output_type": "stream",
       "stream": "stdout",
       "text": [
        "  --->  [u'As', u'the', u'field', u'on', u'which', u'my', u'tent', u'was', u'pitched', u'was', u'a', u'favorite', u'natural', u'playground', u'for', u'the', u'kids', u'of', u'the', u'neighborhood', u',', u'I', u'had', u'made', u'many', u'friends', u'among', u'them', u',', u'taking', u'part', u'in', u'their', u'after-school', u'games', u'and', u'trying', u'desperately', u'to', u'translate', u\"Grimm's\", u'Fairy', u'Tales', u'into', u'an', u'understandable', u'French', u'as', u'we', u'gathered', u'around', u'the', u'fire', u'in', u'front', u'of', u'the', u'tent', u'.']\n",
        "Exemples for word:  well\n",
        "ADV  --->  [u'The', u'grand', u'jury', u'commented', u'on', u'a', u'number', u'of', u'other', u'topics', u',', u'among', u'them', u'the', u'Atlanta', u'and', u'Fulton', u'County', u'purchasing', u'departments', u'which', u'it', u'said', u'``', u'are', u'well', u'operated', u'and', u'follow', u'generally', u'accepted', u'practices', u'which', u'inure', u'to', u'the', u'best', u'interest', u'of', u'both', u'governments', u\"''\", u'.']\n",
        "NOUN"
       ]
      },
      {
       "output_type": "stream",
       "stream": "stdout",
       "text": [
        "  --->  [u'He', u'would', u'rise', u'in', u'the', u'well', u'of', u'the', u'House', u',', u'his', u'chin', u'upon', u'his', u'chest', u',', u'his', u'hands', u'gripping', u'the', u'side', u'of', u'a', u'desk', u',', u'and', u'the', u'political', u'and', u'legislative', u'chatter', u'would', u'subside', u'into', u'silence', u'.']\n",
        "VERB"
       ]
      },
      {
       "output_type": "stream",
       "stream": "stdout",
       "text": [
        "  --->  [u'Then', u'I', u'have', u'seen', u'the', u'pride', u'of', u'country', u'well', u'in', u'the', u'eyes', u'of', u'these', u'young', u'people', u'.']\n",
        "ADJ"
       ]
      },
      {
       "output_type": "stream",
       "stream": "stdout",
       "text": [
        "  --->  [u'The', u'Pirates', u'jumped', u'off', u'to', u'an', u'11-3', u'start', u'by', u'May', u'1', u'last', u'year', u',', u'when', u'the', u'Redbirds', u'as', u'well', u'as', u'the', u'Dodgers', u'held', u'them', u'even', u'over', u'the', u'season', u'.']\n",
        "PRT"
       ]
      },
      {
       "output_type": "stream",
       "stream": "stdout",
       "text": [
        "  --->  [u'If', u'most', u'of', u'them', u\"weren't\", u'exactly', u'specific', u'--', u'well', u',', u\"that's\", u'the', u'way', u'it', u'is', u'in', u'life', u',', u'I', u'guess', u'.']\n",
        "Exemples for word:  outside\n",
        "ADV"
       ]
      },
      {
       "output_type": "stream",
       "stream": "stdout",
       "text": [
        "  --->  [u'But', u'they', u'are', u'aware', u'of', u'the', u'world', u'outside', u',', u'they', u'court', u'public', u'approval', u',', u'they', u'delight', u'in', u'full', u'houses', u',', u'and', u'they', u'occasionally', u'dare', u'to', u'experiment', u'in', u'interpreting', u'a', u'dramatic', u'classic', u'.']\n",
        "NOUN"
       ]
      },
      {
       "output_type": "stream",
       "stream": "stdout",
       "text": [
        "  --->  [u'The', u'problem', u'is', u'not', u'merely', u'that', u'more', u'``', u'outside', u'teachers', u\"''\", u'are', u'needed', u'but', u'that', u'a', u'different', u'brand', u'is', u'called', u'for', u'.']\n",
        "ADJ"
       ]
      },
      {
       "output_type": "stream",
       "stream": "stdout",
       "text": [
        "  --->  [u'``', u'Mom', u\"''\", u'Marr', u',', u'as', u'the', u'more', u'than', u'80', u'men', u'at', u'the', u'center', u'call', u'her', u',', u'is', u'the', u'link', u'that', u'helps', u'to', u'bridge', u'the', u'gulf', u'between', u'alcoholics', u'and', u'the', u'outside', u'world', u'and', u'between', u'parolees', u'and', u'society', u'.']\n",
        "ADP  --->  [u'Karns', u'said', u'it', u'was', u'a', u'``', u'wrongful', u'act', u\"''\", u'for', u'Wexler', u'to', u'take', u'statements', u'``', u'privately', u'and', u'outside', u'of', u'the', u'grand', u'jury', u'room', u\"''\", u'.']\n",
        "X"
       ]
      },
      {
       "output_type": "stream",
       "stream": "stdout",
       "text": [
        "  --->  [u'Recently', u'we', u'introduced', u'you', u'to', u'Matt', u'Jones', u'a', u'dude', u'in', u'a', u'hairnet', u'who', u'can', u'chop', u'up', u'an', u'entire', u'watermelon', u'in', u'21', u'seconds', u'(', u'and', u'keep', u'all', u'ten', u'of', u'his', u'fingers', u')', u'.', u'But', u'as', u'exciting', u'as', u'melon', u'dicing', u'can', u'be', u'this', u'fruit', u'video', u'(', u'above', u')', u'is', u'even', u'more', u'breathtaking', u'.', u'OK', u'maybe', u'we', u\"'re\", u'going', u'overboard', u'by', u'suggesting', u'it', u\"'ll\", u'take', u'your', u'breath', u'away', u'but', u'the', u'above', u'video', u'does', u'illustrate', u'how', u'to', u'consume', u'an', u'apple', u'the', u'less', u'wasteful', u'eating', u'all', u'of', u'it', u'core', u'and', u'all', u'.', u'The', u'traditional', u'style', u'of', u'apple', u'eating', u'the', u'video', u'explains', u'can', u'waste', u'up', u'to', u'a', u'third', u'of', u'the', u'super', u'fruit', u'.', u'We', u\"'re\", u'all', u'for', u'reducing', u'food', u'waste', u'but', u'how', u'does', u'a', u'person', u'eat', u'an', u'entire', u'apple', u'without', u'needing', u'a', u'whole', u'container', u'of', u'floss', u'to', u'clean', u'up', u'the', u'aftermath', u'?', u'The', u'video', u'pretty', u'much', u'speaks', u'for', u'itself', u'but', u'all', u'the', u'regular', u'apple', u'consumer', u'must', u'do', u'is', u'chomp', u'completely', u'top', u'to', u'of', u'right', u'to', u'left', u'.', u'Say', u'what', u'?', u'!', u'Produced', u'by', u'food', u'news', u'mavens', u'Foodbeast', u'the', u'clip', u'explains', u'that', u'eating', u'an', u'apple', u'around', u'its', u'core', u'is', u'simply', u'wrong', u'.', u'How', u'dare', u'you', u'.', u'When', u'Foodbeast', u'writer', u'Elie', u'Ayrouth', u'eats', u'the', u'apple', u'vertically', u'its', u'core', u'becomes', u'virtually', u'non-existant', u'.', u'This', u'hack', u'is', u\"n't\", u'super', u'revolutionary', u'(', u'and', u'we', u'ca', u\"n't\", u'promise', u'you', u'wo', u\"n't\", u'grow', u'an', u'apple', u'tree', u'inside', u'of', u'you', u')', u'but', u'it', u\"'s\", u'totally', u'worth', u'sharing', u'with', u'all', u'those', u'daring', u'noshers', u'out', u'there', u'.', u'You', u'think', u'you', u'know', u'how', u'to', u'eat', u'an', u'apple', u'but', u'you', u\"'re\", u'wrong', u'.', u'Back', u'in', u'November', u'FoodBeast', u'posted', u'a', u'video', u'called', u'to', u'Eat', u'an', u'Apple', u'Like', u'a', u'Boss', u\"''\", u'that', u'went', u'viral', u'.', u'The', u'clip', u'shows', u'that', u'rather', u'than', u'eating', u'an', u'apple', u'from', u'the', u'outside', u'in', u'to', u'the', u'wastes', u'approximately', u'30', u'percent', u'of', u'the', u'should', u'eat', u'it', u'from', u'the', u'top', u'down', u'.', u'The', u'core', u'simply', u'disappears', u'allowing', u'for', u'100', u'percent', u'consumption', u'of', u'the', u'apple', u'.', u'And', u'apples', u'are', u\"n't\", u'the', u'only', u'food', u'you', u\"'re\", u'eating', u'wrong', u'.', u'Here', u'are', u'eight', u'others', u'.', u'Drowning', u'your', u'pancakes', u'in', u'syrup', u'is', u'inefficient', u':', u'The', u'top', u'pancake', u'will', u'be', u'completely', u'soggy', u'while', u'the', u'middle', u'pancakes', u'are', u'totally', u'dry', u'.', u'The', u'solution', u':', u'Carve', u'a', u'hole', u'in', u'the', u'middle', u'of', u'your', u'stack', u'before', u'pouring', u'any', u'syrup', u'which', u'will', u'then', u'distribute', u'more', u'evenly', u'through', u'your', u'pancakes', u'.', u'If', u'eaten', u'a', u'PB', u'&', u'J', u'also', u'probably', u'had', u'a', u'dollop', u'of', u'jelly', u'seep', u'out', u'and', u'land', u'on', u'your', u'table', u'or', u'clothes', u'.', u'But', u'a', u'better', u'way', u'to', u'construct', u'this', u'staple', u'sandwich', u'that', u'stops', u'messy', u'drips', u':', u'Simply', u'fence', u'the', u'jelly', u'in', u'with', u'peanut', u'butter', u'.', u'Spread', u'as', u'much', u'peanut', u'butter', u'as', u'your', u'heart', u'desires', u'on', u'two', u'slices', u'of', u'bread', u'then', u'create', u'a', u'taller', u'border', u'with', u'peanut', u'butter', u'on', u'both', u'sides', u'.', u'On', u'one', u'slice', u'put', u'the', u'jelly', u'in', u'the', u'hole', u'that', u'the', u'border', u'creates', u'then', u'complete', u'your', u'sandwich', u'.', u'If', u'you', u'have', u'a', u'knife', u'handy', u'opening', u'oranges', u'have', u'to', u'be', u'a', u'hassle', u'.', u'Cut', u'small', u'slices', u'off', u'the', u'top', u'and', u'bottom', u'of', u'the', u'orange', u'.', u'Then', u'cut', u'a', u'slit', u'in', u'the', u'side', u'of', u'the', u'orange', u'.', u'The', u'orange', u'should', u'unroll', u'leaving', u'a', u'nice', u'row', u'of', u'slices', u'.', u'This', u'fruit', u'is', u'way', u'less', u'difficult', u'to', u'seed', u'if', u'you', u'use', u'a', u'bowl', u'of', u'water', u'.', u'First', u'cut', u'the', u'fruit', u'in', u'half', u'.', u'Then', u'submerge', u'the', u'fruit', u'in', u'cold', u'water', u'and', u'pull', u'the', u'fruit', u'apart', u'releasing', u'the', u'seeds', u'with', u'minimal', u'mess', u'.', u'The', u'unwanted', u'membrane', u'which', u'holds', u'the', u'seeds', u'will', u'even', u'rise', u'to', u'the', u'top', u'of', u'the', u'water', u'.', u'Never', u'break', u'a', u'nail', u'trying', u'to', u'open', u'a', u'sealed', u'pistachio', u'use', u'another', u'pistachio', u'shell', u'to', u'separate', u'the', u'nut', u'hard', u'to', u'crack', u'.', u'Think', u'no', u'way', u'to', u'eat', u'a', u'cupcake', u'without', u'getting', u'frosting', u'on', u'your', u'nose', u'?', u'Think', u'again', u'.', u'Get', u'rid', u'of', u'that', u'pesky', u'wrapper', u'slice', u'about', u'half', u'of', u'the', u'bottom', u'off', u'the', u'cupcake', u'then', u'make', u'a', u'frosting', u'sandwich', u'out', u'of', u'the', u'two', u'slices', u'.', u'With', u'that', u'delicious', u'gob', u'of', u'frosting', u'safely', u'in', u'between', u'two', u'pieces', u'of', u'cake', u'the', u'odds', u'of', u'frosting', u'all', u'over', u'your', u'face', u'will', u'be', u'minimized', u'.', u'A', u'fork', u'might', u'also', u'solve', u'this', u'problem', u'but', u'way', u'less', u'fun', u'.', u'Hard-shell', u'tacos', u'tend', u'to', u'fall', u'apart', u'leaving', u'too', u'many', u'meat', u'and', u'cheese', u'casualties', u'.', u'But', u'wrapping', u'a', u'tortilla', u'around', u'the', u'taco', u'will', u'help', u'.', u'The', u'food', u'that', u'would', u'normally', u'just', u'fall', u'will', u'be', u'caught', u'by', u'the', u'protective', u'tortilla', u'.', u'You', u'can', u'make', u'this', u'more', u'binding', u'with', u'a', u'layer', u'of', u'refried', u'beans', u'in', u'between', u'the', u'tortilla', u'and', u'the', u'taco', u'shell', u'.', u'Most', u'people', u'start', u'peeling', u'from', u'the', u'end', u'with', u'the', u'longer', u'stem', u'.', u'But', u'if', u'you', u'peel', u'from', u'the', u'bottom', u'it', u'will', u'be', u'easier', u'and', u'the', u'banana', u'will', u'contain', u'fewer', u'stringy', u'pieces', u'.', u'This', u'is', u'also', u'the', u'way', u'that', u'monkeys', u'open', u'their', u'bananas', u'so', u'you', u'know', u'right', u'.', u'DID', u'YOU', u'KNOW', u'?', u'Marlon', u'Brando', u'hated', u'memorizing', u'lines', u'so', u'much', u'that', u'he', u'posted', u'cue', u'cards', u'everywhere', u'to', u'help', u'him', u'get', u'through', u'scenes', u'.', u'He', u'even', u'asked', u'for', u'lines', u'to', u'be', u'written', u'on', u'an', u'actress', u\"'s\", u'posterior', u'.']\n",
        "Exemples for word:  that\n",
        "ADV"
       ]
      },
      {
       "output_type": "stream",
       "stream": "stdout",
       "text": [
        "  --->  [u'While', u'the', u'city', u'council', u'suggested', u'that', u'the', u'Legislative', u'Council', u'might', u'perform', u'the', u'review', u',', u'Mr.', u'Notte', u'said', u'that', u'instead', u'he', u'will', u'take', u'up', u'the', u'matter', u'with', u'Atty.', u'Gen.', u'J.', u'Joseph', u'Nugent', u'to', u'get', u'``', u'the', u'benefit', u'of', u'his', u'views', u\"''\", u'.']\n",
        "PRON  --->  [u'Regarding', u\"Atlanta's\", u'new', u'multi-million-dollar', u'airport', u',', u'the', u'jury', u'recommended', u'``', u'that', u'when', u'the', u'new', u'management', u'takes', u'charge', u'Jan.', u'1', u'the', u'airport', u'be', u'operated', u'in', u'a', u'manner', u'that', u'will', u'eliminate', u'political', u'influences', u\"''\", u'.']\n",
        "DET  --->  [u'``', u'Actually', u',', u'the', u'abuse', u'of', u'the', u'process', u'may', u'have', u'constituted', u'a', u'contempt', u'of', u'the', u'Criminal', u'court', u'of', u'Cook', u'county', u',', u'altho', u'vindication', u'of', u'the', u'authority', u'of', u'that', u'court', u'is', u'not', u'the', u'function', u'of', u'this', u'court', u\"''\", u',', u'said', u'Karns', u',', u'who', u'is', u'a', u'City', u'judge', u'in', u'East', u'St.', u'Louis', u'sitting', u'in', u'Cook', u'County', u'court', u'.']\n",
        "ADP  --->  [u'The', u'Fulton', u'County', u'Grand', u'Jury', u'said', u'Friday', u'an', u'investigation', u'of', u\"Atlanta's\", u'recent', u'primary', u'election', u'produced', u'``', u'no', u'evidence', u\"''\", u'that', u'any', u'irregularities', u'took', u'place', u'.']\n",
        "X"
       ]
      },
      {
       "output_type": "stream",
       "stream": "stdout",
       "text": [
        "  --->  [u'Thus', u',', u'as', u'a', u'development', u'program', u'is', u'being', u'launched', u',', u'commitments', u'and', u'obligations', u'must', u'be', u'entered', u'into', u'in', u'a', u'given', u'year', u'which', u'may', u'exceed', u'by', u'twofold', u'or', u'threefold', u'the', u'expenditures', u'to', u'be', u'made', u'in', u'that', u'year', u'.']\n",
        "Exemples for word:  open\n",
        "ADV"
       ]
      },
      {
       "output_type": "stream",
       "stream": "stdout",
       "text": [
        "  --->  [u'By', u'leaving', u'our', u'doors', u'open', u'the', u'United', u'States', u'gives', u'other', u'peoples', u'the', u'opportunity', u'to', u'see', u'us', u'and', u'to', u'compare', u',', u'he', u'said', u'.']\n",
        "NOUN"
       ]
      },
      {
       "output_type": "stream",
       "stream": "stdout",
       "text": [
        "  --->  [u'The', u\"world's\", u'best', u'golfer', u',', u'shooting', u'below', u'par', u',', u'came', u'to', u'the', u'last', u'hole', u'of', u'the', u'opening', u'round', u'of', u'the', u'Los', u'Angeles', u'open', u'with', u'every', u'intention', u'of', u'delivering', u'a', u'final', u'crusher', u'.']\n",
        "VERB"
       ]
      },
      {
       "output_type": "stream",
       "stream": "stdout",
       "text": [
        "  --->  [u'--', u'Engaging', u'mature', u',', u'experienced', u'men', u'to', u'pioneer', u'or', u'open', u'new', u'churches', u'in', u'strategic', u'population', u'centers', u'.']\n",
        "ADJ"
       ]
      },
      {
       "output_type": "stream",
       "stream": "stdout",
       "text": [
        "  --->  [u'Dumont', u'spoke', u'on', u'the', u'merit', u'of', u'having', u'an', u'open', u'primary', u'.']\n",
        "X"
       ]
      },
      {
       "output_type": "stream",
       "stream": "stdout",
       "text": [
        "  --->  [u'Recently', u'we', u'introduced', u'you', u'to', u'Matt', u'Jones', u'a', u'dude', u'in', u'a', u'hairnet', u'who', u'can', u'chop', u'up', u'an', u'entire', u'watermelon', u'in', u'21', u'seconds', u'(', u'and', u'keep', u'all', u'ten', u'of', u'his', u'fingers', u')', u'.', u'But', u'as', u'exciting', u'as', u'melon', u'dicing', u'can', u'be', u'this', u'fruit', u'video', u'(', u'above', u')', u'is', u'even', u'more', u'breathtaking', u'.', u'OK', u'maybe', u'we', u\"'re\", u'going', u'overboard', u'by', u'suggesting', u'it', u\"'ll\", u'take', u'your', u'breath', u'away', u'but', u'the', u'above', u'video', u'does', u'illustrate', u'how', u'to', u'consume', u'an', u'apple', u'the', u'less', u'wasteful', u'eating', u'all', u'of', u'it', u'core', u'and', u'all', u'.', u'The', u'traditional', u'style', u'of', u'apple', u'eating', u'the', u'video', u'explains', u'can', u'waste', u'up', u'to', u'a', u'third', u'of', u'the', u'super', u'fruit', u'.', u'We', u\"'re\", u'all', u'for', u'reducing', u'food', u'waste', u'but', u'how', u'does', u'a', u'person', u'eat', u'an', u'entire', u'apple', u'without', u'needing', u'a', u'whole', u'container', u'of', u'floss', u'to', u'clean', u'up', u'the', u'aftermath', u'?', u'The', u'video', u'pretty', u'much', u'speaks', u'for', u'itself', u'but', u'all', u'the', u'regular', u'apple', u'consumer', u'must', u'do', u'is', u'chomp', u'completely', u'top', u'to', u'of', u'right', u'to', u'left', u'.', u'Say', u'what', u'?', u'!', u'Produced', u'by', u'food', u'news', u'mavens', u'Foodbeast', u'the', u'clip', u'explains', u'that', u'eating', u'an', u'apple', u'around', u'its', u'core', u'is', u'simply', u'wrong', u'.', u'How', u'dare', u'you', u'.', u'When', u'Foodbeast', u'writer', u'Elie', u'Ayrouth', u'eats', u'the', u'apple', u'vertically', u'its', u'core', u'becomes', u'virtually', u'non-existant', u'.', u'This', u'hack', u'is', u\"n't\", u'super', u'revolutionary', u'(', u'and', u'we', u'ca', u\"n't\", u'promise', u'you', u'wo', u\"n't\", u'grow', u'an', u'apple', u'tree', u'inside', u'of', u'you', u')', u'but', u'it', u\"'s\", u'totally', u'worth', u'sharing', u'with', u'all', u'those', u'daring', u'noshers', u'out', u'there', u'.', u'You', u'think', u'you', u'know', u'how', u'to', u'eat', u'an', u'apple', u'but', u'you', u\"'re\", u'wrong', u'.', u'Back', u'in', u'November', u'FoodBeast', u'posted', u'a', u'video', u'called', u'to', u'Eat', u'an', u'Apple', u'Like', u'a', u'Boss', u\"''\", u'that', u'went', u'viral', u'.', u'The', u'clip', u'shows', u'that', u'rather', u'than', u'eating', u'an', u'apple', u'from', u'the', u'outside', u'in', u'to', u'the', u'wastes', u'approximately', u'30', u'percent', u'of', u'the', u'should', u'eat', u'it', u'from', u'the', u'top', u'down', u'.', u'The', u'core', u'simply', u'disappears', u'allowing', u'for', u'100', u'percent', u'consumption', u'of', u'the', u'apple', u'.', u'And', u'apples', u'are', u\"n't\", u'the', u'only', u'food', u'you', u\"'re\", u'eating', u'wrong', u'.', u'Here', u'are', u'eight', u'others', u'.', u'Drowning', u'your', u'pancakes', u'in', u'syrup', u'is', u'inefficient', u':', u'The', u'top', u'pancake', u'will', u'be', u'completely', u'soggy', u'while', u'the', u'middle', u'pancakes', u'are', u'totally', u'dry', u'.', u'The', u'solution', u':', u'Carve', u'a', u'hole', u'in', u'the', u'middle', u'of', u'your', u'stack', u'before', u'pouring', u'any', u'syrup', u'which', u'will', u'then', u'distribute', u'more', u'evenly', u'through', u'your', u'pancakes', u'.', u'If', u'eaten', u'a', u'PB', u'&', u'J', u'also', u'probably', u'had', u'a', u'dollop', u'of', u'jelly', u'seep', u'out', u'and', u'land', u'on', u'your', u'table', u'or', u'clothes', u'.', u'But', u'a', u'better', u'way', u'to', u'construct', u'this', u'staple', u'sandwich', u'that', u'stops', u'messy', u'drips', u':', u'Simply', u'fence', u'the', u'jelly', u'in', u'with', u'peanut', u'butter', u'.', u'Spread', u'as', u'much', u'peanut', u'butter', u'as', u'your', u'heart', u'desires', u'on', u'two', u'slices', u'of', u'bread', u'then', u'create', u'a', u'taller', u'border', u'with', u'peanut', u'butter', u'on', u'both', u'sides', u'.', u'On', u'one', u'slice', u'put', u'the', u'jelly', u'in', u'the', u'hole', u'that', u'the', u'border', u'creates', u'then', u'complete', u'your', u'sandwich', u'.', u'If', u'you', u'have', u'a', u'knife', u'handy', u'opening', u'oranges', u'have', u'to', u'be', u'a', u'hassle', u'.', u'Cut', u'small', u'slices', u'off', u'the', u'top', u'and', u'bottom', u'of', u'the', u'orange', u'.', u'Then', u'cut', u'a', u'slit', u'in', u'the', u'side', u'of', u'the', u'orange', u'.', u'The', u'orange', u'should', u'unroll', u'leaving', u'a', u'nice', u'row', u'of', u'slices', u'.', u'This', u'fruit', u'is', u'way', u'less', u'difficult', u'to', u'seed', u'if', u'you', u'use', u'a', u'bowl', u'of', u'water', u'.', u'First', u'cut', u'the', u'fruit', u'in', u'half', u'.', u'Then', u'submerge', u'the', u'fruit', u'in', u'cold', u'water', u'and', u'pull', u'the', u'fruit', u'apart', u'releasing', u'the', u'seeds', u'with', u'minimal', u'mess', u'.', u'The', u'unwanted', u'membrane', u'which', u'holds', u'the', u'seeds', u'will', u'even', u'rise', u'to', u'the', u'top', u'of', u'the', u'water', u'.', u'Never', u'break', u'a', u'nail', u'trying', u'to', u'open', u'a', u'sealed', u'pistachio', u'use', u'another', u'pistachio', u'shell', u'to', u'separate', u'the', u'nut', u'hard', u'to', u'crack', u'.', u'Think', u'no', u'way', u'to', u'eat', u'a', u'cupcake', u'without', u'getting', u'frosting', u'on', u'your', u'nose', u'?', u'Think', u'again', u'.', u'Get', u'rid', u'of', u'that', u'pesky', u'wrapper', u'slice', u'about', u'half', u'of', u'the', u'bottom', u'off', u'the', u'cupcake', u'then', u'make', u'a', u'frosting', u'sandwich', u'out', u'of', u'the', u'two', u'slices', u'.', u'With', u'that', u'delicious', u'gob', u'of', u'frosting', u'safely', u'in', u'between', u'two', u'pieces', u'of', u'cake', u'the', u'odds', u'of', u'frosting', u'all', u'over', u'your', u'face', u'will', u'be', u'minimized', u'.', u'A', u'fork', u'might', u'also', u'solve', u'this', u'problem', u'but', u'way', u'less', u'fun', u'.', u'Hard-shell', u'tacos', u'tend', u'to', u'fall', u'apart', u'leaving', u'too', u'many', u'meat', u'and', u'cheese', u'casualties', u'.', u'But', u'wrapping', u'a', u'tortilla', u'around', u'the', u'taco', u'will', u'help', u'.', u'The', u'food', u'that', u'would', u'normally', u'just', u'fall', u'will', u'be', u'caught', u'by', u'the', u'protective', u'tortilla', u'.', u'You', u'can', u'make', u'this', u'more', u'binding', u'with', u'a', u'layer', u'of', u'refried', u'beans', u'in', u'between', u'the', u'tortilla', u'and', u'the', u'taco', u'shell', u'.', u'Most', u'people', u'start', u'peeling', u'from', u'the', u'end', u'with', u'the', u'longer', u'stem', u'.', u'But', u'if', u'you', u'peel', u'from', u'the', u'bottom', u'it', u'will', u'be', u'easier', u'and', u'the', u'banana', u'will', u'contain', u'fewer', u'stringy', u'pieces', u'.', u'This', u'is', u'also', u'the', u'way', u'that', u'monkeys', u'open', u'their', u'bananas', u'so', u'you', u'know', u'right', u'.', u'DID', u'YOU', u'KNOW', u'?', u'Marlon', u'Brando', u'hated', u'memorizing', u'lines', u'so', u'much', u'that', u'he', u'posted', u'cue', u'cards', u'everywhere', u'to', u'help', u'him', u'get', u'through', u'scenes', u'.', u'He', u'even', u'asked', u'for', u'lines', u'to', u'be', u'written', u'on', u'an', u'actress', u\"'s\", u'posterior', u'.']\n",
        "find most ambiguous (n=4)\n",
        "down\n",
        "round\n",
        "damn\n",
        "out\n",
        "inside\n",
        "open\n",
        "to\n",
        "well\n",
        "outside\n",
        "that\n"
       ]
      },
      {
       "metadata": {},
       "output_type": "pyout",
       "prompt_number": 4,
       "text": [
        "[u'down',\n",
        " u'round',\n",
        " u'damn',\n",
        " u'out',\n",
        " u'inside',\n",
        " u'open',\n",
        " u'to',\n",
        " u'well',\n",
        " u'outside',\n",
        " u'that']"
       ]
      }
     ],
     "prompt_number": 4
    },
    {
     "cell_type": "code",
     "collapsed": false,
     "input": [],
     "language": "python",
     "metadata": {},
     "outputs": []
    }
   ],
   "metadata": {}
  }
 ]
}