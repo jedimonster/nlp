{
 "metadata": {
  "name": "",
  "signature": "sha256:adb2cd01b4ffedce72bebd4198c66aeabb33128e1ee6d2ab45c09070a72d6719"
 },
 "nbformat": 3,
 "nbformat_minor": 0,
 "worksheets": [
  {
   "cells": [
    {
     "cell_type": "heading",
     "level": 1,
     "metadata": {},
     "source": [
      "Testing Norvig's Word Segmenter"
     ]
    },
    {
     "cell_type": "heading",
     "level": 4,
     "metadata": {},
     "source": [
      "1) Define a method to turn Brown sentences into appropriate input for the segment2 function."
     ]
    },
    {
     "cell_type": "code",
     "collapsed": false,
     "input": [
      "def segment2_format(sent):\n",
      "    return [word.lower().translate(TRANSLATION_TABLE) for word in sent]"
     ],
     "language": "python",
     "metadata": {},
     "outputs": [],
     "prompt_number": 1
    },
    {
     "cell_type": "heading",
     "level": 4,
     "metadata": {},
     "source": [
      "2) Measure the accuracy of segment2 on the news category of the Brown corpus."
     ]
    },
    {
     "cell_type": "code",
     "collapsed": false,
     "input": [
      "from nltk.corpus import brown\n",
      "from wordSegment import segment2\n",
      "from testing_norvig import accuracy_of_segment2\n",
      "\n",
      "accuracy_of_segment2(segment2, brown.sents()[:150])"
     ],
     "language": "python",
     "metadata": {},
     "outputs": [
      {
       "output_type": "stream",
       "stream": "stdout",
       "text": [
        "Accuracy of segment2(): 0.89615354151650162\n"
       ]
      }
     ],
     "prompt_number": 2
    },
    {
     "cell_type": "heading",
     "level": 1,
     "metadata": {},
     "source": [
      "Testing Norvig's Word Segmenter Dependency on the Language Model\n",
      "\n"
     ]
    },
    {
     "cell_type": "code",
     "collapsed": false,
     "input": [
      "import wordSegment_small\n",
      "from testing_norvig import write_models_to_files\n",
      "\n",
      "words = brown.words()[:1000000]\n",
      "write_models_to_files(words)\n",
      "\n",
      "print 'Testing Accuracy on *first* 150 sentences'\n",
      "accuracy_of_segment2(wordSegment_small.segment2, brown.sents()[:150])\n",
      "\n",
      "print 'Testing Accuracy on *last* 150 sentences'\n",
      "accuracy_of_segment2(wordSegment_small.segment2, brown.sents()[-150:])\n"
     ],
     "language": "python",
     "metadata": {},
     "outputs": [
      {
       "output_type": "stream",
       "stream": "stdout",
       "text": [
        "Building new models\n",
        "Testing Accuracy on *first* 150 sentences"
       ]
      },
      {
       "output_type": "stream",
       "stream": "stdout",
       "text": [
        "\n",
        "Accuracy of segment2(): 0.92942401371632988"
       ]
      },
      {
       "output_type": "stream",
       "stream": "stdout",
       "text": [
        "\n",
        "Testing Accuracy on *last* 150 sentences\n",
        "Accuracy of segment2(): 0.66774606501025002"
       ]
      },
      {
       "output_type": "stream",
       "stream": "stdout",
       "text": [
        "\n"
       ]
      }
     ],
     "prompt_number": 3
    },
    {
     "cell_type": "raw",
     "metadata": {},
     "source": [
      "Answer: with smaller model (1,000,000 words, not all brown corpus) we got 0.92 accuracy\n",
      "when testing on first 150 sentences in brown.\n",
      "(This is cheating because our test & train data are the same).\n",
      "When testing on last 150 sentences in brown corpus the accuracy dropped to 0.66\n",
      "The original data files performed better on new data.\n",
      "Both original data and our data performed the same on learned brown data (but we cheated).\n",
      "(Or Maybe They also \"cheated\" and learned from brown...)\n"
     ]
    },
    {
     "cell_type": "heading",
     "level": 1,
     "metadata": {},
     "source": [
      "Compiling a Hebrew Language Model\n",
      "\n"
     ]
    },
    {
     "cell_type": "heading",
     "level": 4,
     "metadata": {},
     "source": [
      "1) Write a function getWords(w, t)"
     ]
    },
    {
     "cell_type": "code",
     "collapsed": false,
     "input": [
      "ALL_PREFIXES = [u'\u05d4', u'\u05d1', u'\u05db', u'\u05dc', u'\u05de', u'\u05de\u05db\u05e9' u'\u05de\u05d1', u'\u05d1\u05db\u05e9',  u'\u05d5', u'\u05db\u05e9',u'\u05de\u05e9', u'\u05dc\u05db\u05e9', u'\u05e9']\n",
      "\n",
      "PREFIXES = {\n",
      "    'DEF': [u'\u05d4'],\n",
      "    'PREPOSITION': [u'\u05d1', u'\u05db', u'\u05dc', u'\u05de', u'\u05de\u05db\u05e9' u'\u05de\u05d1', u'\u05d1\u05db\u05e9'],\n",
      "    'CONJ': [u'\u05d5'],\n",
      "    'TEMP': [u'\u05db\u05e9', u'\u05de\u05e9', u'\u05dc\u05db\u05e9'],\n",
      "    'REL': [u'\u05e9']\n",
      "}\n",
      "\n",
      "#Sort them by length\n",
      "ALL_PREFIXES.sort(key=len, reverse=True)\n",
      "for k in PREFIXES:\n",
      "    PREFIXES[k].sort(key=len, reverse=True)\n",
      "\n",
      "def getWords(word, tag):\n",
      "\n",
      "    prefix_tags = tag.getBguTag()[0]\n",
      "    word_index = 0\n",
      "    result = [] # (prefix_index, prefix len)\n",
      "\n",
      "    for prefix_tag, x in prefix_tags:\n",
      "        # print prefix_tag\n",
      "\n",
      "        if prefix_tag in PREFIXES:\n",
      "            possible_prefixes = PREFIXES[prefix_tag] + ALL_PREFIXES\n",
      "        else:\n",
      "            possible_prefixes = ALL_PREFIXES\n",
      "\n",
      "        if prefix_tag == 'DEF' and word[word_index] != PREFIXES['DEF'][0]:\n",
      "            # print 'Special Case. Invisible \"Ha\"'\n",
      "            result.append(PREFIXES['DEF'][0])\n",
      "            continue\n",
      "\n",
      "        for prefix in possible_prefixes:\n",
      "            if word[word_index:].startswith(prefix):\n",
      "                # print 'FOUND!!'\n",
      "                result.append(word[word_index:len(prefix)])\n",
      "                word_index += len(prefix)\n",
      "                # print prefix\n",
      "                break\n",
      "\n",
      "    result.append(word[word_index:])\n",
      "\n",
      "    return result\n"
     ],
     "language": "python",
     "metadata": {},
     "outputs": [],
     "prompt_number": 5
    },
    {
     "cell_type": "heading",
     "level": 4,
     "metadata": {},
     "source": [
      "2) Build hebrew model files"
     ]
    },
    {
     "cell_type": "code",
     "collapsed": false,
     "input": [
      "from BguCorpusReader import BguCorpusReader\n",
      "from hebrew import build_hebrew_models\n",
      "\n",
      "c = BguCorpusReader()\n",
      "tagged_words = c.tagged_words()\n",
      "\n",
      "build_hebrew_models(tagged_words)"
     ],
     "language": "python",
     "metadata": {},
     "outputs": [
      {
       "output_type": "stream",
       "stream": "stdout",
       "text": [
        "Calculating Accuracy of hebrew model...\n",
        "Calculating Accuracy *with* aggregation..\n",
        "printing original sentences\n",
        "\u05d0\u05dd \u05ea\u05d1\u05d5\u05e6\u05e2 \u05d4\u05e8\u05e4\u05d5\u05e8\u05de\u05d4 \u05d4\u05e8\u05d7\u05d1\u05d4 \u05d1\u05de\u05e9\u05e7 \u05d4\u05e1\u05d5\u05d1\u05d9\u05d9\u05d8\u05d9  \u05e9\u05d4\u05d3\u05d9\u05d5\u05df \u05d1\u05d4 \u05e2\u05de\u05d3 \u05dc\u05d4\u05d9\u05e4\u05ea\u05d7 \u05d0\u05ea\u05de\u05d5\u05dc  \u05ea\u05d4\u05d9\u05d4 \u05d6\u05d0\u05ea \u05d4\u05de\u05d4\u05e4\u05d9\u05db\u05d4 \u05d4\u05d2\u05d3\u05d5\u05dc\u05d4 \u05d1\u05d9\u05d5\u05ea\u05e8 \u05d1\u05db\u05dc\u05db\u05dc\u05ea \u05d1\u05e8\u05d9\u05d4\u05dd \u05de\u05d0\u05d6 \u05d4  \u05e0\u05d0\u05e3    \u05d4\u05ea\u05d5\u05db\u05e0\u05d9\u05ea \u05d4\u05db\u05dc\u05db\u05dc\u05d9\u05ea \u05d4\u05d7\u05d3\u05e9\u05d4 \n",
        "---------------------\n",
        "\u05d0\u05dd"
       ]
      },
      {
       "output_type": "stream",
       "stream": "stdout",
       "text": [
        " \u05ea\u05d1\u05d5\u05e6\u05e2 \u05d4\u05e8\u05e4\u05d5\u05e8\u05de\u05d4 \u05d4\u05e8\u05d7\u05d1\u05d4 \u05d1\u05de\u05e9\u05e7\u05d4 \u05e1\u05d5\u05d1\u05d9\u05d9\u05d8\u05d9 \u05e9\u05d4\u05d3\u05d9\u05d5\u05df \u05d1\u05d4\u05e2\u05de\u05d3 \u05dc\u05d4\u05d9\u05e4\u05ea\u05d7 \u05d0\u05ea\u05de\u05d5\u05dc \u05ea\u05d4\u05d9\u05d4 \u05d6\u05d0\u05ea \u05d4\u05de\u05d4\u05e4\u05d9\u05db\u05d4 \u05d4\u05d2\u05d3\u05d5\u05dc\u05d4 \u05d1\u05d9\u05d5\u05ea\u05e8 \u05d1\u05db\u05dc\u05db\u05dc\u05ea \u05d1\u05e8\u05d9\u05d4\u05dd \u05de\u05d0\u05d6 \u05d4\u05e0\u05d0\u05e3 \u05d4\u05ea\u05d5\u05db\u05e0\u05d9\u05ea\u05d4 \u05db\u05dc\u05db\u05dc\u05d9\u05ea \n",
        "==============\n",
        "printing original sentences\n",
        "  \u05e9\u05dc \u05dc\u05e0\u05d9\u05df \u05dc\u05e4\u05e0\u05d9 \u05db 07 \u05e9\u05e0\u05d4  \u05d4\u05d9\u05d0 \u05e2\u05dc\u05d5\u05dc\u05d4 \u05dc\u05d2\u05e8\u05d5\u05dd \u05dc\u05d6\u05e2\u05d6\u05d5\u05e2\u05d9\u05dd \u05d7\u05d1\u05e8\u05ea\u05d9\u05d9\u05dd \u05d5\u05e4\u05d5\u05dc\u05d9\u05d8\u05d9\u05d9\u05dd \u05e7\u05e9\u05d9\u05dd  \u05d0\u05d5\u05dc\u05dd  \u05d0\u05e3 \u05e9\u05d4\u05e8\u05e4\u05d5\u05e8\u05de\u05d4 \u05ea\u05d5\u05db\u05e0\u05e0\u05d4 \u05dc\u05e4\u05d9 \u05d4\u05d3\u05d5\u05d2\u05de\u05d4 \u05d4\u05e4\u05d5\u05dc\u05e0\u05d9\u05ea  \u05d4\u05d9\u05d0 \u05ea\u05d9\u05de\u05e0\u05e2 \u05de  \n",
        "---------------------\n",
        "\u05e9\u05dc\u05dc\u05e0\u05d9\u05df"
       ]
      },
      {
       "output_type": "stream",
       "stream": "stdout",
       "text": [
        " \u05dc\u05e4\u05e0\u05d9 \u05db07 \u05e9\u05e0\u05d4 \u05d4\u05d9\u05d0 \u05e2\u05dc\u05d5\u05dc\u05d4 \u05dc\u05d2\u05e8\u05d5\u05dd \u05dc\u05d6\u05e2\u05d6\u05d5\u05e2\u05d9\u05dd \u05d7\u05d1\u05e8\u05ea\u05d9\u05d9\u05dd \u05d5\u05e4\u05d5\u05dc\u05d9\u05d8\u05d9\u05d9\u05dd \u05e7\u05e9\u05d9\u05dd \u05d0\u05d5\u05dc\u05dd \u05d0\u05e3 \u05e9\u05d4\u05e8\u05e4\u05d5\u05e8\u05de\u05d4 \u05ea\u05d5\u05db\u05e0\u05e0\u05d4 \u05dc\u05e4\u05d9\u05d4 \u05d3\u05d5\u05d2\u05de\u05d4 \u05d4\u05e4\u05d5\u05dc\u05e0\u05d9\u05ea \u05d4\u05d9\u05d0 \n",
        "==============\n",
        "printing original sentences\n",
        "\u05e9\u05d9\u05d8\u05ea \u05d4\u05d4\u05dc\u05dd   \u05e2\u05d9 \u05de\u05d9\u05ea\u05d5\u05e0\u05d4 \u05d1\u05e9\u05ea\u05d9 \u05e0\u05e7\u05d5\u05d3\u05d5\u05ea \u05d7\u05e9\u05d5\u05d1\u05d5\u05ea  \u05d7\u05dc\u05e7\u05d9\u05dd \u05e7\u05e8\u05d9\u05d8\u05d9\u05d9\u05dd \u05e9\u05dc \u05d4\u05db\u05dc\u05db\u05dc\u05d4 \u05db\u05e0\u05e8\u05d0\u05d4 \u05d4\u05ea\u05e2\u05e9\u05d9\u05d5\u05ea \u05d4\u05db\u05d1\u05d3\u05d5\u05ea  \u05d4\u05de\u05db\u05e8\u05d5\u05ea \u05d5\u05d4\u05ea\u05d7\u05d1\u05d5\u05e8\u05d4 \u05d9\u05e9\u05d0\u05e8\u05d5 \u05d2\u05dd \u05dc\u05d4\u05d1\u05d0 \u05d1\u05e4\u05d9\u05e7\u05d5\u05d7 \u05de\u05de\u05e9\u05dc\u05ea\u05d9 \u05d9\u05e9\u05d9\u05e8  \u05d5\u05d9\u05d9\u05e2\u05e9\u05d5 \u05e6\u05e2\u05d3\u05d9\u05dd \u05dc\u05e8\u05d9\u05db\u05d5\u05da \n",
        "---------------------\n",
        "\u05e9\u05d9\u05d8\u05ea"
       ]
      },
      {
       "output_type": "stream",
       "stream": "stdout",
       "text": [
        " \u05d4\u05d4\u05dc\u05dd \u05e2\u05d9 \u05de\u05d9\u05ea\u05d5\u05e0\u05d4 \u05d1\u05e9\u05ea\u05d9 \u05e0\u05e7\u05d5\u05d3\u05d5\u05ea \u05d7\u05e9\u05d5\u05d1\u05d5\u05ea \u05d7\u05dc\u05e7\u05d9\u05dd \u05e7\u05e8\u05d9\u05d8\u05d9\u05d9\u05dd \u05e9\u05dc \u05d4\u05db\u05dc\u05db\u05dc\u05d4 \u05db\u05e0\u05e8\u05d0\u05d4 \u05d4\u05ea\u05e2\u05e9\u05d9\u05d5\u05ea \u05d4\u05db\u05d1\u05d3\u05d5\u05ea \u05d4\u05de\u05db\u05e8\u05d5\u05ea \u05d5\u05d4\u05ea\u05d7\u05d1\u05d5\u05e8\u05d4 \u05d9\u05e9\u05d0\u05e8\u05d5 \u05d2\u05dd \u05dc\u05d4\u05d1\u05d0 \u05d1\u05e4\u05d9\u05e7\u05d5\u05d7 \u05de\u05de\u05e9\u05dc\u05ea\u05d9 \u05d9\u05e9\u05d9\u05e8 \u05d5\u05d9\u05d9\u05e2\u05e9\u05d5 \u05e6\u05e2\u05d3\u05d9\u05dd \n",
        "==============\n",
        "printing original sentences\n",
        "\u05d4\u05d4\u05e9\u05e4\u05e2\u05d4 \u05d4\u05de\u05d9\u05d9\u05d3\u05d9\u05ea \u05e9\u05dc \u05d4\u05e8\u05e4\u05d5\u05e8\u05de\u05d5\u05ea \u05e2\u05dc \u05e8\u05de\u05ea \u05d4\u05d7\u05d9\u05d9\u05dd \u05e9\u05dc \u05d4\u05d0\u05d6\u05e8\u05d7\u05d9\u05dd  \u05e2\u05d9 \u05d4\u05e9\u05d0\u05e8\u05ea \u05d4\u05e4\u05d9\u05e7\u05d5\u05d7 \u05e2\u05dc \u05de\u05d5\u05e6\u05e8\u05d9\u05dd \u05d5\u05e9\u05d9\u05e8\u05d5\u05ea\u05d9\u05dd \u05d1\u05e1\u05d9\u05e1\u05d9\u05d9\u05dd  \u05d5\u05d4\u05e0\u05d4\u05d2\u05ea \u05ea\u05d5\u05e1\u05e4\u05ea \u05d9\u05d5\u05e7\u05e8 \u05dc\u05e4\u05d9 \u05d0\u05d9\u05e0\u05d3\u05e7\u05e1 \u05e9\u05d9\u05e9\u05e7\u05e3 \u05d0\u05ea \u05d4\u05d4\u05ea\u05d9\u05d9\u05e7\u05e8\u05d5\u05d9\u05d5\u05ea  \u05d4\u05e2\u05dc\u05d5\u05dc\u05d5\u05ea \u05dc\u05d4\u05d2\u05d9\u05e2 \u05e2\u05d3 \n",
        "---------------------\n",
        "\u05d4\u05d4\u05e9\u05e4\u05e2"
       ]
      },
      {
       "output_type": "stream",
       "stream": "stdout",
       "text": [
        " \u05d4\u05d4\u05de\u05d9\u05d9\u05d3\u05d9\u05ea \u05e9\u05dc \u05d4\u05e8\u05e4\u05d5\u05e8\u05de\u05d5\u05ea \u05e2\u05dc \u05e8\u05de\u05ea\u05d4 \u05d7\u05d9\u05d9\u05dd \u05e9\u05dc\u05d4 \u05d0\u05d6\u05e8\u05d7\u05d9\u05dd \u05e2\u05d9 \u05d4\u05e9\u05d0\u05e8\u05ea \u05d4\u05e4\u05d9\u05e7\u05d5\u05d7 \u05e2\u05dc \u05de\u05d5\u05e6\u05e8\u05d9\u05dd \u05d5\u05e9\u05d9\u05e8\u05d5\u05ea\u05d9\u05dd \u05d1\u05e1\u05d9\u05e1\u05d9\u05d9\u05dd \u05d5\u05d4\u05e0\u05d4\u05d2\u05ea \u05ea\u05d5\u05e1\u05e4\u05ea \u05d9\u05d5\u05e7\u05e8 \u05dc\u05e4\u05d9 \u05d0\u05d9\u05e0\u05d3\u05e7\u05e1 \u05e9\u05d9\u05e9\u05e7\u05e3 \u05d0\u05ea \u05d4\u05d4\u05ea\u05d9\u05d9\u05e7\u05e8\u05d5\u05d9\u05d5\u05ea \u05d4\u05e2\u05dc\u05d5\u05dc\u05d5\u05ea \n",
        "==============\n",
        "printing original sentences\n",
        " 001  \u05dc\u05d0 \u05d9\u05d4\u05d9\u05d4 \u05d6\u05d4  \u05d0\u05d9\u05e4\u05d5\u05d0  \u05d1\u05d9\u05e6\u05d5\u05e2 \u05de\u05dc\u05d0 \u05e9\u05dc \u05ea\u05d5\u05db\u05e0\u05d9\u05ea \u05d4\u05e8\u05e4\u05d5\u05e8\u05de\u05d5\u05ea \u05d4\u05e8\u05d3\u05d9\u05e7\u05dc\u05d9\u05ea  \u05d2\u05d5\u05e8\u05d1\u05e6\u05d5\u05d1 \u05e1\u05d1\u05d5\u05e8  \u05db\u05e0\u05e8\u05d0\u05d4  \u05e9\u05db\u05de\u05d5 \u05e9\u05d0\u05d9\u05df \u05e1\u05d9\u05db\u05d5\u05d9 \u05dc\u05d4\u05d1\u05e8\u05d9\u05d0 \u05d0\u05ea \u05d4\u05de\u05e9\u05e7 \u05d4\u05e1\u05d5\u05d1\u05d9\u05d9\u05d8\u05d9 \u05d1\u05e9\u05d9\u05d8\u05d4 \u05d4\u05d4\u05d3\u05e8\u05d2\u05ea\u05d9\u05ea \n",
        "---------------------\n",
        "001"
       ]
      },
      {
       "output_type": "stream",
       "stream": "stdout",
       "text": [
        " \u05dc\u05d0 \u05d9\u05d4\u05d9\u05d4 \u05d6\u05d4 \u05d0\u05d9\u05e4\u05d5\u05d0 \u05d1\u05d9\u05e6\u05d5\u05e2 \u05de\u05dc\u05d0 \u05e9\u05dc \u05ea\u05d5\u05db\u05e0\u05d9\u05ea\u05d4 \u05e8\u05e4\u05d5\u05e8\u05de\u05d5\u05ea \u05d4\u05e8\u05d3\u05d9\u05e7\u05dc\u05d9\u05ea \u05d2\u05d5\u05e8\u05d1\u05e6\u05d5\u05d1 \u05e1\u05d1\u05d5\u05e8 \u05db\u05e0\u05e8\u05d0\u05d4 \u05e9\u05db\u05de\u05d5 \u05e9\u05d0\u05d9\u05df \u05e1\u05d9\u05db\u05d5\u05d9 \u05dc\u05d4\u05d1\u05e8\u05d9\u05d0 \u05d0\u05ea \u05d4\u05de\u05e9\u05e7 \u05d4\u05e1\u05d5\u05d1\u05d9\u05d9\u05d8\u05d9 \u05d1\u05e9\u05d9\u05d8 \u05d4\u05d4 \n",
        "==============\n",
        "Accuracy of segment2(): 0.69945186079005639\n",
        "Building new models"
       ]
      },
      {
       "output_type": "stream",
       "stream": "stdout",
       "text": [
        "\n"
       ]
      }
     ],
     "prompt_number": 6
    },
    {
     "cell_type": "heading",
     "level": 4,
     "metadata": {},
     "source": [
      "3) Test Accuracy of segment2 on new files created"
     ]
    },
    {
     "cell_type": "code",
     "collapsed": false,
     "input": [
      "from hebrew import get_hebrew_sentences\n",
      "from testing_norvig import accuracy_of_segment2\n",
      "import wordSegment_hebrew\n",
      "\n",
      "print 'Calculating Accuracy *without* aggregation..'\n",
      "accuracy_of_segment2(wordSegment_hebrew.segment2, get_hebrew_sentences(tagged_words, 200))\n"
     ],
     "language": "python",
     "metadata": {},
     "outputs": [
      {
       "output_type": "stream",
       "stream": "stdout",
       "text": [
        "Calculating Accuracy *without* aggregation..\n",
        "Accuracy of segment2(): 0.46316317148594027\n"
       ]
      }
     ],
     "prompt_number": 8
    },
    {
     "cell_type": "heading",
     "level": 4,
     "metadata": {},
     "source": [
      "7) Derive a function from segment2 that will only segment real Hebrew tokens"
     ]
    },
    {
     "cell_type": "code",
     "collapsed": false,
     "input": [
      "def segment2_hebrew(sents_no_spaces):\n",
      "    res = wordSegment_hebrew.segment2(sents_no_spaces)[1]\n",
      "    output = []\n",
      "    orig_index = 0\n",
      "    while orig_index < len(res)-2:\n",
      "        word = res[orig_index]\n",
      "        while res[orig_index] in ALL_PREFIXES and orig_index < len(res)-2:\n",
      "            word += res[orig_index+1]\n",
      "            orig_index += 1\n",
      "\n",
      "        output.append(word)\n",
      "        orig_index += 1\n",
      "\n",
      "    return output"
     ],
     "language": "python",
     "metadata": {},
     "outputs": [],
     "prompt_number": 9
    },
    {
     "cell_type": "heading",
     "level": 4,
     "metadata": {},
     "source": [
      "8) Evaluate the accuracy of this word segmenter"
     ]
    },
    {
     "cell_type": "code",
     "collapsed": false,
     "input": [
      "from testing_norvig import accuracy_of_segment2_hebrew\n",
      "\n",
      "print 'Calculating Accuracy *with* aggregation..'\n",
      "accuracy_of_segment2_hebrew(segment2_hebrew, get_hebrew_sentences(tagged_words, 200))\n"
     ],
     "language": "python",
     "metadata": {},
     "outputs": [
      {
       "output_type": "stream",
       "stream": "stdout",
       "text": [
        "Calculating Accuracy *with* aggregation..\n"
       ]
      },
      {
       "ename": "TypeError",
       "evalue": "get_hebrew_sentences() takes exactly 2 arguments (1 given)",
       "output_type": "pyerr",
       "traceback": [
        "\u001b[1;31m---------------------------------------------------------------------------\u001b[0m\n\u001b[1;31mTypeError\u001b[0m                                 Traceback (most recent call last)",
        "\u001b[1;32m<ipython-input-11-1d9497c961a3>\u001b[0m in \u001b[0;36m<module>\u001b[1;34m()\u001b[0m\n\u001b[0;32m      2\u001b[0m \u001b[1;33m\u001b[0m\u001b[0m\n\u001b[0;32m      3\u001b[0m \u001b[1;32mprint\u001b[0m \u001b[1;34m'Calculating Accuracy *with* aggregation..'\u001b[0m\u001b[1;33m\u001b[0m\u001b[0m\n\u001b[1;32m----> 4\u001b[1;33m \u001b[0maccuracy_of_segment2_hebrew\u001b[0m\u001b[1;33m(\u001b[0m\u001b[0msegment2_hebrew\u001b[0m\u001b[1;33m,\u001b[0m \u001b[0mget_hebrew_sentences\u001b[0m\u001b[1;33m(\u001b[0m\u001b[0mtagged_words\u001b[0m\u001b[1;33m)\u001b[0m\u001b[1;33m)\u001b[0m\u001b[1;33m\u001b[0m\u001b[0m\n\u001b[0m",
        "\u001b[1;31mTypeError\u001b[0m: get_hebrew_sentences() takes exactly 2 arguments (1 given)"
       ]
      }
     ],
     "prompt_number": 11
    },
    {
     "cell_type": "code",
     "collapsed": false,
     "input": [],
     "language": "python",
     "metadata": {},
     "outputs": [],
     "prompt_number": 20
    },
    {
     "cell_type": "code",
     "collapsed": false,
     "input": [],
     "language": "python",
     "metadata": {},
     "outputs": []
    }
   ],
   "metadata": {}
  }
 ]
}