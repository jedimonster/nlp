{
 "metadata": {
  "name": "",
  "signature": "sha256:284461175bcf6a88e4b0566d963461dce64a5fb1e0b91f01664fc2761adbb55b"
 },
 "nbformat": 3,
 "nbformat_minor": 0,
 "worksheets": [
  {
   "cells": [
    {
     "cell_type": "heading",
     "level": 1,
     "metadata": {},
     "source": [
      "Question 3.1"
     ]
    },
    {
     "cell_type": "markdown",
     "metadata": {},
     "source": [
      "Nothing to do here. code for using the curpos is in 3.3."
     ]
    },
    {
     "cell_type": "heading",
     "level": 1,
     "metadata": {},
     "source": [
      "Question 3.2"
     ]
    },
    {
     "cell_type": "heading",
     "level": 2,
     "metadata": {},
     "source": [
      "something something long-arguably-English-sentence"
     ]
    },
    {
     "cell_type": "heading",
     "level": 2,
     "metadata": {},
     "source": [
      "Show that this version of Naive Bayes implements a version of the \"all-vs-all\" multi-class strategy"
     ]
    },
    {
     "cell_type": "markdown",
     "metadata": {},
     "source": [
      "We note that this version of naive bayes uses the following classification rule:"
     ]
    },
    {
     "cell_type": "markdown",
     "metadata": {},
     "source": [
      "<img src=\"./pictures/classification-rule.png\"/>"
     ]
    },
    {
     "cell_type": "markdown",
     "metadata": {},
     "source": [
      "This is evident in the following lines (in prob_classify):"
     ]
    },
    {
     "cell_type": "markdown",
     "metadata": {},
     "source": [
      "<pre>\n",
      "for label in self._labels:\n",
      "    logprob[label] = self._label_probdist.logprob(label)\n",
      "\n",
      "    # Then add in the log probability of features given labels.\n",
      "for label in self._labels:\n",
      "    for (fname, fval) in featureset.items():\n",
      "        if (label, fname) in self._feature_probdist:\n",
      "            feature_probs = self._feature_probdist[label, fname]\n",
      "            logprob[label] += feature_probs.logprob(fval)\n",
      "        else:\n",
      "            # nb: This case will never come up if the\n",
      "            # classifier was created by\n",
      "            # NaiveBayesClassifier.train().\n",
      "            logprob[label] += sum_logs([])  # = -INF.\n",
      "</pre>                    "
     ]
    },
    {
     "cell_type": "markdown",
     "metadata": {},
     "source": [
      "Where theta is estimated in the ELEProbDist estimator (used in the training method to generate the feature_probdist DictProbDist).<br/>\n",
      "Which means, nltk implements the 'normal' naive bayse classifier, but according to <a href=\"https://www.ke.tu-darmstadt.de/~juffi/publications/ecml-07-NaiveBayes.pdf\">this paper</a> (On Pairwise Naive Bayes Classifiers, Jan-Nikolas Sulzmann\n",
      ", Johannes F\u00a8urnkranz\n",
      ", and Eyke H\u00a8ullermeier), it is equivalent to the pairwise (one vs one) version (conclusion in abstract, proof in section 4).<br/>\n",
      "We note this is not the multinomial version, which is discussed in Tackling the Poor Assumptions of Naive Bayes Text Classifiers, Rennie et al, ICML 2003."
     ]
    },
    {
     "cell_type": "heading",
     "level": 1,
     "metadata": {},
     "source": [
      "Q3.3 One-vs-all Naive Bayes for Multi-label Classification"
     ]
    },
    {
     "cell_type": "heading",
     "level": 2,
     "metadata": {},
     "source": [
      "Running the original nltk naive baise"
     ]
    },
    {
     "cell_type": "markdown",
     "metadata": {},
     "source": [
      "First we need to create our features, let's sort the words according to frequency in the curpos."
     ]
    },
    {
     "cell_type": "code",
     "collapsed": false,
     "input": [
      "from nltk.corpus import reuters\n",
      "from collections import defaultdict\n",
      "\n",
      "words = reuters.words()\n",
      "word_freq = defaultdict(int)\n",
      "for word in words:\n",
      "    word_freq[word] += 1\n",
      "\n",
      "sorted_words = sorted(set(words), key=word_freq.get, reverse=True)\n",
      "\n",
      "for word in sorted_words[:10]:\n",
      "    print word, \":\", word_freq[word]"
     ],
     "language": "python",
     "metadata": {},
     "outputs": [
      {
       "output_type": "stream",
       "stream": "stdout",
       "text": [
        ". : 94687\n",
        ", : 72360\n",
        "the : 58251\n",
        "of : 35979\n",
        "to : 34035\n",
        "in : 26478\n",
        "said : 25224\n",
        "and : 25043\n",
        "a : 23492\n",
        "mln : 18037\n"
       ]
      }
     ],
     "prompt_number": 2
    },
    {
     "cell_type": "markdown",
     "metadata": {},
     "source": [
      "we notice that we get a lot of punctuation marks, so we'll make the assumption one letter words are useless (we'll verify we didn't hurt accuracy later):"
     ]
    },
    {
     "cell_type": "code",
     "collapsed": false,
     "input": [
      "most_frequent_words = filter(lambda w: len(w) > 1, sorted_words)\n",
      "print len(most_frequent_words)\n",
      "print most_frequent_words[:10]"
     ],
     "language": "python",
     "metadata": {},
     "outputs": [
      {
       "output_type": "stream",
       "stream": "stdout",
       "text": [
        "41524\n",
        "[u'the', u'of', u'to', u'in', u'said', u'and', u'mln', u'vs', u'for', u'dlrs']\n"
       ]
      }
     ],
     "prompt_number": 3
    },
    {
     "cell_type": "markdown",
     "metadata": {},
     "source": [
      "a feature will be a word, and the value will be the frequency.<br/>\n",
      "We'll define both bag_of_words_freq and bag_of_words (binary). We expect frequency to yield better results.<br/>\n",
      "We'll also define get_dataset(K, feature_extractor) where K is the number of words to  use, and feature extractor is the method that generates the bag of word.<br/>"
     ]
    },
    {
     "cell_type": "code",
     "collapsed": false,
     "input": [
      "def bag_of_words_freq(document, words):\n",
      "    bag = dict((word, 0) for word in words)\n",
      "    \n",
      "    for word in document:\n",
      "        if word in words:\n",
      "            bag[word] += 1\n",
      "            \n",
      "    return bag\n",
      "\n",
      "def bag_of_words(document, words):\n",
      "    document_set = set(document)\n",
      "    intersection = document_set.intersection(words)\n",
      "    return dict([(word, (word in intersection)) for word in words])"
     ],
     "language": "python",
     "metadata": {},
     "outputs": [],
     "prompt_number": 4
    },
    {
     "cell_type": "markdown",
     "metadata": {},
     "source": [
      "define a small test with a couple of fabricated document that should be linearly separateable:"
     ]
    },
    {
     "cell_type": "code",
     "collapsed": false,
     "input": [
      "finance_doc = \"money money money money money money money money money money\".split(\" \") # 10 occurences of money\n",
      "cs_doc = \"bit bit bit bit bit bit bit bit bit bit\".split(\" \") # 10 occurency of bit\n",
      "finance_test = \"money money money money money money money money money money money\" # 11 occurences\n",
      "cs_test = \"bit bit bit bit bit bit bit bit bit bit bit\".split(\" \") # 11 occurences\n",
      "\n",
      "v = set([\"bit\",\"money\"])\n",
      "\n",
      "train_featuresets = [(bag_of_words_freq(finance_doc, v), \"finance\"), (bag_of_words_freq(cs_doc, v), \"CS\")] \n",
      "test_featuresets = [(bag_of_words_freq(finance_test, v), \"finance\"), (bag_of_words_freq(cs_test, v), \"CS\")] \n",
      "\n",
      "print train_featuresets"
     ],
     "language": "python",
     "metadata": {},
     "outputs": [
      {
       "output_type": "stream",
       "stream": "stdout",
       "text": [
        "[({'money': 10, 'bit': 0}, 'finance'), ({'money': 0, 'bit': 10}, 'CS')]\n"
       ]
      }
     ],
     "prompt_number": 4
    },
    {
     "cell_type": "code",
     "collapsed": false,
     "input": [
      "from nltk import NaiveBayesClassifier as NB\n",
      "\n",
      "finance_doc = \"money money money money money money money money money money\".split(\" \") # 10 occurences of money\n",
      "cs_doc = \"bit bit bit bit bit bit bit bit bit bit\".split(\" \") # 10 occurency of bit\n",
      "finance_test = \"money money money money money money money money money money money\".split(\" \") # 11 occurences\n",
      "cs_test = \"bit bit bit bit bit bit bit bit bit bit bit\".split(\" \") # 11 occurences\n",
      "\n",
      "v = set([\"bit\",\"money\"])\n",
      "\n",
      "train_featuresets = [(bag_of_words_freq(finance_doc, v), \"finance\"), (bag_of_words_freq(cs_doc, v), \"CS\")]\n",
      "test_featuresets = [(bag_of_words_freq(finance_test, v), \"finance\"), (bag_of_words_freq(cs_test, v), \"CS\")]\n",
      "        \n",
      "classifier = NB.train(train_featuresets)\n",
      "\n",
      "print \"verifying the training data is classified correctly:\"\n",
      "for featureset, label in train_featuresets:\n",
      "    print \"probdist for featureset %s\\n%s\\n\" % (featureset, repr(classifier.prob_classify(featureset)._prob_dict.items()))\n",
      "    \n",
      "print \"trying to classify test set:\"\n",
      "for featureset, label in test_featuresets:\n",
      "    print \"probdist for featureset %s\\n%s\\n\" % (featureset, repr(classifier.prob_classify(featureset)._prob_dict.items()))"
     ],
     "language": "python",
     "metadata": {},
     "outputs": [
      {
       "output_type": "stream",
       "stream": "stdout",
       "text": [
        "verifying the training data is classified correctly:\n",
        "probdist for featureset {'money': 10, 'bit': 0}\n",
        "[('CS', -3.321928094887362), ('finance', -0.15200309344505003)]\n",
        "\n",
        "probdist for featureset {'money': 0, 'bit': 10}\n",
        "[('CS', -0.15200309344505003), ('finance', -3.321928094887362)]\n",
        "\n",
        "trying to classify test set:\n",
        "probdist for featureset {'money': 11, 'bit': 0}\n",
        "[('CS', -2.0), ('finance', -0.4150374992788439)]\n",
        "\n",
        "probdist for featureset {'money': 0, 'bit': 11}\n",
        "[('CS', -0.4150374992788439), ('finance', -2.0)]\n",
        "\n"
       ]
      }
     ],
     "prompt_number": 5
    },
    {
     "cell_type": "markdown",
     "metadata": {},
     "source": [
      "That <i>looks</i> correct, but the truth is, if we look at the test featureset for CS, it has the feature 'money' with value 0, which has higher probability to be in the CS label, whereas the feature 'bit' with value 11 has the same probability in both labels (evident from the classification rule presented in 3.2).<br/>\n",
      "That means, if a certain word has high frequency in one label, and a low frequency in another label, it will only affect classification if we've seen <b>that exact frequency</b> during training. Because of this, we don't believe frequency can yield better results than binary bag of words with this classifier."
     ]
    },
    {
     "cell_type": "markdown",
     "metadata": {},
     "source": [
      "We'll now define methods to get a classifier and generators for the train and test featuresets, because otherwise we'll end up with huge arrays dangling.<br/>\n",
      "At this point we have to deal with the fact a document can belong to multiple labels. we decided to train with the first label that appears, and test with it as well. <br/>"
     ]
    },
    {
     "cell_type": "code",
     "collapsed": false,
     "input": [
      "# def get_featuresets(feature_extractor, v, section):\n",
      "#     for category in reuters.categories():\n",
      "#         for fileid in reuters.fileids(categories=category):\n",
      "#             featureset = feature_extractor(reuters.words(fileids=[fileid]), v)\n",
      "#             if fileid[:len(section)] == section:\n",
      "#                 yield (featureset, category)\n",
      "def get_featuresets(feature_extractor, v, section):\n",
      "   for fileid in reuters.fileids():\n",
      "        featureset = feature_extractor(reuters.words(fileids=[fileid]), v)\n",
      "        category = reuters.categories(fileid)[0]\n",
      "        if fileid[:len(section)] == section:\n",
      "            yield (featureset, category)"
     ],
     "language": "python",
     "metadata": {},
     "outputs": [],
     "prompt_number": 5
    },
    {
     "cell_type": "code",
     "collapsed": false,
     "input": [
      "train_featuresets = get_featuresets(bag_of_words_freq, most_frequent_words[:1000], \"training\")\n",
      "print next(train_featuresets)"
     ],
     "language": "python",
     "metadata": {},
     "outputs": [
      {
       "output_type": "stream",
       "stream": "stdout",
       "text": [
        "({u'Canada': 0, u'all': 1, u'consider': 0, u'RATE': 0, u'issued': 0, u'LTD': 0, u'dollar': 0, u'results': 0, u'month': 0, u'four': 0, u'ministers': 0, u'ON': 0, u'Department': 0, u'issues': 0, u'excludes': 0, u'GROUP': 0, u'hold': 0, u're': 0, u'producing': 0, u'to': 14, u'charge': 0, u'program': 0, u'quotas': 0, u'supplies': 0, u'under': 1, u'include': 0, u'worth': 0, u'pact': 0, u'Canadian': 0, u'very': 0, u'rise': 0, u'additional': 0, u'fall': 0, u'exporters': 1, u'continued': 1, u'service': 0, u'pre': 0, u'level': 0, u'--': 0, u'MONEY': 0, u'companies': 0, u'large': 0, u'German': 0, u'small': 0, u'study': 0, u'div': 0, u'noted': 0, u'Central': 0, u'Reagan': 0, u'estimates': 1, u'PCT': 0, u'cash': 0, u'past': 0, u'talks': 0, u'likely': 0, u'cost': 0, u'go': 0, u'growing': 0, u'further': 0, u'estimated': 1, u'investment': 0, u'MARKET': 0, u'even': 0, u'DLRS': 0, u'what': 0, u'Korea': 0, u'probably': 0, u'USAir': 0, u'near': 0, u'shares': 0, u'spokesman': 0, u'above': 0, u'capital': 0, u'new': 0, u'net': 0, u'America': 0, u'boost': 0, u'public': 0, u'steel': 0, u'told': 0, u'full': 0, u'led': 0, u'exchange': 0, u'respectively': 0, u'marketing': 0, u'commercial': 0, u'here': 0, u'monetary': 0, u'reported': 0, u'operating': 0, u'free': 0, u'Ltd': 0, u'100': 0, u'strong': 0, u'change': 0, u'39': 1, u'38': 0, u'division': 0, u'cts': 0, u'33': 0, u'32': 0, u'31': 0, u'30': 0, u'37': 0, u'36': 0, u'35': 1, u'34': 0, u'prior': 0, u'amount': 0, u'products': 0, u'analysts': 0, u'action': 0, u'changes': 0, u'delegates': 0, u'INC': 0, u'Economic': 0, u'Group': 0, u'members': 0, u'CTS': 0, u'45': 1, u'private': 0, u'repurchase': 0, u'4TH': 0, u'89': 0, u'soybean': 0, u'total': 2, u'estimate': 0, u'unit': 0, u'Europe': 0, u'shareholders': 0, u'Australia': 0, u'from': 0, u'August': 0, u'would': 1, u'42': 0, u'June': 3, u'two': 0, u'next': 0, u'few': 1, u'Corp': 0, u'SETS': 0, u'taken': 0, u'francs': 0, u'markets': 0, u'until': 0, u'today': 0, u'more': 0, u'Savings': 0, u'October': 0, u'on': 3, u'share': 0, u'company': 0, u'marks': 0, u'pipeline': 0, u'99': 0, u'98': 0, u'American': 0, u'sharply': 0, u'1ST': 0, u'90': 0, u'93': 1, u'92': 0, u'95': 0, u'must': 0, u'LOSS': 0, u'account': 0, u'rights': 0, u'this': 2, u'work': 0, u'Pacific': 0, u'remain': 0, u'nine': 0, u'can': 0, u'December': 0, u'following': 0, u'making': 1, u'revenues': 0, u'National': 0, u'Inc': 0, u'control': 0, u'purchases': 0, u'figure': 0, u'give': 0, u'Federal': 0, u'Dutch': 0, u'tax': 0, u'high': 0, u'currency': 2, u'reserves': 0, u'want': 0, u'extraordinary': 0, u'sharp': 0, u'Australian': 0, u',\"': 0, u'provide': 0, u'six': 0, u'traders': 0, u'far': 0, u'earnings': 0, u'fourth': 0, u'if': 0, u'economy': 0, u'plant': 0, u'STAKE': 0, u'plans': 0, u'effect': 0, u'may': 0, u'earlier': 1, u'them': 0, u'British': 0, u'reflect': 0, u'Paris': 0, u'restructuring': 0, u'such': 0, u'data': 0, u'response': 0, u'BANK': 0, u'purchase': 0, u'short': 0, u'natural': 0, u'third': 0, u'slightly': 0, u'quoted': 0, u'futures': 0, u'Japanese': 0, u'Community': 0, u'discontinued': 0, u'like': 0, u'chief': 0, u'so': 0, u'increasing': 0, u'allow': 0, u'banks': 0, u'credits': 0, u'began': 0, u'operations': 0, u'help': 0, u'producer': 0, u'over': 1, u'move': 0, u'expects': 0, u'trade': 0, u'stability': 0, u'ended': 1, u'already': 0, u'through': 0, u'committee': 0, u'North': 0, u'still': 3, u'its': 1, u'Texas': 0, u'before': 0, u'24': 0, u'25': 3, u'26': 0, u'27': 4, u'March': 4, u'21': 0, u'22': 1, u'23': 0, u'28': 2, u'29': 0, u'pct': 0, u'late': 1, u'lt': 0, u'production': 0, u'disclosed': 0, u'400': 2, u'policy': 0, u'World': 0, u'weeks': 1, u'main': 0, u'might': 0, u'then': 0, u'Shr': 0, u'good': 1, u'return': 0, u'finance': 0, u'seeking': 0, u'food': 0, u'BUYS': 0, u'undisclosed': 0, u'JAN': 0, u'they': 0, u'half': 0, u'not': 1, u'now': 1, u'provision': 0, u'day': 0, u'bank': 0, u'FIRST': 0, u'PAYOUT': 0, u'cocoa': 5, u'term': 0, u'name': 0, u'drop': 0, u'47': 0, u'gave': 0, u'did': 0, u'IT': 0, u'each': 0, u'rising': 0, u'raised': 0, u'quarter': 0, u'Agriculture': 0, u'pressure': 0, u'barrels': 0, u'development': 0, u'financial': 0, u'>.': 0, u'proposals': 0, u'energy': 0, u'revised': 0, u'reduce': 0, u'product': 0, u'88': 1, u'used': 0, u'trading': 0, u'expect': 0, u'year': 2, u'our': 0, u'80': 0, u'86': 0, u'87': 1, u'special': 0, u'out': 0, u'PRICES': 0, u'profit': 0, u'since': 1, u'increase': 0, u'farm': 0, u'China': 0, u'shipment': 2, u'issue': 0, u'announced': 0, u'Commerce': 0, u'SHR': 0, u'after': 1, u'This': 0, u'Indonesia': 0, u'directors': 0, u'little': 0, u'EC': 0, u'20': 0, u'Record': 0, u'base': 0, u'Nine': 0, u'Qtly': 0, u'put': 0, u'Iran': 0, u'reporters': 0, u'Finance': 0, u'Monday': 0, u'September': 0, u'could': 0, u'days': 0, u'keep': 0, u'59': 0, u'levels': 1, u'JAPAN': 0, u'support': 0, u'first': 0, u'Brazil': 0, u'major': 0, u'industrial': 0, u'economists': 0, u'meet': 0, u'There': 1, u'number': 0, u'owned': 0, u'one': 0, u'date': 0, u'>,': 0, u'1988': 0, u'another': 0, u'president': 0, u'qtr': 0, u'Revs': 0, u'strike': 0, u'open': 2, u'tomorrow': 0, u'given': 0, u'management': 0, u'QTR': 0, u'Congress': 0, u'needed': 0, u'leading': 0, u'Iranian': 0, u'system': 0, u'least': 0, u'TRADE': 0, u'their': 1, u'rates': 0, u'stock': 0, u'statement': 0, u'which': 1, u'final': 0, u'Association': 0, u'too': 0, u'interests': 0, u'selling': 1, u'that': 1, u'season': 1, u'completed': 0, u'acquire': 0, u'part': 1, u'crop': 5, u'Minister': 0, u'believe': 0, u'than': 0, u'MAY': 0, u'11': 0, u'10': 0, u'13': 1, u'stg': 0, u'15': 1, u'14': 0, u'17': 0, u'16': 0, u'19': 0, u'18': 0, u'rate': 0, u'nations': 0, u'states': 0, u'future': 0, u'were': 9, u'acquisition': 0, u'result': 0, u'and': 23, u'better': 0, u'investors': 0, u'outstanding': 0, u'imports': 0, u'unchanged': 0, u'mine': 0, u'say': 0, u'INDUSTRIES': 0, u'have': 2, u'need': 0, u'One': 0, u'seek': 0, u'any': 0, u'sell': 0, u'Oil': 0, u'dollars': 0, u'agency': 0, u'also': 1, u'without': 0, u'Germany': 0, u'take': 0, u'They': 0, u'funds': 0, u'Bank': 0, u'shipments': 0, u'200': 0, u'added': 0, u'64': 0, u'index': 0, u'buffer': 0, u'price': 0, u'who': 0, u'MLN': 0, u'quota': 0, u'paid': 0, u'77': 0, u'most': 0, u'75': 0, u'BUY': 0, u'eight': 0, u'plan': 0, u'letter': 0, u'70': 0, u'services': 0, u'The': 1, u'approved': 0, u'79': 0, u'Reserve': 0, u'And': 0, u'Total': 1, u'FROM': 0, u'dealers': 0, u'average': 0, u'later': 0, u'Some': 0, u'sale': 0, u'order': 0, u'barrel': 0, u'latest': 0, u'consumer': 0, u'filing': 0, u'RAISES': 0, u'sector': 0, u'saying': 0, u'currently': 1, u'surplus': 0, u'gold': 0, u'show': 0, u'Union': 0, u'agreed': 0, u'ending': 0, u'83': 0, u'Reuters': 0, u'businesses': 0, u'Under': 0, u'Bundesbank': 0, u'line': 0, u'Resources': 0, u'European': 0, u'impact': 0, u'current': 0, u'We': 0, u'based': 0, u'just': 0, u'merger': 0, u'shareholder': 0, u'less': 0, u'French': 0, u'should': 0, u'only': 1, u'going': 1, u'York': 8, u'equity': 0, u'local': 0, u'do': 0, u'exports': 0, u'his': 0, u'hit': 0, u'gains': 0, u'get': 0, u'contracts': 0, u'de': 0, u'financing': 0, u'preferred': 0, u'soon': 0, u'joint': 0, u'12': 0, u'international': 0, u'report': 0, u'during': 0, u'years': 0, u'Soviet': 0, u'firms': 0, u'target': 0, u'produced': 0, u'shr': 0, u'OIL': 0, u'showed': 0, u'countries': 0, u'areas': 2, u'Washington': 0, u'think': 0, u'morning': 0, u'banking': 0, u'common': 0, u'including': 0, u'fixed': 0, u'where': 0, u'declared': 0, u'set': 0, u'SAYS': 0, u'For': 0, u'acquired': 0, u'national': 0, u'cuts': 0, u'accord': 0, u'France': 0, u'see': 0, u'officials': 0, u'are': 5, u'tender': 0, u'close': 0, u'news': 0, u'declined': 0, u'subject': 0, u'03': 0, u'00': 0, u'said': 5, u'capacity': 0, u'04': 0, u'farmers': 2, u'federal': 0, u'review': 1, u'09': 0, u'diluted': 0, u'Britain': 0, u'forecast': 0, u'dlr': 0, u'state': 0, u'Plc': 0, u'use': 0, u'between': 0, u'crude': 0, u'import': 0, u'July': 4, u'conditions': 0, u'bought': 0, u'available': 1, u'we': 0, u'terms': 0, u'FOR': 0, u'sold': 2, u'however': 0, u'Securities': 0, u'WHEAT': 0, u'takeover': 0, u'coffee': 0, u'key': 0, u'group': 0, u'debt': 0, u'come': 1, u'UNIT': 0, u'AND': 0, u'both': 0, u'last': 1, u'3RD': 0, u'country': 0, u'taking': 0, u'annual': 0, u'according': 0, u'against': 3, u'foreign': 0, u'figures': 2, u'planned': 0, u'holders': 0, u'asked': 0, u'comment': 0, u'among': 0, u'adjusted': 0, u'Friday': 0, u'supply': 0, u'effective': 0, u'loan': 0, u'Petroleum': 0, u'period': 2, u'deposits': 0, u'60': 1, u'61': 0, u'tons': 0, u'63': 0, u'non': 0, u'),': 0, u'66': 0, u'dividend': 0, u'68': 0, u'69': 0, u'ct': 0, u'conference': 0, u'decline': 0, u'raise': 0, u'second': 0, u'basis': 0, u'addition': 0, u'due': 0, u'But': 0, u'mark': 0, u'reduction': 0, u'much': 2, u'agreements': 0, u'interest': 0, u'Pay': 0, u'expected': 1, u'proposal': 0, u'meeting': 0, u'500': 0, u'closed': 0, u'firm': 0, u'field': 0, u'Note': 0, u'Six': 0, u'CO': 0, u'received': 0, u'offered': 0, u'gas': 0, u'900': 0, u'2ND': 0, u'VS': 0, u'Saudi': 0, u'demand': 0, u'prices': 1, u'mths': 0, u'despite': 0, u'general': 0, u'those': 0, u'Secretary': 0, u'Oper': 0, u'Ministry': 0, u'Co': 0, u'State': 0, u'these': 0, u'bill': 0, u'mln': 5, u'Sales': 0, u'value': 0, u'General': 0, u'will': 1, u'receive': 0, u'while': 0, u'policies': 0, u'many': 0, u'situation': 0, u'Taiwan': 0, u'balance': 0, u'Energy': 0, u'Industries': 0, u'scheduled': 0, u'seven': 0, u'losses': 0, u'...': 0, u'cents': 0, u'is': 2, u'it': 1, u'vs': 0, u'contract': 0, u'in': 5, u'tonne': 2, u'increased': 0, u'present': 0, u'credit': 0, u'pay': 0, u'make': 0, u'administration': 0, u'same': 1, u'member': 0, u'split': 0, u'largest': 0, u'units': 0, u'grain': 0, u'several': 0, u'higher': 0, u'week': 2, u'oil': 0, u'fiscal': 0, u'nil': 0, u'yesterday': 0, u'producers': 0, u'000': 0, u'IN': 0, u'Board': 0, u'recent': 1, u'President': 0, u'lower': 1, u'transaction': 0, u'off': 0, u'Council': 0, u'49': 0, u'well': 0, u'It': 0, u'States': 0, u'46': 0, u'costs': 0, u'In': 1, u'position': 0, u'the': 17, u'800': 0, u'If': 0, u'United': 0, u'proposed': 0, u'yen': 0, u'being': 0, u'money': 0, u'executive': 0, u'domestic': 0, u'sources': 0, u'yet': 0, u'previous': 0, u'adding': 0, u'cut': 0, u'equipment': 0, u'rose': 1, u'Company': 0, u'point': 0, u'had': 0, u'Dome': 0, u'board': 0, u'has': 1, u'Western': 0, u'chairman': 0, u'real': 0, u'On': 0, u'700': 0, u'bills': 0, u'Last': 0, u'around': 1, u'decided': 0, u'government': 0, u'James': 0, u'bid': 0, u'possible': 0, u'early': 1, u'increases': 0, u'inflation': 0, u'five': 0, u'YEAR': 0, u'world': 0, u'58': 0, u'loss': 0, u'England': 0, u'bpd': 0, u'55': 0, u'OF': 0, u'57': 0, u'56': 0, u'51': 0, u'50': 0, u'53': 0, u'52': 0, u'securities': 0, u'continue': 0, u'London': 0, u'payments': 0, u'54': 0, u'output': 0, u'73': 0, u'reduced': 0, u'65': 0, u'Tokyo': 0, u'because': 0, u'Gulf': 0, u'people': 0, u'West': 0, u'67': 0, u'some': 1, u'back': 0, u'Commission': 1, u'economic': 0, u'export': 1, u'New': 9, u'Net': 0, u'CANADA': 0, u'recently': 0, u'for': 10, u'Baker': 0, u'decision': 0, u'However': 0, u'per': 3, u'does': 0, u'deficit': 0, u'He': 0, u'be': 4, u'measures': 0, u'wheat': 0, u'USDA': 0, u'business': 0, u'300': 0, u'problems': 0, u'corn': 0, u'continuing': 0, u'agreement': 0, u'workers': 0, u'how': 2, u'market': 0, u'although': 1, u'become': 0, u'loans': 0, u'by': 1, u'First': 0, u'dlrs': 14, u'about': 0, u'goods': 0, u'central': 0, u'working': 0, u'76': 0, u'of': 8, u'industry': 0, u'months': 0, u'UP': 0, u'Trade': 1, u'range': 0, u'Japan': 0, u'Exchange': 0, u'or': 0, u'72': 0, u'Fed': 0, u'own': 0, u'71': 0, u'previously': 0, u'into': 0, u'within': 0, u'62': 0, u'three': 0, u'down': 0, u'OPEC': 0, u'right': 0, u'shrs': 0, u'been': 1, u'NEW': 0, u'NET': 0, u'intervention': 0, u'1986': 1, u'1987': 1, u'1985': 0, u'.,': 2, u'deal': 0, u'area': 0, u'spending': 0, u'.\"': 0, u'there': 2, u'long': 0, u'payment': 0, u'start': 0, u'low': 0, u'way': 0, u'November': 0, u'78': 0, u'was': 1, u'SELL': 0, u'billion': 0, u'FED': 0, u'buy': 0, u'FEB': 0, u'offering': 0, u'offer': 1, u'January': 1, u'but': 0, u'delivery': 0, u'payable': 0, u'CORP': 0, u'gain': 0, u'subsidiary': 0, u'approval': 0, u'with': 2, u'analyst': 0, u'buying': 0, u'he': 0, u'made': 1, u'whether': 0, u'House': 0, u'official': 0, u'up': 0, u'signed': 0, u'lead': 0, u'record': 0, u'below': 0, u'growth': 0, u'exploration': 0, u'distribution': 0, u'Avg': 0, u'called': 0, u'150': 0, u'TWA': 0, u'SEES': 0, u'600': 0, u'certain': 0, u'Treasury': 0, u'sales': 7, u'currencies': 0, u'an': 1, u'as': 4, u'held': 1, u'at': 20, u'budget': 0, u'International': 0, u'negotiations': 0, u'again': 0, u'compared': 0, u'48': 0, u'no': 0, u'May': 3, u'sugar': 0, u'44': 0, u'stake': 0, u'when': 0, u'43': 0, u'40': 0, u'41': 0, u'end': 1, u'TO': 0, u'other': 0, u'details': 0, u'holding': 0, u'income': 0, u'department': 0, u'discount': 0, u'85': 0, u'February': 3, u'AG': 0, u'time': 0, u'reached': 0, u'includes': 0, u'April': 4, u'fell': 0, u'AT': 0, u'included': 1, u'DIVIDEND': 0, u'stocks': 0, u'senior': 0, u'South': 0, u'ago': 0, u'assets': 0, u'daily': 0, u'An': 0, u'NOTE': 0, u'GATT': 0, u'As': 0, u'At': 0, u'Year': 0, u'tonnes': 0, u'STOCK': 0, u'profits': 0, u'Analysts': 0}, u'cocoa')\n"
       ]
      }
     ],
     "prompt_number": 9
    },
    {
     "cell_type": "code",
     "collapsed": false,
     "input": [
      "from question3 import get_featuresets, bag_of_words, bag_of_words_freq\n",
      "from nltk import NaiveBayesClassifier as NB\n",
      "from joblib import Parallel, delayed  # For classification is a long task, and the deadline is near.\n",
      "# note, this ran on a Linux virtual machine that received 6GB of ram and 8 cpu cores, \n",
      "# on a machine that had an worst ratio of memory/cores it might raise an out of memory error, \n",
      "# in that case n_jobs can be set to someting lower.\n",
      "import multiprocessing\n",
      "import time \n",
      "import sys\n",
      "\n",
      "# apparently we can't put the following bunch of lines in a function because Python can't pickle function objects.\n",
      "# frankly I don't even care what it means, so we'll duplicate them.\n",
      "\n",
      "tests_refs = None # free the memory used by this code segment, so we can run it aagin.\n",
      "\n",
      "num_cores = multiprocessing.cpu_count()\n",
      "\n",
      "start = time.time()\n",
      "\n",
      "train_featuresets = get_featuresets(bag_of_words, most_frequent_words[:10], \"training\")\n",
      "test_featuresets = get_featuresets(bag_of_words, most_frequent_words[:10], \"test\")\n",
      "\n",
      "classifier = NB.train(train_featuresets)\n",
      "\n",
      "def classify_one(labeled_featureset):\n",
      "    featureset, real_label = labeled_featureset\n",
      "    return (classifier.classify(featureset), real_label)\n",
      "\n",
      "\n",
      "print \"Trained, now classifying\"\n",
      "sys.stdout.flush()\n",
      "\n",
      "tests_refs = Parallel(n_jobs=num_cores, verbose = 0)(delayed(classify_one)(item) for item in test_featuresets)\n",
      "\n",
      "end = time.time()\n",
      "print \"finished in %fs\" % (end-start)\n",
      "\n",
      "# print test_classifier(classifier, test_featuresets)"
     ],
     "language": "python",
     "metadata": {},
     "outputs": [
      {
       "ename": "IndexError",
       "evalue": "list index out of range",
       "output_type": "pyerr",
       "traceback": [
        "\u001b[1;31m---------------------------------------------------------------------------\u001b[0m\n\u001b[1;31mIndexError\u001b[0m                                Traceback (most recent call last)",
        "\u001b[1;32m<ipython-input-10-b4d685ab5c7d>\u001b[0m in \u001b[0;36m<module>\u001b[1;34m()\u001b[0m\n\u001b[0;32m     21\u001b[0m \u001b[0mtest_featuresets\u001b[0m \u001b[1;33m=\u001b[0m \u001b[0mget_featuresets\u001b[0m\u001b[1;33m(\u001b[0m\u001b[0mbag_of_words\u001b[0m\u001b[1;33m,\u001b[0m \u001b[0mmost_frequent_words\u001b[0m\u001b[1;33m[\u001b[0m\u001b[1;33m:\u001b[0m\u001b[1;36m10\u001b[0m\u001b[1;33m]\u001b[0m\u001b[1;33m,\u001b[0m \u001b[1;34m\"test\"\u001b[0m\u001b[1;33m)\u001b[0m\u001b[1;33m\u001b[0m\u001b[0m\n\u001b[0;32m     22\u001b[0m \u001b[1;33m\u001b[0m\u001b[0m\n\u001b[1;32m---> 23\u001b[1;33m \u001b[0mclassifier\u001b[0m \u001b[1;33m=\u001b[0m \u001b[0mNB\u001b[0m\u001b[1;33m.\u001b[0m\u001b[0mtrain\u001b[0m\u001b[1;33m(\u001b[0m\u001b[0mtrain_featuresets\u001b[0m\u001b[1;33m)\u001b[0m\u001b[1;33m\u001b[0m\u001b[0m\n\u001b[0m\u001b[0;32m     24\u001b[0m \u001b[1;33m\u001b[0m\u001b[0m\n\u001b[0;32m     25\u001b[0m \u001b[1;32mdef\u001b[0m \u001b[0mclassify_one\u001b[0m\u001b[1;33m(\u001b[0m\u001b[0mlabeled_featureset\u001b[0m\u001b[1;33m)\u001b[0m\u001b[1;33m:\u001b[0m\u001b[1;33m\u001b[0m\u001b[0m\n",
        "\u001b[1;32m/usr/lib/python2.7/site-packages/nltk/classify/naivebayes.pyc\u001b[0m in \u001b[0;36mtrain\u001b[1;34m(labeled_featuresets, estimator)\u001b[0m\n\u001b[0;32m    190\u001b[0m         \u001b[1;31m# Count up how many times each feature value occurred, given\u001b[0m\u001b[1;33m\u001b[0m\u001b[1;33m\u001b[0m\u001b[0m\n\u001b[0;32m    191\u001b[0m         \u001b[1;31m# the label and featurename.\u001b[0m\u001b[1;33m\u001b[0m\u001b[1;33m\u001b[0m\u001b[0m\n\u001b[1;32m--> 192\u001b[1;33m         \u001b[1;32mfor\u001b[0m \u001b[0mfeatureset\u001b[0m\u001b[1;33m,\u001b[0m \u001b[0mlabel\u001b[0m \u001b[1;32min\u001b[0m \u001b[0mlabeled_featuresets\u001b[0m\u001b[1;33m:\u001b[0m\u001b[1;33m\u001b[0m\u001b[0m\n\u001b[0m\u001b[0;32m    193\u001b[0m             \u001b[0mlabel_freqdist\u001b[0m\u001b[1;33m[\u001b[0m\u001b[0mlabel\u001b[0m\u001b[1;33m]\u001b[0m \u001b[1;33m+=\u001b[0m \u001b[1;36m1\u001b[0m\u001b[1;33m\u001b[0m\u001b[0m\n\u001b[0;32m    194\u001b[0m             \u001b[1;32mfor\u001b[0m \u001b[0mfname\u001b[0m\u001b[1;33m,\u001b[0m \u001b[0mfval\u001b[0m \u001b[1;32min\u001b[0m \u001b[0mfeatureset\u001b[0m\u001b[1;33m.\u001b[0m\u001b[0mitems\u001b[0m\u001b[1;33m(\u001b[0m\u001b[1;33m)\u001b[0m\u001b[1;33m:\u001b[0m\u001b[1;33m\u001b[0m\u001b[0m\n",
        "\u001b[1;32m/home/itay/PycharmProjects/nlp/NLP_assignment_2/question3.py\u001b[0m in \u001b[0;36mget_featuresets\u001b[1;34m(feature_extractor, v, section)\u001b[0m\n\u001b[0;32m     23\u001b[0m     \u001b[1;32mfor\u001b[0m \u001b[0mfileid\u001b[0m \u001b[1;32min\u001b[0m \u001b[0mreuters\u001b[0m\u001b[1;33m.\u001b[0m\u001b[0mfileids\u001b[0m\u001b[1;33m(\u001b[0m\u001b[1;33m)\u001b[0m\u001b[1;33m:\u001b[0m\u001b[1;33m\u001b[0m\u001b[0m\n\u001b[0;32m     24\u001b[0m         \u001b[0mfeatureset\u001b[0m \u001b[1;33m=\u001b[0m \u001b[0mfeature_extractor\u001b[0m\u001b[1;33m(\u001b[0m\u001b[0mreuters\u001b[0m\u001b[1;33m.\u001b[0m\u001b[0mwords\u001b[0m\u001b[1;33m(\u001b[0m\u001b[0mfileids\u001b[0m\u001b[1;33m=\u001b[0m\u001b[1;33m[\u001b[0m\u001b[0mfileid\u001b[0m\u001b[1;33m]\u001b[0m\u001b[1;33m)\u001b[0m\u001b[1;33m,\u001b[0m \u001b[0mv\u001b[0m\u001b[1;33m)\u001b[0m\u001b[1;33m\u001b[0m\u001b[0m\n\u001b[1;32m---> 25\u001b[1;33m         \u001b[0mcategory\u001b[0m \u001b[1;33m=\u001b[0m \u001b[0mreuters\u001b[0m\u001b[1;33m.\u001b[0m\u001b[0mcategories\u001b[0m\u001b[1;33m(\u001b[0m\u001b[0mfileid\u001b[0m\u001b[1;33m)\u001b[0m\u001b[1;33m[\u001b[0m\u001b[1;36m0\u001b[0m\u001b[1;33m]\u001b[0m\u001b[1;33m\u001b[0m\u001b[0m\n\u001b[0m\u001b[0;32m     26\u001b[0m         \u001b[1;32mif\u001b[0m \u001b[0mfileid\u001b[0m\u001b[1;33m[\u001b[0m\u001b[1;33m:\u001b[0m\u001b[0mlen\u001b[0m\u001b[1;33m(\u001b[0m\u001b[0msection\u001b[0m\u001b[1;33m)\u001b[0m\u001b[1;33m]\u001b[0m \u001b[1;33m==\u001b[0m \u001b[0msection\u001b[0m\u001b[1;33m:\u001b[0m\u001b[1;33m\u001b[0m\u001b[0m\n\u001b[0;32m     27\u001b[0m             \u001b[1;32myield\u001b[0m \u001b[1;33m(\u001b[0m\u001b[0mfeatureset\u001b[0m\u001b[1;33m,\u001b[0m \u001b[0mcategory\u001b[0m\u001b[1;33m)\u001b[0m\u001b[1;33m\u001b[0m\u001b[0m\n",
        "\u001b[1;31mIndexError\u001b[0m: list index out of range"
       ]
      }
     ],
     "prompt_number": 10
    },
    {
     "cell_type": "heading",
     "level": 2,
     "metadata": {},
     "source": [
      "Analyzing the results"
     ]
    },
    {
     "cell_type": "code",
     "collapsed": false,
     "input": [
      "TP = defaultdict(int)\n",
      "FP = defaultdict(int)\n",
      "TN = defaultdict(int)\n",
      "FN = defaultdict(int)\n",
      "\n",
      "labels = set(reuters.categories()) # set of all categories so we can update TN\n",
      "N = 0 # count because the generator dies with the loop\n",
      "for test, ref in tests_refs:\n",
      "    N += 1 \n",
      "    if test == ref:\n",
      "        TP[ref] += 1\n",
      "    else:\n",
      "        FP[test] += 1\n",
      "        FN[ref] += 1\n",
      "#     for label in labels - set([test, ref]):\n",
      "#         TN[label] += 1 # we add a TN to all labels except test (that one is either TP or FP) and ref (same)\n",
      "\n",
      "print \"accuracy: %f\\n\\n\" % (float(sum(TP.values()))/N)\n",
      "\n",
      "P = defaultdict(int)\n",
      "R = defaultdict(int)\n",
      "FM = defaultdict(int)\n",
      "cat_length = defaultdict(int)\n",
      "\n",
      "for l in labels:    \n",
      "    cat_length[l] = TP[l] + FN[l]\n",
      "    P[l] = (1 if TP[l]+FP[l] == 0 else (float(TP[l])/(TP[l]+FP[l])))\n",
      "    R[l] = (float(TP[l])/(TP[l] + FN[l]))\n",
      "    FM[l] =  0 if (R[l] + P[l] == 0) else ((2 * P[l] * R[l] ) / (R[l] + P[l]))\n",
      "    \n",
      "    print \"%s (%d):\" % (l, (TP[l] + FN[l]))\n",
      "    print \"f-measure: %f\" % FM[l]\n",
      "    print \"percision: %f\" % P[l]\n",
      "    print \"recall: %f\" % R[l]\n",
      "    print \"\""
     ],
     "language": "python",
     "metadata": {},
     "outputs": [
      {
       "output_type": "stream",
       "stream": "stdout",
       "text": [
        "accuracy: 0.524346\n",
        "\n",
        "\n",
        "livestock (6):\n",
        "f-measure: 0.000000\n",
        "percision: 1.000000\n",
        "recall: 0.000000\n",
        "\n",
        "gold (26):\n",
        "f-measure: 0.000000\n",
        "percision: 1.000000\n",
        "recall: 0.000000\n",
        "\n"
       ]
      },
      {
       "ename": "ZeroDivisionError",
       "evalue": "float division by zero",
       "output_type": "pyerr",
       "traceback": [
        "\u001b[1;31m---------------------------------------------------------------------------\u001b[0m\n\u001b[1;31mZeroDivisionError\u001b[0m                         Traceback (most recent call last)",
        "\u001b[1;32m<ipython-input-8-1e9d547aa4b0>\u001b[0m in \u001b[0;36m<module>\u001b[1;34m()\u001b[0m\n\u001b[0;32m     26\u001b[0m     \u001b[0mcat_length\u001b[0m\u001b[1;33m[\u001b[0m\u001b[0ml\u001b[0m\u001b[1;33m]\u001b[0m \u001b[1;33m=\u001b[0m \u001b[0mTP\u001b[0m\u001b[1;33m[\u001b[0m\u001b[0ml\u001b[0m\u001b[1;33m]\u001b[0m \u001b[1;33m+\u001b[0m \u001b[0mFN\u001b[0m\u001b[1;33m[\u001b[0m\u001b[0ml\u001b[0m\u001b[1;33m]\u001b[0m\u001b[1;33m\u001b[0m\u001b[0m\n\u001b[0;32m     27\u001b[0m     \u001b[0mP\u001b[0m\u001b[1;33m[\u001b[0m\u001b[0ml\u001b[0m\u001b[1;33m]\u001b[0m \u001b[1;33m=\u001b[0m \u001b[1;33m(\u001b[0m\u001b[1;36m1\u001b[0m \u001b[1;32mif\u001b[0m \u001b[0mTP\u001b[0m\u001b[1;33m[\u001b[0m\u001b[0ml\u001b[0m\u001b[1;33m]\u001b[0m\u001b[1;33m+\u001b[0m\u001b[0mFP\u001b[0m\u001b[1;33m[\u001b[0m\u001b[0ml\u001b[0m\u001b[1;33m]\u001b[0m \u001b[1;33m==\u001b[0m \u001b[1;36m0\u001b[0m \u001b[1;32melse\u001b[0m \u001b[1;33m(\u001b[0m\u001b[0mfloat\u001b[0m\u001b[1;33m(\u001b[0m\u001b[0mTP\u001b[0m\u001b[1;33m[\u001b[0m\u001b[0ml\u001b[0m\u001b[1;33m]\u001b[0m\u001b[1;33m)\u001b[0m\u001b[1;33m/\u001b[0m\u001b[1;33m(\u001b[0m\u001b[0mTP\u001b[0m\u001b[1;33m[\u001b[0m\u001b[0ml\u001b[0m\u001b[1;33m]\u001b[0m\u001b[1;33m+\u001b[0m\u001b[0mFP\u001b[0m\u001b[1;33m[\u001b[0m\u001b[0ml\u001b[0m\u001b[1;33m]\u001b[0m\u001b[1;33m)\u001b[0m\u001b[1;33m)\u001b[0m\u001b[1;33m)\u001b[0m\u001b[1;33m\u001b[0m\u001b[0m\n\u001b[1;32m---> 28\u001b[1;33m     \u001b[0mR\u001b[0m\u001b[1;33m[\u001b[0m\u001b[0ml\u001b[0m\u001b[1;33m]\u001b[0m \u001b[1;33m=\u001b[0m \u001b[1;33m(\u001b[0m\u001b[0mfloat\u001b[0m\u001b[1;33m(\u001b[0m\u001b[0mTP\u001b[0m\u001b[1;33m[\u001b[0m\u001b[0ml\u001b[0m\u001b[1;33m]\u001b[0m\u001b[1;33m)\u001b[0m\u001b[1;33m/\u001b[0m\u001b[1;33m(\u001b[0m\u001b[0mTP\u001b[0m\u001b[1;33m[\u001b[0m\u001b[0ml\u001b[0m\u001b[1;33m]\u001b[0m \u001b[1;33m+\u001b[0m \u001b[0mFN\u001b[0m\u001b[1;33m[\u001b[0m\u001b[0ml\u001b[0m\u001b[1;33m]\u001b[0m\u001b[1;33m)\u001b[0m\u001b[1;33m)\u001b[0m\u001b[1;33m\u001b[0m\u001b[0m\n\u001b[0m\u001b[0;32m     29\u001b[0m     \u001b[0mFM\u001b[0m\u001b[1;33m[\u001b[0m\u001b[0ml\u001b[0m\u001b[1;33m]\u001b[0m \u001b[1;33m=\u001b[0m  \u001b[1;36m0\u001b[0m \u001b[1;32mif\u001b[0m \u001b[1;33m(\u001b[0m\u001b[0mR\u001b[0m\u001b[1;33m[\u001b[0m\u001b[0ml\u001b[0m\u001b[1;33m]\u001b[0m \u001b[1;33m+\u001b[0m \u001b[0mP\u001b[0m\u001b[1;33m[\u001b[0m\u001b[0ml\u001b[0m\u001b[1;33m]\u001b[0m \u001b[1;33m==\u001b[0m \u001b[1;36m0\u001b[0m\u001b[1;33m)\u001b[0m \u001b[1;32melse\u001b[0m \u001b[1;33m(\u001b[0m\u001b[1;33m(\u001b[0m\u001b[1;36m2\u001b[0m \u001b[1;33m*\u001b[0m \u001b[0mP\u001b[0m\u001b[1;33m[\u001b[0m\u001b[0ml\u001b[0m\u001b[1;33m]\u001b[0m \u001b[1;33m*\u001b[0m \u001b[0mR\u001b[0m\u001b[1;33m[\u001b[0m\u001b[0ml\u001b[0m\u001b[1;33m]\u001b[0m \u001b[1;33m)\u001b[0m \u001b[1;33m/\u001b[0m \u001b[1;33m(\u001b[0m\u001b[0mR\u001b[0m\u001b[1;33m[\u001b[0m\u001b[0ml\u001b[0m\u001b[1;33m]\u001b[0m \u001b[1;33m+\u001b[0m \u001b[0mP\u001b[0m\u001b[1;33m[\u001b[0m\u001b[0ml\u001b[0m\u001b[1;33m]\u001b[0m\u001b[1;33m)\u001b[0m\u001b[1;33m)\u001b[0m\u001b[1;33m\u001b[0m\u001b[0m\n\u001b[0;32m     30\u001b[0m \u001b[1;33m\u001b[0m\u001b[0m\n",
        "\u001b[1;31mZeroDivisionError\u001b[0m: float division by zero"
       ]
      }
     ],
     "prompt_number": 8
    },
    {
     "cell_type": "markdown",
     "metadata": {},
     "source": [
      "Summary of accuracies:\n",
      "\n",
      "Binary bag of words for K=1000: 0.580662393162<br/>\n",
      "Binary bag of words for K=2000: 0.600427350427<br/>\n",
      "Freqeuncy bag of words for K=1000: 0.5625<br/>\n",
      "Freqeuncy bag of words for K=2000: 0.571581196581<br/>\n",
      "So, from now on we'll use bag binary bag of words with K = 2000.<br/><br/>\n",
      "\n",
      "Also, let's plot some nice data - f-measure of the classifier as a function of category size.\n"
     ]
    },
    {
     "cell_type": "code",
     "collapsed": false,
     "input": [
      "import pylab\n",
      "from math import log\n",
      "\n",
      "sizes_fms = [(log(TP[l] + FN[l], 10), FM[l]) for l in labels]\n",
      "sizes_fms = sorted(sizes_fms, key=lambda sfm: sfm[0])\n",
      "\n",
      "x, y = zip(*sizes_fms)\n",
      "%matplotlib inline\n",
      "pylab.xlabel(\"10^x items in category\")\n",
      "pylab.ylabel(\"f-measure\")\n",
      "pylab.plot(x,y, '-bo')"
     ],
     "language": "python",
     "metadata": {},
     "outputs": [
      {
       "metadata": {},
       "output_type": "pyout",
       "prompt_number": 52,
       "text": [
        "[<matplotlib.lines.Line2D at 0x2eb41450>]"
       ]
      },
      {
       "metadata": {},
       "output_type": "display_data",
       "png": "[encoded data removed]",
       "text": [
        "<matplotlib.figure.Figure at 0x12057310>"
       ]
      }
     ],
     "prompt_number": 52
    },
    {
     "cell_type": "markdown",
     "metadata": {},
     "source": [
      "looks like bigger category equals higher f-measure but that graph is hard to read; There are many outliers and we want to make sure most of them are indeed above the average line.<br/>\n",
      "This isn't the best way to do it, but we have a hammer - let's plot a line that minimizes the errors to those points :)"
     ]
    },
    {
     "cell_type": "code",
     "collapsed": false,
     "input": [
      "from question1 import OptimizeLS, plot_function, get_learned_polynomial\n",
      "import numpy as np\n",
      "import matplotlib.pyplot as plt\n",
      "\n",
      "x_range = np.linspace(0.0,3.5,100000)\n",
      "w_vector = OptimizeLS(x, y, 1)\n",
      "print w_vector\n",
      "# lp = get_learned_polynomial(w_vector, x_range)\n",
      "\n",
      "def fn(t):\n",
      "    return w_vector[0] + w_vector[1] * t\n",
      "\n",
      "fig = plt.figure()\n",
      "ax = fig.gca()\n",
      "ax.set_xticks(np.arange(0,3.5,0.5))\n",
      "ax.set_yticks(np.arange(0,1.,0.1))\n",
      "plt.grid()\n",
      "\n",
      "plt.plot([0, 3.5], [fn(0), fn(3.5)], color='k', linestyle='-', linewidth=2)\n",
      "plt.scatter(x, y, c='red')"
     ],
     "language": "python",
     "metadata": {},
     "outputs": [
      {
       "output_type": "stream",
       "stream": "stdout",
       "text": [
        "(2, 2)\n",
        "[-0.0605531   0.23825802]\n"
       ]
      },
      {
       "metadata": {},
       "output_type": "pyout",
       "prompt_number": 66,
       "text": [
        "<matplotlib.collections.PathCollection at 0x14503fd0>"
       ]
      },
      {
       "metadata": {},
       "output_type": "display_data",
       "png": "[encoded data removed]",
       "text": [
        "<matplotlib.figure.Figure at 0x2ea39250>"
       ]
      }
     ],
     "prompt_number": 66
    },
    {
     "cell_type": "markdown",
     "metadata": {},
     "source": [
      "we can see that the quality of the classifier indeed improves as the category size increases."
     ]
    },
    {
     "cell_type": "heading",
     "level": 1,
     "metadata": {},
     "source": [
      "Etc."
     ]
    },
    {
     "cell_type": "markdown",
     "metadata": {},
     "source": [
      "At some point, while working on this question, we got tired of how slow and limited nltks classifiers were, and decided to try sklearn. We eventually parallelized nltks classification, which made it bearable. Nevertheless - we attached the results below.<br/>\n",
      "sklearn offers versions of NaiveBayes, including Multinomial, as well as a One-vs-Rest Binarization wrapper. Their classifiers generally work faster, use less memory, and are even useable using a wrapper provided by nltk."
     ]
    },
    {
     "cell_type": "code",
     "collapsed": false,
     "input": [
      "from sklearn.multiclass import OneVsRestClassifier\n",
      "from sklearn.naive_bayes import MultinomialNB, GaussianNB\n",
      "from nltk import SklearnClassifier\n",
      "from question3 import *\n",
      "import gc\n",
      "\n",
      "train_featuresets = list(get_featuresets(bag_of_words, most_frequent_words[:3000], \"training\"))\n",
      "test_featuresets = list(get_featuresets(bag_of_words, most_frequent_words[:3000], \"test\"))\n",
      "\n",
      "classifier = SklearnClassifier(OneVsRestClassifier(MultinomialNB(alpha=0.5)), sparse=False)\n",
      "# classifier = SklearnClassifier(MultinomialNB(alpha=0.5))\n",
      "\n",
      "classifier.train(train_featuresets)\n",
      "\n",
      "correct = 0\n",
      "for featureset, tag in test_featuresets:\n",
      "    if tag == classifier.classify(featureset):\n",
      "        correct += 1\n",
      "            \n",
      "print float(correct) / len(test_featuresets)\n",
      "\n",
      "train_featuresets = None # don't leak.\n",
      "test_featuresets = None \n",
      "classifier = None\n",
      "gc.collect() # Seriously, go pick that up...\n",
      "# the truth is he won't. probably something to do with ipytohn. But we tried."
     ],
     "language": "python",
     "metadata": {},
     "outputs": [
      {
       "ename": "IndexError",
       "evalue": "list index out of range",
       "output_type": "pyerr",
       "traceback": [
        "\u001b[1;31m---------------------------------------------------------------------------\u001b[0m\n\u001b[1;31mIndexError\u001b[0m                                Traceback (most recent call last)",
        "\u001b[1;32m<ipython-input-11-e59037d1c020>\u001b[0m in \u001b[0;36m<module>\u001b[1;34m()\u001b[0m\n\u001b[0;32m      5\u001b[0m \u001b[1;32mimport\u001b[0m \u001b[0mgc\u001b[0m\u001b[1;33m\u001b[0m\u001b[0m\n\u001b[0;32m      6\u001b[0m \u001b[1;33m\u001b[0m\u001b[0m\n\u001b[1;32m----> 7\u001b[1;33m \u001b[0mtrain_featuresets\u001b[0m \u001b[1;33m=\u001b[0m \u001b[0mlist\u001b[0m\u001b[1;33m(\u001b[0m\u001b[0mget_featuresets\u001b[0m\u001b[1;33m(\u001b[0m\u001b[0mbag_of_words\u001b[0m\u001b[1;33m,\u001b[0m \u001b[0mmost_frequent_words\u001b[0m\u001b[1;33m[\u001b[0m\u001b[1;33m:\u001b[0m\u001b[1;36m3000\u001b[0m\u001b[1;33m]\u001b[0m\u001b[1;33m,\u001b[0m \u001b[1;34m\"training\"\u001b[0m\u001b[1;33m)\u001b[0m\u001b[1;33m)\u001b[0m\u001b[1;33m\u001b[0m\u001b[0m\n\u001b[0m\u001b[0;32m      8\u001b[0m \u001b[0mtest_featuresets\u001b[0m \u001b[1;33m=\u001b[0m \u001b[0mlist\u001b[0m\u001b[1;33m(\u001b[0m\u001b[0mget_featuresets\u001b[0m\u001b[1;33m(\u001b[0m\u001b[0mbag_of_words\u001b[0m\u001b[1;33m,\u001b[0m \u001b[0mmost_frequent_words\u001b[0m\u001b[1;33m[\u001b[0m\u001b[1;33m:\u001b[0m\u001b[1;36m3000\u001b[0m\u001b[1;33m]\u001b[0m\u001b[1;33m,\u001b[0m \u001b[1;34m\"test\"\u001b[0m\u001b[1;33m)\u001b[0m\u001b[1;33m)\u001b[0m\u001b[1;33m\u001b[0m\u001b[0m\n\u001b[0;32m      9\u001b[0m \u001b[1;33m\u001b[0m\u001b[0m\n",
        "\u001b[1;32m/home/itay/PycharmProjects/nlp/NLP_assignment_2/question3.py\u001b[0m in \u001b[0;36mget_featuresets\u001b[1;34m(feature_extractor, v, section)\u001b[0m\n\u001b[0;32m     23\u001b[0m     \u001b[1;32mfor\u001b[0m \u001b[0mfileid\u001b[0m \u001b[1;32min\u001b[0m \u001b[0mreuters\u001b[0m\u001b[1;33m.\u001b[0m\u001b[0mfileids\u001b[0m\u001b[1;33m(\u001b[0m\u001b[1;33m)\u001b[0m\u001b[1;33m:\u001b[0m\u001b[1;33m\u001b[0m\u001b[0m\n\u001b[0;32m     24\u001b[0m         \u001b[0mfeatureset\u001b[0m \u001b[1;33m=\u001b[0m \u001b[0mfeature_extractor\u001b[0m\u001b[1;33m(\u001b[0m\u001b[0mreuters\u001b[0m\u001b[1;33m.\u001b[0m\u001b[0mwords\u001b[0m\u001b[1;33m(\u001b[0m\u001b[0mfileids\u001b[0m\u001b[1;33m=\u001b[0m\u001b[1;33m[\u001b[0m\u001b[0mfileid\u001b[0m\u001b[1;33m]\u001b[0m\u001b[1;33m)\u001b[0m\u001b[1;33m,\u001b[0m \u001b[0mv\u001b[0m\u001b[1;33m)\u001b[0m\u001b[1;33m\u001b[0m\u001b[0m\n\u001b[1;32m---> 25\u001b[1;33m         \u001b[0mcategory\u001b[0m \u001b[1;33m=\u001b[0m \u001b[0mreuters\u001b[0m\u001b[1;33m.\u001b[0m\u001b[0mcategories\u001b[0m\u001b[1;33m(\u001b[0m\u001b[0mfileid\u001b[0m\u001b[1;33m)\u001b[0m\u001b[1;33m[\u001b[0m\u001b[1;36m0\u001b[0m\u001b[1;33m]\u001b[0m\u001b[1;33m\u001b[0m\u001b[0m\n\u001b[0m\u001b[0;32m     26\u001b[0m         \u001b[1;32mif\u001b[0m \u001b[0mfileid\u001b[0m\u001b[1;33m[\u001b[0m\u001b[1;33m:\u001b[0m\u001b[0mlen\u001b[0m\u001b[1;33m(\u001b[0m\u001b[0msection\u001b[0m\u001b[1;33m)\u001b[0m\u001b[1;33m]\u001b[0m \u001b[1;33m==\u001b[0m \u001b[0msection\u001b[0m\u001b[1;33m:\u001b[0m\u001b[1;33m\u001b[0m\u001b[0m\n\u001b[0;32m     27\u001b[0m             \u001b[1;32myield\u001b[0m \u001b[1;33m(\u001b[0m\u001b[0mfeatureset\u001b[0m\u001b[1;33m,\u001b[0m \u001b[0mcategory\u001b[0m\u001b[1;33m)\u001b[0m\u001b[1;33m\u001b[0m\u001b[0m\n",
        "\u001b[1;31mIndexError\u001b[0m: list index out of range"
       ]
      }
     ],
     "prompt_number": 11
    },
    {
     "cell_type": "markdown",
     "metadata": {},
     "source": [
      "Multinomial (alpha=0.5): 0.682425213675"
     ]
    },
    {
     "cell_type": "heading",
     "level": 2,
     "metadata": {},
     "source": [
      "Write a one-vs-all version of Naive Bayes"
     ]
    },
    {
     "cell_type": "markdown",
     "metadata": {},
     "source": [
      "<p>Inspired by the paper (Tackling the Poor Assumptions of Naive Bayes Text Classifiers, Rennie et al, ICML 2003), we'll create a version of nltks naive bayes classifier that uses the notion of complement class, keeping the same theta as nltks classifier.<br/>\n",
      "a propoer multinomial one-vs-rest naive bayes classifier as presented in the paper is already implemented in sklearn and tested above, so we're only interested in learning whether the one-vs-rest can improve our current classifier.<br/>\n",
      "</p>\n",
      "<p>\n",
      "We'll implement the following classification rule:\n",
      "<center>\n",
      "    $\\log{\\hat{p}(\\theta_c)+\\sum_i{\\log\\theta_{ci}}}-\\sum_i{\\log\\theta_{\\hat{c}i}}$\n",
      "</center>\n",
      "</p>\n",
      "(look at that, we've learned some LaTeX while writing this notebook...)"
     ]
    },
    {
     "cell_type": "code",
     "collapsed": false,
     "input": [
      "from question3 import OneVsAllNaiveBayesClassifier\n",
      "\n",
      "TP = defaultdict(int)\n",
      "FP = defaultdict(int)\n",
      "TN = defaultdict(int)\n",
      "FN = defaultdict(int)\n",
      "\n",
      "\n",
      "start = time.time()\n",
      "\n",
      "train_featuresets = get_featuresets(bag_of_words, most_frequent_words[:2000], \"training\")\n",
      "test_featuresets = get_featuresets(bag_of_words, most_frequent_words[:2000], \"test\")\n",
      "\n",
      "classifier = OneVsAllNaiveBayesClassifier.train(train_featuresets)\n",
      "\n",
      "def classify_one(labeled_featureset):\n",
      "    featureset, real_label = labeled_featureset\n",
      "    return (classifier.classify(featureset), real_label)\n",
      "\n",
      "\n",
      "print \"Trained, now classifying\"\n",
      "sys.stdout.flush()\n",
      "\n",
      "tests_refs = Parallel(n_jobs=num_cores, verbose = 0)(delayed(classify_one)(item) for item in test_featuresets)\n",
      "\n",
      "end = time.time()\n",
      "print \"finished in %fs\" % (end-start)\n",
      "\n",
      "N = 0 # count because the generator dies with the loop\n",
      "for test, ref in tests_refs:\n",
      "    N += 1 \n",
      "    if test == ref:\n",
      "        TP[ref] += 1\n",
      "    else:\n",
      "        FP[test] += 1\n",
      "        FN[ref] += 1\n",
      "#     for label in labels - set([test, ref]):\n",
      "#         TN[label] += 1 # we add a TN to all labels except test (that one is either TP or FP) and ref (same)\n",
      "\n",
      "print \"accuracy: %f\\n\\n\" % (float(sum(TP.values()))/N)"
     ],
     "language": "python",
     "metadata": {},
     "outputs": [
      {
       "ename": "IndexError",
       "evalue": "list index out of range",
       "output_type": "pyerr",
       "traceback": [
        "\u001b[1;31m---------------------------------------------------------------------------\u001b[0m\n\u001b[1;31mIndexError\u001b[0m                                Traceback (most recent call last)",
        "\u001b[1;32m<ipython-input-8-ab4f222f993c>\u001b[0m in \u001b[0;36m<module>\u001b[1;34m()\u001b[0m\n\u001b[0;32m     12\u001b[0m \u001b[0mtest_featuresets\u001b[0m \u001b[1;33m=\u001b[0m \u001b[0mget_featuresets\u001b[0m\u001b[1;33m(\u001b[0m\u001b[0mbag_of_words\u001b[0m\u001b[1;33m,\u001b[0m \u001b[0mmost_frequent_words\u001b[0m\u001b[1;33m[\u001b[0m\u001b[1;33m:\u001b[0m\u001b[1;36m2000\u001b[0m\u001b[1;33m]\u001b[0m\u001b[1;33m,\u001b[0m \u001b[1;34m\"test\"\u001b[0m\u001b[1;33m)\u001b[0m\u001b[1;33m\u001b[0m\u001b[0m\n\u001b[0;32m     13\u001b[0m \u001b[1;33m\u001b[0m\u001b[0m\n\u001b[1;32m---> 14\u001b[1;33m \u001b[0mclassifier\u001b[0m \u001b[1;33m=\u001b[0m \u001b[0mNaiveBayesClassifier\u001b[0m\u001b[1;33m.\u001b[0m\u001b[0mtrain\u001b[0m\u001b[1;33m(\u001b[0m\u001b[0mtrain_featuresets\u001b[0m\u001b[1;33m)\u001b[0m\u001b[1;33m\u001b[0m\u001b[0m\n\u001b[0m\u001b[0;32m     15\u001b[0m \u001b[1;33m\u001b[0m\u001b[0m\n\u001b[0;32m     16\u001b[0m \u001b[1;32mdef\u001b[0m \u001b[0mclassify_one\u001b[0m\u001b[1;33m(\u001b[0m\u001b[0mlabeled_featureset\u001b[0m\u001b[1;33m)\u001b[0m\u001b[1;33m:\u001b[0m\u001b[1;33m\u001b[0m\u001b[0m\n",
        "\u001b[1;32m/usr/lib/python2.7/site-packages/nltk/classify/naivebayes.pyc\u001b[0m in \u001b[0;36mtrain\u001b[1;34m(labeled_featuresets, estimator)\u001b[0m\n\u001b[0;32m    190\u001b[0m         \u001b[1;31m# Count up how many times each feature value occurred, given\u001b[0m\u001b[1;33m\u001b[0m\u001b[1;33m\u001b[0m\u001b[0m\n\u001b[0;32m    191\u001b[0m         \u001b[1;31m# the label and featurename.\u001b[0m\u001b[1;33m\u001b[0m\u001b[1;33m\u001b[0m\u001b[0m\n\u001b[1;32m--> 192\u001b[1;33m         \u001b[1;32mfor\u001b[0m \u001b[0mfeatureset\u001b[0m\u001b[1;33m,\u001b[0m \u001b[0mlabel\u001b[0m \u001b[1;32min\u001b[0m \u001b[0mlabeled_featuresets\u001b[0m\u001b[1;33m:\u001b[0m\u001b[1;33m\u001b[0m\u001b[0m\n\u001b[0m\u001b[0;32m    193\u001b[0m             \u001b[0mlabel_freqdist\u001b[0m\u001b[1;33m[\u001b[0m\u001b[0mlabel\u001b[0m\u001b[1;33m]\u001b[0m \u001b[1;33m+=\u001b[0m \u001b[1;36m1\u001b[0m\u001b[1;33m\u001b[0m\u001b[0m\n\u001b[0;32m    194\u001b[0m             \u001b[1;32mfor\u001b[0m \u001b[0mfname\u001b[0m\u001b[1;33m,\u001b[0m \u001b[0mfval\u001b[0m \u001b[1;32min\u001b[0m \u001b[0mfeatureset\u001b[0m\u001b[1;33m.\u001b[0m\u001b[0mitems\u001b[0m\u001b[1;33m(\u001b[0m\u001b[1;33m)\u001b[0m\u001b[1;33m:\u001b[0m\u001b[1;33m\u001b[0m\u001b[0m\n",
        "\u001b[1;32m/home/itay/PycharmProjects/nlp/NLP_assignment_2/question3.py\u001b[0m in \u001b[0;36mget_featuresets\u001b[1;34m(feature_extractor, v, section)\u001b[0m\n\u001b[0;32m     23\u001b[0m     \u001b[1;32mfor\u001b[0m \u001b[0mfileid\u001b[0m \u001b[1;32min\u001b[0m \u001b[0mreuters\u001b[0m\u001b[1;33m.\u001b[0m\u001b[0mfileids\u001b[0m\u001b[1;33m(\u001b[0m\u001b[1;33m)\u001b[0m\u001b[1;33m:\u001b[0m\u001b[1;33m\u001b[0m\u001b[0m\n\u001b[0;32m     24\u001b[0m         \u001b[0mfeatureset\u001b[0m \u001b[1;33m=\u001b[0m \u001b[0mfeature_extractor\u001b[0m\u001b[1;33m(\u001b[0m\u001b[0mreuters\u001b[0m\u001b[1;33m.\u001b[0m\u001b[0mwords\u001b[0m\u001b[1;33m(\u001b[0m\u001b[0mfileids\u001b[0m\u001b[1;33m=\u001b[0m\u001b[1;33m[\u001b[0m\u001b[0mfileid\u001b[0m\u001b[1;33m]\u001b[0m\u001b[1;33m)\u001b[0m\u001b[1;33m,\u001b[0m \u001b[0mv\u001b[0m\u001b[1;33m)\u001b[0m\u001b[1;33m\u001b[0m\u001b[0m\n\u001b[1;32m---> 25\u001b[1;33m         \u001b[0mcategory\u001b[0m \u001b[1;33m=\u001b[0m \u001b[0mreuters\u001b[0m\u001b[1;33m.\u001b[0m\u001b[0mcategories\u001b[0m\u001b[1;33m(\u001b[0m\u001b[0mfileid\u001b[0m\u001b[1;33m)\u001b[0m\u001b[1;33m[\u001b[0m\u001b[1;36m0\u001b[0m\u001b[1;33m]\u001b[0m\u001b[1;33m\u001b[0m\u001b[0m\n\u001b[0m\u001b[0;32m     26\u001b[0m         \u001b[1;32mif\u001b[0m \u001b[0mfileid\u001b[0m\u001b[1;33m[\u001b[0m\u001b[1;33m:\u001b[0m\u001b[0mlen\u001b[0m\u001b[1;33m(\u001b[0m\u001b[0msection\u001b[0m\u001b[1;33m)\u001b[0m\u001b[1;33m]\u001b[0m \u001b[1;33m==\u001b[0m \u001b[0msection\u001b[0m\u001b[1;33m:\u001b[0m\u001b[1;33m\u001b[0m\u001b[0m\n\u001b[0;32m     27\u001b[0m             \u001b[1;32myield\u001b[0m \u001b[1;33m(\u001b[0m\u001b[0mfeatureset\u001b[0m\u001b[1;33m,\u001b[0m \u001b[0mcategory\u001b[0m\u001b[1;33m)\u001b[0m\u001b[1;33m\u001b[0m\u001b[0m\n",
        "\u001b[1;31mIndexError\u001b[0m: list index out of range"
       ]
      }
     ],
     "prompt_number": 8
    },
    {
     "cell_type": "markdown",
     "metadata": {},
     "source": [
      "accuracy one-vs-rest, binary, 2k: 0.730043 (2.2% improvement!)"
     ]
    },
    {
     "cell_type": "heading",
     "level": 1,
     "metadata": {},
     "source": [
      "Q3.4 TF*IDF Feature Selection for Naive Bayes for Multi-label Classification"
     ]
    },
    {
     "cell_type": "code",
     "collapsed": false,
     "input": [
      "from sklearn.feature_extraction.text import TfidfVectorizer\n",
      "\n",
      "vectorizer = TfidfVectorizer(input='content', stop_words='english', max_features=2000)\n",
      "documents = [\"the bit cash\", \"the money cash cash cash\", \"the bit bit cash\", \"dukis cash\"]\n",
      "sparse_matrix = vectorizer.fit_transform(documents)\n",
      "# we expect that:\n",
      "# 'the' will be removed as stop word\n",
      "# 'bit' is going to have a relatively high value in both docs it appears in\n",
      "# 'cash' will only have high value in the second doc\n",
      "# 'dukis' will have high value and only appaer in the 4th doc\n",
      "# ...\n",
      "\n",
      "print vectorizer.get_feature_names() # mapping from index in the feature matrix to word\n",
      "\n",
      "print sparse_matrix.toarray() # we didn't use sparse matrices until now, so we won't start now.\n",
      "\n"
     ],
     "language": "python",
     "metadata": {},
     "outputs": [
      {
       "output_type": "stream",
       "stream": "stdout",
       "text": [
        "[u'bit', u'cash', u'dukis', u'money']\n",
        "[[ 0.83388421  0.55193942  0.          0.        ]\n",
        " [ 0.          0.84274417  0.          0.53831428]\n",
        " [ 0.94936136  0.31418628  0.          0.        ]\n",
        " [ 0.          0.46263733  0.88654763  0.        ]]\n"
       ]
      }
     ],
     "prompt_number": 1
    },
    {
     "cell_type": "code",
     "collapsed": false,
     "input": [
      "from itertools import izip\n",
      "from question3 import get_featuresets\n",
      "from sklearn.feature_extraction.text import TfidfVectorizer\n",
      "\n",
      "vectorizer = TfidfVectorizer(input='content', stop_words='english', max_features=2000)\n",
      "\n",
      "def string_extractor(document, v):\n",
      "    return \" \".join(document)\n",
      "\n",
      "\n",
      "train_docs_labels = get_featuresets(string_extractor, None, \"training\") # iterator of (document, label) where document is a string.\n",
      "test_docs_labels = get_featuresets(string_extractor, None, \"test\")\n",
      "\n",
      "# for each of those pairs, we want to replace the document with the featureset generated by the vectorizer.\n",
      "def vectorizer_feeder(labels_list, dataset):\n",
      "    for doc, label in dataset:\n",
      "        labels_list.append(label)\n",
      "        yield doc\n",
      "\n",
      "\n",
      "train_labels = []\n",
      "test_labels = []\n",
      "        \n",
      "training_matrix = vectorizer.fit_transform(vectorizer_feeder(train_labels, train_docs_labels))\n",
      "labeled_featuresets = izip(training_matrix.toarray(), train_labels)\n",
      "\n",
      "test_matrix = vectorizer.transform(vectorizer_feeder(test_labels, test_docs_labels))\n",
      "print repr(test_matrix)\n",
      "test_labeled_featuresets = izip(test_matrix.toarray(), test_labels)\n",
      "\n",
      "\n",
      "# print labeled_featuresets[0]\n",
      "# print test_labeled_featuresets[0]\n",
      "\n",
      "def dictionerize(labeled_featureset):\n",
      "    featureset, label = labeled_featureset\n",
      "    return dict(enumerate(featureset)), label\n",
      "\n",
      "# print dictionerize(labeled_featuresets[0])[0].items()[:10]"
     ],
     "language": "python",
     "metadata": {},
     "outputs": [
      {
       "output_type": "stream",
       "stream": "stdout",
       "text": [
        "<3019x2000 sparse matrix of type '<type 'numpy.float64'>'\n",
        "\twith 115641 stored elements in Compressed Sparse Row format>\n"
       ]
      }
     ],
     "prompt_number": 1
    },
    {
     "cell_type": "markdown",
     "metadata": {},
     "source": [
      "that works, now we can feed it to any of our classifiers. start with the requested one-vs-rest."
     ]
    },
    {
     "cell_type": "code",
     "collapsed": false,
     "input": [
      "from question3 import OneVsAllNaiveBayesClassifier\n",
      "from collections import defaultdict\n",
      "import time\n",
      "from joblib import Parallel, delayed\n",
      "import multiprocessing\n",
      "import sys\n",
      "\n",
      "num_cores = multiprocessing.cpu_count()\n",
      "\n",
      "\n",
      "TP = defaultdict(int)\n",
      "FP = defaultdict(int)\n",
      "FN = defaultdict(int)\n",
      "\n",
      "\n",
      "start = time.time()\n",
      "\n",
      "def classify_one(labeled_featureset):\n",
      "    featureset, real_label = labeled_featureset\n",
      "    return (classifier.classify(featureset), real_label)\n",
      "\n",
      "classifier = OneVsAllNaiveBayesClassifier.train((dictionerize(labeled_featureset) for labeled_featureset in labeled_featuresets))\n",
      "\n",
      "print \"Trained, now classifying\"\n",
      "sys.stdout.flush()\n",
      "\n",
      "tests = (dictionerize(labeled_featureset) for labeled_featureset in test_labeled_featuresets)\n",
      "tests_refs = Parallel(n_jobs=1, verbose = 0)(delayed(classify_one)(item) for item in tests)\n",
      "\n",
      "end = time.time()\n",
      "print \"finished in %fs\" % (end-start)\n",
      "\n",
      "N = 0 # count because the generator dies with the loop\n",
      "for test, ref in tests_refs:\n",
      "    N += 1 \n",
      "    if test == ref:\n",
      "        TP[ref] += 1\n",
      "    else:\n",
      "        FP[test] += 1\n",
      "        FN[ref] += 1\n",
      "#     for label in labels - set([test, ref]):\n",
      "#         TN[label] += 1 # we add a TN to all labels except test (that one is either TP or FP) and ref (same)\n",
      "\n",
      "print \"accuracy: %f\\n\\n\" % (float(sum(TP.values()))/N)"
     ],
     "language": "python",
     "metadata": {},
     "outputs": []
    },
    {
     "cell_type": "markdown",
     "metadata": {},
     "source": [
      "so we got an accuracy of 0.379265 aross the entire datset, but then we never really expected this to work.. let's try the multinomial one-vs-rest classifier."
     ]
    },
    {
     "cell_type": "code",
     "collapsed": false,
     "input": [
      "from itertools import izip\n",
      "from question3 import get_featuresets\n",
      "from sklearn.feature_extraction.text import TfidfVectorizer\n",
      "from sklearn.multiclass import OneVsRestClassifier\n",
      "from sklearn.naive_bayes import MultinomialNB\n",
      "from collections import defaultdict\n",
      "\n",
      "vectorizer = TfidfVectorizer(input='content', stop_words='english', max_features=2000)\n",
      "\n",
      "def string_extractor(document, v):\n",
      "    return \" \".join(document)\n",
      "\n",
      "\n",
      "train_docs_labels = get_featuresets(string_extractor, None, \"training\") # iterator of (document, label) where document is a string.\n",
      "test_docs_labels = get_featuresets(string_extractor, None, \"test\")\n",
      "\n",
      "# for each of those pairs, we want to replace the document with the featureset generated by the vectorizer.\n",
      "def vectorizer_feeder(labels_list, dataset):\n",
      "    for doc, label in dataset:\n",
      "        labels_list.append(label)\n",
      "        yield doc\n",
      "\n",
      "\n",
      "train_labels = []\n",
      "test_labels = []\n",
      "        \n",
      "training_matrix = vectorizer.fit_transform(vectorizer_feeder(train_labels, train_docs_labels))\n",
      "\n",
      "test_matrix = vectorizer.transform(vectorizer_feeder(test_labels, test_docs_labels))\n",
      "\n",
      "classifier = OneVsRestClassifier(MultinomialNB(alpha=0.5))\n",
      "classifier.fit(training_matrix, train_labels)\n",
      "predictions = classifier.predict(test_matrix)\n",
      "tests_refs = izip(predictions, test_labels)\n",
      "\n",
      "TP = defaultdict(int)\n",
      "FP = defaultdict(int)\n",
      "FN = defaultdict(int)\n",
      "\n",
      "N = 0 # count because the generator dies with the loop\n",
      "for test, ref in tests_refs:\n",
      "    N += 1 \n",
      "    if test == ref:\n",
      "        TP[ref] += 1\n",
      "    else:\n",
      "        FP[test] += 1\n",
      "        FN[ref] += 1\n",
      "#     for label in labels - set([test, ref]):\n",
      "#         TN[label] += 1 # we add a TN to all labels except test (that one is either TP or FP) and ref (same)\n",
      "\n",
      "print \"accuracy: %f\\n\\n\" % (float(sum(TP.values()))/N)"
     ],
     "language": "python",
     "metadata": {},
     "outputs": [
      {
       "output_type": "stream",
       "stream": "stdout",
       "text": [
        "accuracy: 0.822127\n",
        "\n",
        "\n"
       ]
      }
     ],
     "prompt_number": 4
    },
    {
     "cell_type": "code",
     "collapsed": false,
     "input": [
      "from nltk.corpus import reuters\n",
      "labels = set(reuters.categories()) # set of all categories so we can update TN\n",
      "P = defaultdict(int)\n",
      "R = defaultdict(int)\n",
      "FM = defaultdict(int)\n",
      "cat_length = defaultdict(int)\n",
      "\n",
      "labels = filter(lambda l:TP[l] + FN[l] > 0, labels) # some categories have no documents, this is because we dumped some labels.\n",
      "\n",
      "for l in labels:    \n",
      "    print \"%s (%d):\" % (l, (TP[l] + FN[l]))\n",
      "    cat_length[l] = TP[l] + FN[l]\n",
      "    P[l] = (1 if TP[l]+FP[l] == 0 else (float(TP[l])/(TP[l]+FP[l])))\n",
      "    R[l] = (float(TP[l])/(TP[l] + FN[l]))\n",
      "    FM[l] =  0 if (R[l] + P[l] == 0) else ((2 * P[l] * R[l] ) / (R[l] + P[l]))\n",
      "\n",
      "    print \"f-measure: %f\" % FM[l]\n",
      "    print \"percision: %f\" % P[l]\n",
      "    print \"recall: %f\" % R[l]\n",
      "    print \"\""
     ],
     "language": "python",
     "metadata": {},
     "outputs": [
      {
       "output_type": "stream",
       "stream": "stdout",
       "text": [
        "livestock (6):\n",
        "f-measure: 0.000000\n",
        "percision: 1.000000\n",
        "recall: 0.000000\n",
        "\n",
        "gold (26):\n",
        "f-measure: 0.636364\n",
        "percision: 0.777778\n",
        "recall: 0.538462\n",
        "\n",
        "trade (76):\n",
        "f-measure: 0.639269\n",
        "percision: 0.489510\n",
        "recall: 0.921053\n",
        "\n",
        "zinc (5):\n",
        "f-measure: 0.000000\n",
        "percision: 1.000000\n",
        "recall: 0.000000\n",
        "\n",
        "alum (22):\n",
        "f-measure: 0.240000\n",
        "percision: 1.000000\n",
        "recall: 0.136364\n",
        "\n",
        "instal-debt (1):\n",
        "f-measure: 0.000000\n",
        "percision: 1.000000\n",
        "recall: 0.000000\n",
        "\n",
        "dlr (43):\n",
        "f-measure: 0.676056\n",
        "percision: 0.857143\n",
        "recall: 0.558140\n",
        "\n",
        "yen (6):\n",
        "f-measure: 0.000000\n",
        "percision: 1.000000\n",
        "recall: 0.000000\n",
        "\n",
        "tin (10):\n",
        "f-measure: 0.181818\n",
        "percision: 1.000000\n",
        "recall: 0.100000\n",
        "\n",
        "sugar (25):\n",
        "f-measure: 0.846154\n",
        "percision: 0.814815\n",
        "recall: 0.880000\n",
        "\n",
        "orange (9):\n",
        "f-measure: 0.000000\n",
        "percision: 1.000000\n",
        "recall: 0.000000\n",
        "\n",
        "rice (1):\n",
        "f-measure: 0.000000\n",
        "percision: 1.000000\n",
        "recall: 0.000000\n",
        "\n",
        "coffee (25):\n",
        "f-measure: 0.941176\n",
        "percision: 0.923077\n",
        "recall: 0.960000\n",
        "\n",
        "propane (2):\n",
        "f-measure: 0.000000\n",
        "percision: 1.000000\n",
        "recall: 0.000000\n",
        "\n",
        "earn (1083):\n",
        "f-measure: 0.963636\n",
        "percision: 0.948970\n",
        "recall: 0.978763\n",
        "\n",
        "l-cattle (2):\n",
        "f-measure: 0.000000\n",
        "percision: 1.000000\n",
        "recall: 0.000000\n",
        "\n",
        "nat-gas (13):\n",
        "f-measure: 0.000000\n",
        "percision: 1.000000\n",
        "recall: 0.000000\n",
        "\n",
        "dmk (1):\n",
        "f-measure: 0.000000\n",
        "percision: 1.000000\n",
        "recall: 0.000000\n",
        "\n",
        "money-fx (96):\n",
        "f-measure: 0.649351\n",
        "percision: 0.555556\n",
        "recall: 0.781250\n",
        "\n",
        "tea (3):\n",
        "f-measure: 0.000000\n",
        "percision: 1.000000\n",
        "recall: 0.000000\n",
        "\n",
        "strategic-metal (6):\n",
        "f-measure: 0.000000\n",
        "percision: 1.000000\n",
        "recall: 0.000000\n",
        "\n",
        "lead (12):\n",
        "f-measure: 0.000000\n",
        "percision: 1.000000\n",
        "recall: 0.000000\n",
        "\n",
        "coconut-oil (2):\n",
        "f-measure: 0.000000\n",
        "percision: 1.000000\n",
        "recall: 0.000000\n",
        "\n",
        "barley (14):\n",
        "f-measure: 0.250000\n",
        "percision: 1.000000\n",
        "recall: 0.142857\n",
        "\n",
        "crude (182):\n",
        "f-measure: 0.781395\n",
        "percision: 0.677419\n",
        "recall: 0.923077\n",
        "\n",
        "soy-oil (2):\n",
        "f-measure: 0.000000\n",
        "percision: 1.000000\n",
        "recall: 0.000000\n",
        "\n",
        "jobs (13):\n",
        "f-measure: 0.869565\n",
        "percision: 1.000000\n",
        "recall: 0.769231\n",
        "\n",
        "carcass (17):\n",
        "f-measure: 0.583333\n",
        "percision: 1.000000\n",
        "recall: 0.411765\n",
        "\n",
        "lei (3):\n",
        "f-measure: 0.000000\n",
        "percision: 1.000000\n",
        "recall: 0.000000\n",
        "\n",
        "corn (48):\n",
        "f-measure: 0.612613\n",
        "percision: 0.539683\n",
        "recall: 0.708333\n",
        "\n",
        "bop (30):\n",
        "f-measure: 0.545455\n",
        "percision: 0.857143\n",
        "recall: 0.400000\n",
        "\n",
        "acq (719):\n",
        "f-measure: 0.933775\n",
        "percision: 0.891277\n",
        "recall: 0.980529\n",
        "\n",
        "grain (77):\n",
        "f-measure: 0.631579\n",
        "percision: 0.530973\n",
        "recall: 0.779221\n",
        "\n",
        "retail (1):\n",
        "f-measure: 0.000000\n",
        "percision: 1.000000\n",
        "recall: 0.000000\n",
        "\n",
        "wpi (9):\n",
        "f-measure: 0.000000\n",
        "percision: 1.000000\n",
        "recall: 0.000000\n",
        "\n",
        "copper (15):\n",
        "f-measure: 0.538462\n",
        "percision: 0.636364\n",
        "recall: 0.466667\n",
        "\n",
        "ipi (11):\n",
        "f-measure: 0.533333\n",
        "percision: 1.000000\n",
        "recall: 0.363636\n",
        "\n",
        "cocoa (17):\n",
        "f-measure: 0.787879\n",
        "percision: 0.812500\n",
        "recall: 0.764706\n",
        "\n",
        "soybean (2):\n",
        "f-measure: 0.000000\n",
        "percision: 1.000000\n",
        "recall: 0.000000\n",
        "\n",
        "platinum (3):\n",
        "f-measure: 0.000000\n",
        "percision: 1.000000\n",
        "recall: 0.000000\n",
        "\n",
        "jet (1):\n",
        "f-measure: 0.000000\n",
        "percision: 1.000000\n",
        "recall: 0.000000\n",
        "\n",
        "palm-oil (4):\n",
        "f-measure: 0.400000\n",
        "percision: 1.000000\n",
        "recall: 0.250000\n",
        "\n",
        "housing (3):\n",
        "f-measure: 0.500000\n",
        "percision: 1.000000\n",
        "recall: 0.333333\n",
        "\n",
        "castor-oil (1):\n",
        "f-measure: 0.000000\n",
        "percision: 1.000000\n",
        "recall: 0.000000\n",
        "\n",
        "dfl (1):\n",
        "f-measure: 0.000000\n",
        "percision: 1.000000\n",
        "recall: 0.000000\n",
        "\n",
        "groundnut (3):\n",
        "f-measure: 0.000000\n",
        "percision: 1.000000\n",
        "recall: 0.000000\n",
        "\n",
        "interest (124):\n",
        "f-measure: 0.759690\n",
        "percision: 0.731343\n",
        "recall: 0.790323\n",
        "\n",
        "nickel (1):\n",
        "f-measure: 0.000000\n",
        "percision: 1.000000\n",
        "recall: 0.000000\n",
        "\n",
        "meal-feed (6):\n",
        "f-measure: 0.000000\n",
        "percision: 1.000000\n",
        "recall: 0.000000\n",
        "\n",
        "gas (9):\n",
        "f-measure: 0.000000\n",
        "percision: 1.000000\n",
        "recall: 0.000000\n",
        "\n",
        "fuel (9):\n",
        "f-measure: 0.000000\n",
        "percision: 1.000000\n",
        "recall: 0.000000\n",
        "\n",
        "heat (4):\n",
        "f-measure: 0.000000\n",
        "percision: 1.000000\n",
        "recall: 0.000000\n",
        "\n",
        "naphtha (1):\n",
        "f-measure: 0.000000\n",
        "percision: 1.000000\n",
        "recall: 0.000000\n",
        "\n",
        "rape-oil (1):\n",
        "f-measure: 0.000000\n",
        "percision: 1.000000\n",
        "recall: 0.000000\n",
        "\n",
        "palladium (1):\n",
        "f-measure: 0.000000\n",
        "percision: 1.000000\n",
        "recall: 0.000000\n",
        "\n",
        "gnp (19):\n",
        "f-measure: 0.627451\n",
        "percision: 0.500000\n",
        "recall: 0.842105\n",
        "\n",
        "lumber (5):\n",
        "f-measure: 0.000000\n",
        "percision: 1.000000\n",
        "recall: 0.000000\n",
        "\n",
        "coconut (2):\n",
        "f-measure: 0.000000\n",
        "percision: 1.000000\n",
        "recall: 0.000000\n",
        "\n",
        "iron-steel (14):\n",
        "f-measure: 0.000000\n",
        "percision: 0.000000\n",
        "recall: 0.000000\n",
        "\n",
        "reserves (14):\n",
        "f-measure: 0.000000\n",
        "percision: 1.000000\n",
        "recall: 0.000000\n",
        "\n",
        "ship (39):\n",
        "f-measure: 0.448276\n",
        "percision: 0.684211\n",
        "recall: 0.333333\n",
        "\n",
        "cotton (14):\n",
        "f-measure: 0.250000\n",
        "percision: 1.000000\n",
        "recall: 0.142857\n",
        "\n",
        "hog (4):\n",
        "f-measure: 0.000000\n",
        "percision: 1.000000\n",
        "recall: 0.000000\n",
        "\n",
        "rubber (9):\n",
        "f-measure: 0.714286\n",
        "percision: 1.000000\n",
        "recall: 0.555556\n",
        "\n",
        "veg-oil (11):\n",
        "f-measure: 0.000000\n",
        "percision: 1.000000\n",
        "recall: 0.000000\n",
        "\n",
        "income (5):\n",
        "f-measure: 0.000000\n",
        "percision: 1.000000\n",
        "recall: 0.000000\n",
        "\n",
        "oilseed (13):\n",
        "f-measure: 0.142857\n",
        "percision: 1.000000\n",
        "recall: 0.076923\n",
        "\n",
        "cpi (24):\n",
        "f-measure: 0.468085\n",
        "percision: 0.478261\n",
        "recall: 0.458333\n",
        "\n",
        "potato (3):\n",
        "f-measure: 0.000000\n",
        "percision: 1.000000\n",
        "recall: 0.000000\n",
        "\n",
        "money-supply (29):\n",
        "f-measure: 0.730769\n",
        "percision: 0.826087\n",
        "recall: 0.655172\n",
        "\n",
        "pet-chem (6):\n",
        "f-measure: 0.000000\n",
        "percision: 1.000000\n",
        "recall: 0.000000\n",
        "\n",
        "cpu (1):\n",
        "f-measure: 0.000000\n",
        "percision: 1.000000\n",
        "recall: 0.000000\n",
        "\n"
       ]
      }
     ],
     "prompt_number": 13
    },
    {
     "cell_type": "code",
     "collapsed": false,
     "input": [
      "from question1 import OptimizeLS, plot_function, get_learned_polynomial\n",
      "import numpy as np\n",
      "import matplotlib.pyplot as plt\n",
      "import pylab\n",
      "from math import log\n",
      "\n",
      "sizes_fms = [(log(TP[l] + FN[l], 10), FM[l]) for l in labels]\n",
      "sizes_fms = sorted(sizes_fms, key=lambda sfm: sfm[0])\n",
      "\n",
      "x, y = zip(*sizes_fms)\n",
      "%matplotlib inline\n",
      "\n",
      "x_range = np.linspace(0.0,3.5,100000)\n",
      "w_vector = OptimizeLS(x, y, 1)\n",
      "print w_vector\n",
      "# lp = get_learned_polynomial(w_vector, x_range)\n",
      "\n",
      "def fn(t):\n",
      "    return w_vector[0] + w_vector[1] * t\n",
      "\n",
      "fig = plt.figure()\n",
      "ax = fig.gca()\n",
      "ax.set_xticks(np.arange(0,3.5,0.5))\n",
      "ax.set_yticks(np.arange(0,1.,0.1))\n",
      "plt.grid()\n",
      "\n",
      "plt.plot([0, 3.5], [fn(0), fn(3.5)], color='k', linestyle='-', linewidth=2)\n",
      "plt.scatter(x, y, c='red')"
     ],
     "language": "python",
     "metadata": {},
     "outputs": [
      {
       "output_type": "stream",
       "stream": "stdout",
       "text": [
        "(2, 2)\n",
        "[-0.09264944  0.37767919]\n"
       ]
      },
      {
       "metadata": {},
       "output_type": "pyout",
       "prompt_number": 14,
       "text": [
        "<matplotlib.collections.PathCollection at 0x6f3b810>"
       ]
      },
      {
       "metadata": {},
       "output_type": "display_data",
       "png": "[encoded data removed]",
       "text": [
        "<matplotlib.figure.Figure at 0x6e0a890>"
       ]
      }
     ],
     "prompt_number": 14
    },
    {
     "cell_type": "code",
     "collapsed": false,
     "input": [],
     "language": "python",
     "metadata": {},
     "outputs": []
    }
   ],
   "metadata": {}
  }
 ]
}