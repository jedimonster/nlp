{
 "metadata": {
  "name": "",
  "signature": "sha256:4e0ee0602ea6447d866b13422313041f386d0de25a5aec7ff4272b39a7d94f81"
 },
 "nbformat": 3,
 "nbformat_minor": 0,
 "worksheets": [
  {
   "cells": [
    {
     "cell_type": "markdown",
     "metadata": {},
     "source": [
      "Since the linked article seems to be inventing greek letters on the go, we used <a href=\"https://www.ke.tu-darmstadt.de/~juffi/publications/ecml-07-NaiveBayes.pdf\">this</a> paper for inspiration and reference.\n",
      "Looking at NaiveBayesClassifier.prob_classify(feature_set):"
     ]
    },
    {
     "cell_type": "markdown",
     "metadata": {},
     "source": [
      "<pre>\n",
      "for label in self._labels:\n",
      "    logprob[label] = self._label_probdist.logprob(label)\n",
      "\n",
      "    # Then add in the log probability of features given labels.\n",
      "for label in self._labels:\n",
      "    for (fname, fval) in featureset.items():\n",
      "        if (label, fname) in self._feature_probdist:\n",
      "            feature_probs = self._feature_probdist[label, fname]\n",
      "            logprob[label] += feature_probs.logprob(fval)\n",
      "        else:\n",
      "            # nb: This case will never come up if the\n",
      "            # classifier was created by\n",
      "            # NaiveBayesClassifier.train().\n",
      "            logprob[label] += sum_logs([])  # = -INF.\n",
      "</pre>                    "
     ]
    },
    {
     "cell_type": "markdown",
     "metadata": {},
     "source": [
      "Those lines are the python equivalent of the log of the following estimation for C, where the argmax is performed in the calling line <br/><pre>\n",
      "self.prob_classify(featureset).max()\n",
      "</pre>\n",
      "<img src=\"./pictures/naive-baise-likelihood.png\" /><br/>\n",
      "which means, nltk implements the 'normal' naive bayse classifier, but according to the paper linked, it is equivalent to the pairwise (one vs one) version (conclusion in abstract, proof in section 4."
     ]
    },
    {
     "cell_type": "heading",
     "level": 1,
     "metadata": {},
     "source": [
      "Running the original nltk naive baise"
     ]
    },
    {
     "cell_type": "markdown",
     "metadata": {},
     "source": [
      "First we need to create our features, let's sort the words according to frequency in the curpos."
     ]
    },
    {
     "cell_type": "code",
     "collapsed": false,
     "input": [
      "from nltk.corpus import reuters\n",
      "from collections import defaultdict\n",
      "\n",
      "words = reuters.words()\n",
      "word_freq = defaultdict(int)\n",
      "for word in words:\n",
      "    word_freq[word] += 1\n",
      "\n",
      "sorted_words = sorted(set(words), key=word_freq.get, reverse=True)\n",
      "\n",
      "for word in sorted_words[:10]:\n",
      "    print word, \":\", word_freq[word]"
     ],
     "language": "python",
     "metadata": {},
     "outputs": [
      {
       "output_type": "stream",
       "stream": "stdout",
       "text": [
        ". : 94687\n",
        ", : 72360\n",
        "the : 58251\n",
        "of : 35979\n",
        "to : 34035\n",
        "in : 26478\n",
        "said : 25224\n",
        "and : 25043\n",
        "a : 23492\n",
        "mln : 18037\n"
       ]
      }
     ],
     "prompt_number": 4
    },
    {
     "cell_type": "markdown",
     "metadata": {},
     "source": [
      "we notice that we get a lot of punctuation marks, so we'll make the assumption one letter words are useless (we'll verify we didn't hurt accuracy later):"
     ]
    },
    {
     "cell_type": "code",
     "collapsed": false,
     "input": [
      "most_frequent_words = filter(lambda w: len(w) > 1, sorted_words)\n",
      "print len(most_frequent_words)\n",
      "print most_frequent_words[:10]"
     ],
     "language": "python",
     "metadata": {},
     "outputs": [
      {
       "output_type": "stream",
       "stream": "stdout",
       "text": [
        "41524\n",
        "[u'the', u'of', u'to', u'in', u'said', u'and', u'mln', u'vs', u'for', u'dlrs']\n"
       ]
      }
     ],
     "prompt_number": 5
    },
    {
     "cell_type": "markdown",
     "metadata": {},
     "source": [
      "a feature will be a word, and the value will be the frequency.<br/>\n",
      "We'll define both bag_of_words_freq and bag_of_words (binary). We expect frequency to yield better results.<br/>\n",
      "We'll also define get_dataset(K, feature_extractor) where K is the number of words to  use, and feature extractor is the method that generates the bag of word.<br/>"
     ]
    },
    {
     "cell_type": "code",
     "collapsed": false,
     "input": [
      "def bag_of_words_freq(document, words):\n",
      "    bag = dict((word, 0) for word in words)\n",
      "    \n",
      "    for word in document:\n",
      "        if word in words:\n",
      "            bag[word] += 1\n",
      "            \n",
      "    return bag\n",
      "\n",
      "def bag_of_words(document, words):\n",
      "    document_set = set(document)\n",
      "    intersection = document_set.intersection(words)\n",
      "    return dict([(word, (word in intersection)) for word in words])"
     ],
     "language": "python",
     "metadata": {},
     "outputs": [],
     "prompt_number": 7
    },
    {
     "cell_type": "markdown",
     "metadata": {},
     "source": [
      "define a small test with a couple of fabricated document that should be linearly separateable:"
     ]
    },
    {
     "cell_type": "markdown",
     "metadata": {},
     "source": [
      "finance_doc = \"money money money money money money money money money money\".split(\" \") # 10 occurences of money\n",
      "cs_doc = \"bit bit bit bit bit bit bit bit bit bit\".split(\" \") # 10 occurency of bit\n",
      "finance_test = \"money money money money money money money money money money money\" # 11 occurences\n",
      "cs_test = \"bit bit bit bit bit bit bit bit bit bit bit\".split(\" \") # 11 occurences\n",
      "\n",
      "v = set([\"bit\",\"money\"])\n",
      "\n",
      "train_featuresets = [(bag_of_words_freq(finance_doc, v), \"finance\"), (bag_of_words_freq(cs_doc, v), \"CS\")] \n",
      "test_featuresets = [(bag_of_words_freq(finance_test, v), \"finance\"), (bag_of_words_freq(cs_test, v), \"CS\")] \n",
      "\n",
      "print train_featuresets"
     ]
    },
    {
     "cell_type": "code",
     "collapsed": false,
     "input": [
      "from nltk import NaiveBayesClassifier as NB\n",
      "\n",
      "classifier = NB.train(train_featuresets)\n",
      "\n",
      "print \"verifying the training data is classified correctly:\"\n",
      "for featureset, label in train_featuresets:\n",
      "    print \"classified %s document as %s\" % (label, classifier.classify(featureset))\n",
      "    \n",
      "print \"trying to classify test set:\"\n",
      "for featureset, label in test_featuresets:\n",
      "    print \"classified %s document as %s\" % (label, classifier.classify(featureset))"
     ],
     "language": "python",
     "metadata": {},
     "outputs": [
      {
       "output_type": "stream",
       "stream": "stdout",
       "text": [
        "verifying the training data is classified correctly:\n",
        "classified finance document as finance\n",
        "classified CS document as CS\n",
        "trying to classify test set:\n",
        "classified finance document as finance\n",
        "classified CS document as CS\n"
       ]
      }
     ],
     "prompt_number": 17
    },
    {
     "cell_type": "markdown",
     "metadata": {},
     "source": [
      "Seems reasonable. We'll now define methods to get a classifier and generators for the train and test featuresets, because otherwise we'll end up with huge arrays dangling."
     ]
    },
    {
     "cell_type": "code",
     "collapsed": false,
     "input": [
      "def get_featuresets(feature_extractor, v, section):\n",
      "    train_featuresets = list()  # list of pairs (featureset, category)\n",
      "    test_featuresets = list()\n",
      "\n",
      "    for category in reuters.categories():\n",
      "        for fileid in reuters.fileids(categories=category):\n",
      "            featureset = feature_extractor(reuters.words(fileids=[fileid]), v)\n",
      "            if fileid[:len(section)] == section:\n",
      "                yield (featureset, category)"
     ],
     "language": "python",
     "metadata": {},
     "outputs": [],
     "prompt_number": 21
    },
    {
     "cell_type": "code",
     "collapsed": false,
     "input": [
      "train_featuresets = get_featuresets(bag_of_words_freq, most_frequent_words[:1000], \"training\")\n",
      "print next(train_featuresets)"
     ],
     "language": "python",
     "metadata": {},
     "outputs": [
      {
       "output_type": "stream",
       "stream": "stdout",
       "text": [
        "({u'Canada': 0, u'all': 0, u'consider': 0, u'RATE': 0, u'issued': 0, u'LTD': 0, u'dollar': 0, u'results': 0, u'month': 0, u'four': 0, u'ministers': 0, u'ON': 0, u'Department': 0, u'issues': 0, u'excludes': 0, u'GROUP': 0, u'hold': 0, u're': 0, u'producing': 0, u'to': 9, u'charge': 0, u'program': 0, u'quotas': 0, u'supplies': 0, u'under': 1, u'include': 0, u'worth': 0, u'pact': 0, u'Canadian': 0, u'very': 0, u'rise': 0, u'additional': 2, u'fall': 0, u'exporters': 0, u'continued': 0, u'service': 0, u'pre': 0, u'level': 0, u'--': 0, u'MONEY': 0, u'companies': 0, u'large': 0, u'German': 0, u'small': 0, u'study': 0, u'div': 0, u'noted': 0, u'Central': 0, u'Reagan': 0, u'estimates': 0, u'PCT': 0, u'cash': 0, u'past': 0, u'talks': 0, u'likely': 0, u'cost': 0, u'go': 0, u'growing': 0, u'further': 0, u'estimated': 0, u'investment': 0, u'MARKET': 0, u'even': 0, u'DLRS': 0, u'what': 0, u'Korea': 0, u'probably': 0, u'USAir': 0, u'near': 0, u'shares': 3, u'spokesman': 0, u'above': 0, u'capital': 0, u'new': 0, u'net': 0, u'America': 0, u'boost': 0, u'public': 0, u'steel': 0, u'told': 0, u'full': 0, u'led': 0, u'exchange': 0, u'respectively': 0, u'marketing': 0, u'commercial': 0, u'here': 0, u'monetary': 0, u'reported': 0, u'operating': 0, u'free': 0, u'Ltd': 0, u'100': 0, u'strong': 0, u'change': 1, u'39': 0, u'38': 0, u'division': 0, u'cts': 0, u'33': 0, u'32': 0, u'31': 0, u'30': 0, u'37': 0, u'36': 0, u'35': 0, u'34': 0, u'prior': 0, u'amount': 0, u'products': 0, u'analysts': 0, u'action': 0, u'changes': 0, u'delegates': 0, u'INC': 0, u'Economic': 0, u'Group': 0, u'members': 0, u'CTS': 0, u'45': 0, u'private': 0, u'repurchase': 0, u'4TH': 0, u'89': 0, u'soybean': 0, u'total': 1, u'estimate': 0, u'unit': 0, u'Europe': 0, u'shareholders': 0, u'Australia': 0, u'from': 0, u'August': 0, u'would': 3, u'42': 0, u'June': 0, u'two': 0, u'next': 0, u'few': 0, u'Corp': 0, u'SETS': 0, u'taken': 0, u'francs': 0, u'markets': 0, u'until': 0, u'today': 0, u'more': 0, u'Savings': 0, u'October': 0, u'on': 0, u'share': 2, u'company': 4, u'marks': 0, u'pipeline': 0, u'99': 0, u'98': 0, u'American': 0, u'sharply': 0, u'1ST': 0, u'90': 0, u'93': 0, u'92': 0, u'95': 0, u'must': 0, u'LOSS': 0, u'account': 0, u'rights': 1, u'this': 0, u'work': 0, u'Pacific': 0, u'remain': 0, u'nine': 0, u'can': 0, u'December': 0, u'following': 0, u'making': 0, u'revenues': 0, u'National': 0, u'Inc': 2, u'control': 1, u'purchases': 0, u'figure': 0, u'give': 0, u'Federal': 0, u'Dutch': 0, u'tax': 0, u'high': 0, u'currency': 0, u'reserves': 0, u'want': 0, u'extraordinary': 0, u'sharp': 0, u'Australian': 0, u',\"': 0, u'provide': 0, u'six': 0, u'traders': 0, u'far': 0, u'earnings': 0, u'fourth': 0, u'if': 1, u'economy': 0, u'plant': 0, u'STAKE': 0, u'plans': 0, u'effect': 0, u'may': 0, u'earlier': 0, u'them': 0, u'British': 0, u'reflect': 0, u'Paris': 0, u'restructuring': 0, u'such': 0, u'data': 0, u'response': 0, u'BANK': 0, u'purchase': 1, u'short': 0, u'natural': 0, u'third': 0, u'slightly': 0, u'quoted': 0, u'futures': 0, u'Japanese': 0, u'Community': 0, u'discontinued': 0, u'like': 0, u'chief': 0, u'so': 0, u'increasing': 0, u'allow': 0, u'banks': 0, u'credits': 0, u'began': 0, u'operations': 0, u'help': 1, u'producer': 0, u'over': 0, u'move': 0, u'expects': 0, u'trade': 0, u'stability': 0, u'ended': 0, u'already': 0, u'through': 0, u'committee': 0, u'North': 0, u'still': 0, u'its': 5, u'Texas': 0, u'before': 0, u'24': 0, u'25': 0, u'26': 0, u'27': 0, u'March': 0, u'21': 0, u'22': 0, u'23': 0, u'28': 0, u'29': 0, u'pct': 2, u'late': 0, u'lt': 3, u'production': 0, u'disclosed': 0, u'400': 0, u'policy': 0, u'World': 0, u'weeks': 0, u'main': 0, u'might': 0, u'then': 0, u'Shr': 0, u'good': 0, u'return': 0, u'finance': 0, u'seeking': 0, u'food': 0, u'BUYS': 0, u'undisclosed': 0, u'JAN': 0, u'they': 0, u'half': 0, u'not': 1, u'now': 0, u'provision': 0, u'day': 0, u'bank': 0, u'FIRST': 0, u'PAYOUT': 0, u'cocoa': 0, u'term': 0, u'name': 0, u'drop': 0, u'47': 0, u'gave': 0, u'did': 0, u'IT': 0, u'each': 0, u'rising': 0, u'raised': 0, u'quarter': 0, u'Agriculture': 0, u'pressure': 0, u'barrels': 0, u'development': 0, u'financial': 0, u'>.': 0, u'proposals': 0, u'energy': 0, u'revised': 0, u'reduce': 0, u'product': 1, u'88': 0, u'used': 0, u'trading': 0, u'expect': 0, u'year': 0, u'our': 0, u'80': 0, u'86': 0, u'87': 0, u'special': 0, u'out': 0, u'PRICES': 0, u'profit': 0, u'since': 0, u'increase': 1, u'farm': 0, u'China': 0, u'shipment': 0, u'issue': 0, u'announced': 0, u'Commerce': 0, u'SHR': 0, u'after': 0, u'This': 0, u'Indonesia': 0, u'directors': 0, u'little': 0, u'EC': 0, u'20': 0, u'Record': 0, u'base': 0, u'Nine': 0, u'Qtly': 0, u'put': 0, u'Iran': 0, u'reporters': 0, u'Finance': 0, u'Monday': 0, u'September': 0, u'could': 0, u'days': 0, u'keep': 0, u'59': 0, u'levels': 0, u'JAPAN': 0, u'support': 0, u'first': 0, u'Brazil': 0, u'major': 0, u'industrial': 0, u'economists': 0, u'meet': 0, u'There': 0, u'number': 0, u'owned': 0, u'one': 1, u'date': 0, u'>,': 0, u'1988': 0, u'another': 0, u'president': 0, u'qtr': 0, u'Revs': 0, u'strike': 0, u'open': 0, u'tomorrow': 0, u'given': 0, u'management': 0, u'QTR': 0, u'Congress': 0, u'needed': 0, u'leading': 0, u'Iranian': 0, u'system': 0, u'least': 0, u'TRADE': 0, u'their': 0, u'rates': 0, u'stock': 3, u'statement': 0, u'which': 0, u'final': 0, u'Association': 0, u'too': 0, u'interests': 0, u'selling': 0, u'that': 0, u'season': 0, u'completed': 1, u'acquire': 1, u'part': 1, u'crop': 0, u'Minister': 0, u'believe': 0, u'than': 0, u'MAY': 0, u'11': 0, u'10': 0, u'13': 0, u'stg': 0, u'15': 0, u'14': 0, u'17': 0, u'16': 0, u'19': 0, u'18': 0, u'rate': 0, u'nations': 0, u'states': 0, u'future': 1, u'were': 1, u'acquisition': 0, u'result': 0, u'and': 6, u'better': 0, u'investors': 0, u'outstanding': 1, u'imports': 0, u'unchanged': 0, u'mine': 0, u'say': 0, u'INDUSTRIES': 0, u'have': 0, u'need': 0, u'One': 0, u'seek': 0, u'any': 1, u'sell': 0, u'Oil': 0, u'dollars': 0, u'agency': 0, u'also': 2, u'without': 0, u'Germany': 0, u'take': 0, u'They': 0, u'funds': 0, u'Bank': 0, u'shipments': 0, u'200': 2, u'added': 0, u'64': 0, u'index': 0, u'buffer': 0, u'price': 3, u'who': 0, u'MLN': 0, u'quota': 0, u'paid': 0, u'77': 0, u'most': 0, u'75': 1, u'BUY': 0, u'eight': 0, u'plan': 1, u'letter': 0, u'70': 0, u'services': 0, u'The': 3, u'approved': 0, u'79': 0, u'Reserve': 0, u'And': 0, u'Total': 0, u'FROM': 0, u'dealers': 0, u'average': 0, u'later': 0, u'Some': 0, u'sale': 1, u'order': 0, u'barrel': 0, u'latest': 0, u'consumer': 0, u'filing': 0, u'RAISES': 0, u'sector': 0, u'saying': 0, u'currently': 0, u'surplus': 0, u'gold': 0, u'show': 0, u'Union': 0, u'agreed': 0, u'ending': 0, u'83': 0, u'Reuters': 0, u'businesses': 0, u'Under': 0, u'Bundesbank': 0, u'line': 0, u'Resources': 0, u'European': 0, u'impact': 1, u'current': 1, u'We': 0, u'based': 0, u'just': 0, u'merger': 0, u'shareholder': 0, u'less': 0, u'French': 0, u'should': 0, u'only': 0, u'going': 0, u'York': 0, u'equity': 0, u'local': 0, u'do': 0, u'exports': 0, u'his': 0, u'hit': 0, u'gains': 0, u'get': 0, u'contracts': 0, u'de': 0, u'financing': 0, u'preferred': 0, u'soon': 0, u'joint': 0, u'12': 0, u'international': 0, u'report': 0, u'during': 0, u'years': 1, u'Soviet': 0, u'firms': 0, u'target': 0, u'produced': 0, u'shr': 0, u'OIL': 0, u'showed': 0, u'countries': 0, u'areas': 0, u'Washington': 0, u'think': 0, u'morning': 0, u'banking': 0, u'common': 3, u'including': 1, u'fixed': 0, u'where': 0, u'declared': 0, u'set': 0, u'SAYS': 0, u'For': 0, u'acquired': 0, u'national': 0, u'cuts': 0, u'accord': 0, u'France': 0, u'see': 0, u'officials': 0, u'are': 1, u'tender': 0, u'close': 0, u'news': 0, u'declined': 0, u'subject': 0, u'03': 0, u'00': 0, u'said': 7, u'capacity': 0, u'04': 0, u'farmers': 0, u'federal': 0, u'review': 0, u'09': 0, u'diluted': 0, u'Britain': 0, u'forecast': 0, u'dlr': 0, u'state': 0, u'Plc': 0, u'use': 0, u'between': 0, u'crude': 0, u'import': 0, u'July': 0, u'conditions': 1, u'bought': 0, u'available': 0, u'we': 0, u'terms': 0, u'FOR': 0, u'sold': 1, u'however': 0, u'Securities': 0, u'WHEAT': 0, u'takeover': 0, u'coffee': 0, u'key': 0, u'group': 0, u'debt': 0, u'come': 0, u'UNIT': 0, u'AND': 0, u'both': 0, u'last': 0, u'3RD': 0, u'country': 0, u'taking': 0, u'annual': 0, u'according': 0, u'against': 0, u'foreign': 0, u'figures': 0, u'planned': 0, u'holders': 0, u'asked': 0, u'comment': 0, u'among': 0, u'adjusted': 0, u'Friday': 0, u'supply': 0, u'effective': 0, u'loan': 0, u'Petroleum': 0, u'period': 0, u'deposits': 0, u'60': 0, u'61': 0, u'tons': 0, u'63': 0, u'non': 0, u'),': 0, u'66': 0, u'dividend': 0, u'68': 0, u'69': 0, u'ct': 0, u'conference': 0, u'decline': 0, u'raise': 0, u'second': 0, u'basis': 0, u'addition': 0, u'due': 0, u'But': 1, u'mark': 0, u'reduction': 0, u'much': 0, u'agreements': 0, u'interest': 0, u'Pay': 0, u'expected': 0, u'proposal': 0, u'meeting': 0, u'500': 0, u'closed': 0, u'firm': 0, u'field': 0, u'Note': 0, u'Six': 0, u'CO': 0, u'received': 0, u'offered': 0, u'gas': 0, u'900': 0, u'2ND': 0, u'VS': 0, u'Saudi': 0, u'demand': 0, u'prices': 0, u'mths': 0, u'despite': 0, u'general': 0, u'those': 0, u'Secretary': 0, u'Oper': 0, u'Ministry': 0, u'Co': 0, u'State': 0, u'these': 0, u'bill': 0, u'mln': 1, u'Sales': 0, u'value': 0, u'General': 0, u'will': 0, u'receive': 0, u'while': 0, u'policies': 0, u'many': 0, u'situation': 0, u'Taiwan': 0, u'balance': 0, u'Energy': 0, u'Industries': 0, u'scheduled': 0, u'seven': 0, u'losses': 0, u'...': 0, u'cents': 0, u'is': 0, u'it': 4, u'vs': 0, u'contract': 0, u'in': 0, u'tonne': 0, u'increased': 0, u'present': 0, u'credit': 0, u'pay': 1, u'make': 0, u'administration': 0, u'same': 0, u'member': 0, u'split': 0, u'largest': 0, u'units': 0, u'grain': 0, u'several': 0, u'higher': 0, u'week': 0, u'oil': 0, u'fiscal': 0, u'nil': 0, u'yesterday': 0, u'producers': 0, u'000': 3, u'IN': 0, u'Board': 0, u'recent': 0, u'President': 0, u'lower': 0, u'transaction': 0, u'off': 0, u'Council': 0, u'49': 0, u'well': 0, u'It': 0, u'States': 0, u'46': 0, u'costs': 1, u'In': 0, u'position': 0, u'the': 12, u'800': 0, u'If': 0, u'United': 0, u'proposed': 0, u'yen': 0, u'being': 0, u'money': 0, u'executive': 0, u'domestic': 0, u'sources': 0, u'yet': 0, u'previous': 0, u'adding': 0, u'cut': 0, u'equipment': 0, u'rose': 0, u'Company': 0, u'point': 0, u'had': 0, u'Dome': 0, u'board': 0, u'has': 2, u'Western': 0, u'chairman': 0, u'real': 0, u'On': 0, u'700': 0, u'bills': 0, u'Last': 0, u'around': 0, u'decided': 0, u'government': 0, u'James': 0, u'bid': 0, u'possible': 0, u'early': 0, u'increases': 0, u'inflation': 0, u'five': 1, u'YEAR': 0, u'world': 0, u'58': 0, u'loss': 0, u'England': 0, u'bpd': 0, u'55': 0, u'OF': 0, u'57': 0, u'56': 0, u'51': 0, u'50': 2, u'53': 0, u'52': 0, u'securities': 0, u'continue': 1, u'London': 0, u'payments': 0, u'54': 0, u'output': 0, u'73': 0, u'reduced': 0, u'65': 0, u'Tokyo': 0, u'because': 0, u'Gulf': 0, u'people': 0, u'West': 0, u'67': 0, u'some': 0, u'back': 0, u'Commission': 0, u'economic': 0, u'export': 0, u'New': 0, u'Net': 0, u'CANADA': 0, u'recently': 0, u'for': 4, u'Baker': 0, u'decision': 0, u'However': 0, u'per': 2, u'does': 0, u'deficit': 0, u'He': 0, u'be': 2, u'measures': 0, u'wheat': 0, u'USDA': 0, u'business': 0, u'300': 0, u'problems': 0, u'corn': 0, u'continuing': 0, u'agreement': 0, u'workers': 0, u'how': 0, u'market': 1, u'although': 0, u'become': 0, u'loans': 0, u'by': 0, u'First': 0, u'dlrs': 4, u'about': 0, u'goods': 0, u'central': 0, u'working': 0, u'76': 0, u'of': 10, u'industry': 0, u'months': 0, u'UP': 0, u'Trade': 0, u'range': 0, u'Japan': 0, u'Exchange': 0, u'or': 0, u'72': 0, u'Fed': 0, u'own': 0, u'71': 0, u'previously': 0, u'into': 0, u'within': 0, u'62': 0, u'three': 0, u'down': 0, u'OPEC': 0, u'right': 1, u'shrs': 0, u'been': 0, u'NEW': 0, u'NET': 0, u'intervention': 0, u'1986': 0, u'1987': 0, u'1985': 0, u'.,': 0, u'deal': 0, u'area': 0, u'spending': 0, u'.\"': 0, u'there': 0, u'long': 0, u'payment': 0, u'start': 0, u'low': 0, u'way': 0, u'November': 0, u'78': 0, u'was': 0, u'SELL': 0, u'billion': 0, u'FED': 0, u'buy': 1, u'FEB': 0, u'offering': 0, u'offer': 0, u'January': 0, u'but': 0, u'delivery': 1, u'payable': 0, u'CORP': 0, u'gain': 0, u'subsidiary': 0, u'approval': 0, u'with': 0, u'analyst': 0, u'buying': 0, u'he': 0, u'made': 0, u'whether': 0, u'House': 0, u'official': 0, u'up': 1, u'signed': 0, u'lead': 0, u'record': 0, u'below': 0, u'growth': 0, u'exploration': 0, u'distribution': 0, u'Avg': 0, u'called': 0, u'150': 0, u'TWA': 0, u'SEES': 0, u'600': 0, u'certain': 1, u'Treasury': 0, u'sales': 0, u'currencies': 0, u'an': 1, u'as': 0, u'held': 0, u'at': 4, u'budget': 0, u'International': 0, u'negotiations': 0, u'again': 0, u'compared': 0, u'48': 0, u'no': 0, u'May': 0, u'sugar': 0, u'44': 0, u'stake': 0, u'when': 0, u'43': 0, u'40': 1, u'41': 0, u'end': 0, u'TO': 0, u'other': 0, u'details': 0, u'holding': 0, u'income': 0, u'department': 0, u'discount': 0, u'85': 0, u'February': 0, u'AG': 0, u'time': 1, u'reached': 0, u'includes': 0, u'April': 0, u'fell': 0, u'AT': 0, u'included': 0, u'DIVIDEND': 0, u'stocks': 0, u'senior': 0, u'South': 0, u'ago': 0, u'assets': 0, u'daily': 0, u'An': 0, u'NOTE': 0, u'GATT': 0, u'As': 0, u'At': 0, u'Year': 0, u'tonnes': 0, u'STOCK': 0, u'profits': 0, u'Analysts': 0}, u'acq')\n"
       ]
      }
     ],
     "prompt_number": 22
    },
    {
     "cell_type": "code",
     "collapsed": false,
     "input": [
      "from nltk import NaiveBayesClassifier as NB\n",
      "\n",
      "def test_classifier(classifier, featuresets):\n",
      "    correct = 0\n",
      "    total = 0\n",
      "    for featureset, tag in featuresets:\n",
      "        if tag == classifier.classify(featureset):\n",
      "            correct += 1\n",
      "            total += 1\n",
      "    \n",
      "    return float(correct) / total\n",
      "\n",
      "train_featuresets = get_featuresets(bag_of_words_freq, most_frequent_words[:1000], \"training\")\n",
      "test_featuresets = get_featuresets(bag_of_words_freq, most_frequent_words[:1000], \"test\")\n",
      "\n",
      "classifier = NB.train(train_featuresets)\n",
      "print test_classifier(classifier, test_featuresets)"
     ],
     "language": "python",
     "metadata": {},
     "outputs": []
    },
    {
     "cell_type": "code",
     "collapsed": false,
     "input": [],
     "language": "python",
     "metadata": {},
     "outputs": [],
     "prompt_number": 27
    },
    {
     "cell_type": "code",
     "collapsed": false,
     "input": [],
     "language": "python",
     "metadata": {},
     "outputs": []
    }
   ],
   "metadata": {}
  }
 ]
}