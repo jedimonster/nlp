{
 "metadata": {
  "name": "",
  "signature": "sha256:337175e1795e04d8ea9fbd315b354478347fc7949fd5e699827d167b8c6a209c"
 },
 "nbformat": 3,
 "nbformat_minor": 0,
 "worksheets": [
  {
   "cells": [
    {
     "cell_type": "heading",
     "level": 1,
     "metadata": {},
     "source": [
      "Question 1.1: Random PCFG Generation"
     ]
    },
    {
     "cell_type": "markdown",
     "metadata": {},
     "source": [
      "We define a recursive method <i>sample_tree(grammar, current_symbol)</i>, then simple call it with the start symbol."
     ]
    },
    {
     "cell_type": "markdown",
     "metadata": {},
     "source": [
      "<pre>\n",
      "import nltk\n",
      "from nltk import PCFG\n",
      "from nltk import Tree, DictionaryProbDist\n",
      "from nltk.grammar import Nonterminal\n",
      "\n",
      "def sample_tree(grammar, current_symbol):\n",
      "    if not isinstance(current_symbol, Nonterminal):\n",
      "        return current_symbol\n",
      "    # sample a RHS, then recursively generate trees for each of the symbols in RHS.\n",
      "    possible_prods = grammar.productions(current_symbol)\n",
      "    prods_dist = DictionaryProbDist(dict(((production, production.prob()) for production in possible_prods)))\n",
      "\n",
      "    # sample a production:\n",
      "    prod = prods_dist.generate()\n",
      "\n",
      "    # now we need to return a tree whose root is LHS, and childs are recursive calls to self.\n",
      "    return Tree(prod.lhs(), [sample_tree(grammar, symbol) for symbol in prod.rhs()])\n",
      "\n",
      "\n",
      "def pcfg_generate(grammar):\n",
      "    \"\"\"\n",
      "    return a tree sampled from the language described by the PCFG grammar\n",
      "    :type grammar: PCFG\n",
      "    :param grammar: grammar to sample from, represented as PCFG.\n",
      "    \"\"\"\n",
      "    start_symbol = grammar.start()\n",
      "    return sample_tree(grammar, start_symbol)\n",
      "    </pre>"
     ]
    },
    {
     "cell_type": "code",
     "collapsed": false,
     "input": [
      "from question1 import *\n",
      "print pcfg_generate(nltk.grammar.toy_pcfg2)\n",
      "print pcfg_generate(nltk.grammar.toy_pcfg2)\n",
      "print pcfg_generate(nltk.grammar.toy_pcfg2)"
     ],
     "language": "python",
     "metadata": {},
     "outputs": [
      {
       "output_type": "stream",
       "stream": "stdout",
       "text": [
        "(S\n",
        "  (NP (Name Jack))\n",
        "  (VP\n",
        "    (V ran)\n",
        "    (NP (NP (Name Bob)) (PP (P with) (NP (Det the) (N hill))))))\n",
        "(S\n",
        "  (NP (NP (Det a) (N table)) (PP (P with) (NP (Det a) (N hill))))\n",
        "  (VP (V ate)))\n",
        "(S\n",
        "  (NP (Det a) (N hill))\n",
        "  (VP\n",
        "    (V ate)\n",
        "    (NP (NP (Name Bob)) (PP (P under) (NP (Det a) (N hill))))))\n"
       ]
      }
     ],
     "prompt_number": 1
    },
    {
     "cell_type": "heading",
     "level": 2,
     "metadata": {},
     "source": [
      "Generate random trees to file"
     ]
    },
    {
     "cell_type": "code",
     "collapsed": false,
     "input": [
      "sample_corpus(1000, lambda: pcfg_generate(nltk.grammar.toy_pcfg2))"
     ],
     "language": "python",
     "metadata": {},
     "outputs": [],
     "prompt_number": 2
    },
    {
     "cell_type": "heading",
     "level": 2,
     "metadata": {},
     "source": [
      "Compute the frequency distribution of each non-terminal and pre-terminal "
     ]
    },
    {
     "cell_type": "code",
     "collapsed": false,
     "input": [
      "observed_freqdist = extract_freqdist(extract_trees())\n",
      "\n",
      "print observed_freqdist.items()"
     ],
     "language": "python",
     "metadata": {},
     "outputs": [
      {
       "output_type": "stream",
       "stream": "stdout",
       "text": [
        "[(PP, FreqDist({(P, NP): 1375})), (Name, FreqDist({('Jack',): 595, ('Bob',): 586})), (Det, FreqDist({('the',): 755, ('a',): 551, ('my',): 495})), (N, FreqDist({('hill',): 910, ('telescope',): 264, ('table',): 239, ('boy',): 198, ('cookie',): 190})), (VP, FreqDist({(V, NP): 607, (V,): 393, (VP, PP): 9})), (P, FreqDist({('with',): 846, ('under',): 529})), (S, FreqDist({(NP, VP): 1000})), (V, FreqDist({('ate',): 537, ('ran',): 263, ('saw',): 200})), (NP, FreqDist({(Det, N): 1801, (NP, PP): 1366, (Name,): 1181}))]\n"
       ]
      }
     ],
     "prompt_number": 3
    },
    {
     "cell_type": "markdown",
     "metadata": {},
     "source": [
      "MLEProbEst will be created right before computing the kl-divergence in the following section"
     ]
    },
    {
     "cell_type": "heading",
     "level": 2,
     "metadata": {},
     "source": [
      "For each distribution, compute the KL-divergence"
     ]
    },
    {
     "cell_type": "code",
     "collapsed": false,
     "input": [
      "observed_freqdist = extract_freqdist(extract_trees())\n",
      "test_grammar = nltk.grammar.toy_pcfg2\n",
      "divs = validate_divergence(test_grammar, observed_freqdist)\n",
      "\n",
      "print([d for d in divs])"
     ],
     "language": "python",
     "metadata": {},
     "outputs": [
      {
       "output_type": "stream",
       "stream": "stdout",
       "text": [
        "[(PP, 0.0), (Name, 0.0005246890488202136), (Det, 0.0001771053473808553), (N, 0.0011221965145439836), (VP, 0.0003127681282508732), (P, 5.852773229319142e-05), (S, 0.0), (V, 0.0014712290358479228), (NP, 0.00017616070731387486)]\n"
       ]
      }
     ],
     "prompt_number": 4
    },
    {
     "cell_type": "markdown",
     "metadata": {},
     "source": [
      "We can see the divergence is low, ie. the distributions are very similar, which means we're OK."
     ]
    },
    {
     "cell_type": "heading",
     "level": 1,
     "metadata": {},
     "source": [
      "Question 1.2: Learn a PCFG from a Treebank"
     ]
    },
    {
     "cell_type": "heading",
     "level": 2,
     "metadata": {},
     "source": [
      "How many productions are learned from the trees? How many interior nodes were in the treebank?"
     ]
    },
    {
     "cell_type": "code",
     "collapsed": false,
     "input": [
      "from question1 import tree_to_production, tree_to_productions # as defined in the assignment.\n",
      "\n",
      "def filter_tree(tree):\n",
      "    if isinstance(tree, Tree):\n",
      "        return Tree(tree.label(), map(filter_tree, filter(leads_to_something, list(tree))))\n",
      "    else:\n",
      "        return tree  # teehee"
     ],
     "language": "python",
     "metadata": {},
     "outputs": [],
     "prompt_number": 17
    },
    {
     "cell_type": "code",
     "collapsed": false,
     "input": [
      "treebank = LazyCorpusLoader('treebank/combined', BracketParseCorpusReader, r'wsj_.*\\.mrg')\n",
      "sents = treebank.parsed_sents()\n",
      "\n",
      "s = sents[490]\n",
      "print s\n",
      "print filter_tree(s)"
     ],
     "language": "python",
     "metadata": {},
     "outputs": [
      {
       "output_type": "stream",
       "stream": "stdout",
       "text": [
        "(S\n",
        "  (S-TPC-2\n",
        "    (S\n",
        "      (SBAR-TMP\n",
        "        (RB Once)\n",
        "        (S\n",
        "          (NP-SBJ-63 (DT the) (NN disease))\n",
        "          (VP (VBD was) (VP (VBN confirmed) (NP (-NONE- *-63))))))\n",
        "      (, ,)\n",
        "      (NP-SBJ-64\n",
        "        (DT all)\n",
        "        (NP (DT the) (NN man) (POS 's))\n",
        "        (NNS associates)\n",
        "        (CC and)\n",
        "        (NN family))\n",
        "      (VP (VBD were) (VP (VBN tested) (NP (-NONE- *-64)))))\n",
        "    (, ,)\n",
        "    (CC but)\n",
        "    (S\n",
        "      (NP-SBJ-1 (NN none))\n",
        "      (VP\n",
        "        (VBP have)\n",
        "        (ADVP-TMP (RB so) (RB far))\n",
        "        (VP\n",
        "          (VBN been)\n",
        "          (VP\n",
        "            (VBN found)\n",
        "            (S\n",
        "              (NP-SBJ (-NONE- *-1))\n",
        "              (VP (TO to) (VP (VB have) (NP (NNP AIDS))))))))))\n",
        "  (, ,)\n",
        "  (NP-SBJ (DT the) (NN newspaper))\n",
        "  (VP (VBD said) (SBAR (-NONE- 0) (S (-NONE- *T*-2))))\n",
        "  (. .))\n",
        "(S\n",
        "  (S-TPC-2\n",
        "    (S\n",
        "      (SBAR-TMP\n",
        "        (RB Once)\n",
        "        (S\n",
        "          (NP-SBJ-63 (DT the) (NN disease))\n",
        "          (VP (VBD was) (VP (VBN confirmed)))))\n",
        "      (, ,)\n",
        "      (NP-SBJ-64\n",
        "        (DT all)\n",
        "        (NP (DT the) (NN man) (POS 's))\n",
        "        (NNS associates)\n",
        "        (CC and)\n",
        "        (NN family))\n",
        "      (VP (VBD were) (VP (VBN tested))))\n",
        "    (, ,)\n",
        "    (CC but)\n",
        "    (S\n",
        "      (NP-SBJ-1 (NN none))\n",
        "      (VP\n",
        "        (VBP have)\n",
        "        (ADVP-TMP (RB so) (RB far))\n",
        "        (VP\n",
        "          (VBN been)\n",
        "          (VP\n",
        "            (VBN found)\n",
        "            (S (VP (TO to) (VP (VB have) (NP (NNP AIDS))))))))))\n",
        "  (, ,)\n",
        "  (NP-SBJ (DT the) (NN newspaper))\n",
        "  (VP (VBD said))\n",
        "  (. .))\n"
       ]
      }
     ],
     "prompt_number": 18
    },
    {
     "cell_type": "code",
     "collapsed": false,
     "input": [
      "t = 0\n",
      "o = 0\n",
      "for s in sents:\n",
      "    l = list(tree_to_productions(filter_tree(s)))\n",
      "    # print l\n",
      "    t += len(l)\n",
      "    o += len(s.productions())\n",
      "\n",
      "print \"productions = \", t, \"out of\", o    "
     ],
     "language": "python",
     "metadata": {},
     "outputs": [
      {
       "output_type": "stream",
       "stream": "stdout",
       "text": [
        "productions =  167545 out of 179360\n"
       ]
      }
     ],
     "prompt_number": 19
    },
    {
     "cell_type": "markdown",
     "metadata": {},
     "source": [
      "productions =  167545 out of 179360\n",
      "each production corresponds to an interal node in the a tree."
     ]
    },
    {
     "cell_type": "code",
     "collapsed": false,
     "input": [
      "treebank = LazyCorpusLoader('treebank/combined', BracketParseCorpusReader, r'wsj_.*\\.mrg')\n",
      "sents = treebank.parsed_sents()[:200]\n",
      "\n",
      "prods = sum([list(tree_to_productions(filter_tree(t))) for t in sents], list())\n",
      "freq = nltk.FreqDist(prods) # number of times each rule appears\n",
      "values_frequency = nltk.FreqDist(freq.values()) # number of times each rule-frequency appears\n",
      "\n",
      "import pylab\n",
      "%matplotlib inline\n",
      "pylab.xlabel(\"Rule frequency\")\n",
      "pylab.ylabel(\"number of rules\")\n",
      "pylab.plot(values_frequency.keys(), values_frequency.values(), '-bo', )"
     ],
     "language": "python",
     "metadata": {},
     "outputs": [
      {
       "metadata": {},
       "output_type": "pyout",
       "prompt_number": 20,
       "text": [
        "[<matplotlib.lines.Line2D at 0x6519050>]"
       ]
      },
      {
       "metadata": {},
       "output_type": "display_data",
       "png": "[encoded data removed]",
       "text": [
        "<matplotlib.figure.Figure at 0x59f4d10>"
       ]
      }
     ],
     "prompt_number": 20
    },
    {
     "cell_type": "markdown",
     "metadata": {},
     "source": [
      "not very readable, but we understand it's a long tail, most rules appear a small amount of times, and a few appear a lot."
     ]
    },
    {
     "cell_type": "code",
     "collapsed": false,
     "input": [
      "pylab.xlabel(\"log Rule frequency\")\n",
      "pylab.ylabel(\"log number of rules\")\n",
      "pylab.plot([math.log(x,2) for x in values_frequency.keys()], [math.log(x,2) for x in values_frequency.values()], '-bo')"
     ],
     "language": "python",
     "metadata": {},
     "outputs": [
      {
       "metadata": {},
       "output_type": "pyout",
       "prompt_number": 21,
       "text": [
        "[<matplotlib.lines.Line2D at 0x6ddb350>]"
       ]
      },
      {
       "metadata": {},
       "output_type": "display_data",
       "png": "[encoded data removed]",
       "text": [
        "<matplotlib.figure.Figure at 0x418ad90>"
       ]
      }
     ],
     "prompt_number": 21
    }
   ],
   "metadata": {}
  }
 ]
}