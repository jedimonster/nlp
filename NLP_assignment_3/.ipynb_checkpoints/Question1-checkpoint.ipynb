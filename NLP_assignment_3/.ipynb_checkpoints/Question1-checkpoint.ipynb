{
 "metadata": {
  "name": "",
  "signature": "sha256:57a2b1ee0773fa7dea381d756206a836f7dad5673b062def7ff3a9cbacf5c7be"
 },
 "nbformat": 3,
 "nbformat_minor": 0,
 "worksheets": [
  {
   "cells": [
    {
     "cell_type": "heading",
     "level": 1,
     "metadata": {},
     "source": [
      "Question 1.1: Random PCFG Generation"
     ]
    },
    {
     "cell_type": "markdown",
     "metadata": {},
     "source": [
      "We define a recursive method <i>sample_tree(grammar, current_symbol)</i>, then simple call it with the start symbol."
     ]
    },
    {
     "cell_type": "code",
     "collapsed": false,
     "input": [
      "from nltk import PCFG\n",
      "from nltk import Tree, DictionaryProbDist\n",
      "from nltk.grammar import Nonterminal, Production\n",
      "\n",
      "def sample_tree(grammar, current_symbol):\n",
      "    if not isinstance(current_symbol, Nonterminal):\n",
      "        return current_symbol\n",
      "    # sample a RHS, then recursively generate trees for each of the symbols in RHS.\n",
      "    possible_prods = grammar.productions(current_symbol)\n",
      "    prods_dist = DictionaryProbDist(dict(((production, production.prob()) for production in possible_prods)))\n",
      "\n",
      "    # sample a production:\n",
      "    prod = prods_dist.generate()\n",
      "\n",
      "    # now we need to return a tree whose root is LHS, and childs are recursive calls to self.\n",
      "    return Tree(prod.lhs(), [sample_tree(grammar, symbol) for symbol in prod.rhs()])\n",
      "\n",
      "\n",
      "def pcfg_generate(grammar):\n",
      "    \"\"\"\n",
      "    return a tree sampled from the language described by the PCFG grammar\n",
      "    :type grammar: PCFG\n",
      "    :param grammar: grammar to sample from, represented as PCFG.\n",
      "    \"\"\"\n",
      "    start_symbol = grammar.start()\n",
      "    return sample_tree(grammar, start_symbol)\n",
      "\n",
      "\n",
      "def sample_corpus(n, generator, filename=\"./out/toy_pcfg2.gen\"):\n",
      "    with open(filename, \"a\") as fh:\n",
      "        fh.truncate(0)\n",
      "        for i in range(n):\n",
      "            fh.write(str(generator()).replace(\"\\n\", \"\"))\n",
      "            fh.write(\"\\n\")\n",
      "\n",
      "\n"
     ],
     "language": "python",
     "metadata": {},
     "outputs": [],
     "prompt_number": 6
    },
    {
     "cell_type": "code",
     "collapsed": false,
     "input": [
      "\n",
      "print pcfg_generate(nltk.grammar.toy_pcfg2)\n",
      "print pcfg_generate(nltk.grammar.toy_pcfg2)\n",
      "print pcfg_generate(nltk.grammar.toy_pcfg2)"
     ],
     "language": "python",
     "metadata": {},
     "outputs": [
      {
       "output_type": "stream",
       "stream": "stdout",
       "text": [
        "(S (NP (Det the) (N table)) (VP (V saw) (NP (Det the) (N hill))))\n",
        "(S (NP (Name Jack)) (VP (V ate) (NP (Name Jack))))\n",
        "(S (NP (Det a) (N boy)) (VP (V saw) (NP (Name Jack))))\n"
       ]
      }
     ],
     "prompt_number": 7
    },
    {
     "cell_type": "heading",
     "level": 2,
     "metadata": {},
     "source": [
      "Generate random trees to file"
     ]
    },
    {
     "cell_type": "code",
     "collapsed": false,
     "input": [
      "def extract_trees(filename=\"./out/toy_pcfg2.gen\"):\n",
      "    trees = []\n",
      "    with open(filename) as fh:\n",
      "        for line in fh:\n",
      "            trees.append(Tree.fromstring(line))\n",
      "\n",
      "    return trees\n",
      "\n",
      "\n",
      "def extract_freqdist(trees):\n",
      "    \"\"\"\n",
      "    extracts a ConditionalFreqDist from the trees, where the Cond is any Nonterminal encountered.\n",
      "    :param trees:\n",
      "    :return:\n",
      "    \"\"\"\n",
      "    freqdist = nltk.ConditionalFreqDist()\n",
      "    for t in trees:\n",
      "        _extract_freqdist(t, freqdist)\n",
      "\n",
      "    return freqdist\n",
      "\n"
     ],
     "language": "python",
     "metadata": {},
     "outputs": [],
     "prompt_number": 8
    },
    {
     "cell_type": "code",
     "collapsed": false,
     "input": [
      "sample_corpus(1000, lambda: pcfg_generate(nltk.grammar.toy_pcfg2))"
     ],
     "language": "python",
     "metadata": {},
     "outputs": [],
     "prompt_number": 9
    },
    {
     "cell_type": "heading",
     "level": 2,
     "metadata": {},
     "source": [
      "Compute the frequency distribution of each non-terminal and pre-terminal "
     ]
    },
    {
     "cell_type": "code",
     "collapsed": false,
     "input": [
      "def _extract_freqdist(tree, freqdist):\n",
      "    for production in tree.productions():\n",
      "        freqdist[production.lhs()][production.rhs()] += 1"
     ],
     "language": "python",
     "metadata": {},
     "outputs": [],
     "prompt_number": 10
    },
    {
     "cell_type": "code",
     "collapsed": false,
     "input": [
      "observed_freqdist = extract_freqdist(extract_trees())\n",
      "\n",
      "print observed_freqdist.items()"
     ],
     "language": "python",
     "metadata": {},
     "outputs": [
      {
       "output_type": "stream",
       "stream": "stdout",
       "text": [
        "[(PP, FreqDist({(P, NP): 1311})), (Name, FreqDist({('Jack',): 640, ('Bob',): 564})), (Det, FreqDist({('the',): 736, ('a',): 512, ('my',): 469})), (N, FreqDist({('hill',): 867, ('telescope',): 229, ('table',): 228, ('cookie',): 216, ('boy',): 177})), (VP, FreqDist({(V, NP): 610, (V,): 390, (VP, PP): 9})), (P, FreqDist({('with',): 771, ('under',): 540})), (S, FreqDist({(NP, VP): 1000})), (V, FreqDist({('ate',): 508, ('ran',): 288, ('saw',): 204})), (NP, FreqDist({(Det, N): 1717, (NP, PP): 1302, (Name,): 1204}))]\n"
       ]
      }
     ],
     "prompt_number": 11
    },
    {
     "cell_type": "markdown",
     "metadata": {},
     "source": [
      "MLEProbEst will be created right before computing the kl-divergence in the following section"
     ]
    },
    {
     "cell_type": "heading",
     "level": 2,
     "metadata": {},
     "source": [
      "For each distribution, compute the KL-divergence"
     ]
    },
    {
     "cell_type": "code",
     "collapsed": false,
     "input": [
      "import math\n",
      "def kl_divergence(probs_tuples):\n",
      "    kl = 0\n",
      "    smooth_probabilities(probs_tuples)\n",
      "    for probx, proby in probs_tuples:\n",
      "        kl += probx * math.log(probx / proby)\n",
      "\n",
      "    return kl\n",
      "\n",
      "\n",
      "def smooth_probability(xs, epsilon=0.001):\n",
      "    zero_count = xs.count(0)\n",
      "    nonzero_count = len(xs) - zero_count\n",
      "    return map(lambda x: epsilon if x == 0 else x + ((zero_count * epsilon) / nonzero_count), xs)\n",
      "\n",
      "\n",
      "def smooth_probabilities(prob_tuples, epsilon=0.001):\n",
      "    xs, ys = map(list, zip(*prob_tuples))\n",
      "    xs = smooth_probability(xs, epsilon)\n",
      "    ys = smooth_probability(ys, epsilon)\n",
      "    return zip(xs, ys)\n",
      "\n",
      "\n",
      "def validate_divergence(grammar, observed_cond_freqdist):\n",
      "    conds = set([prod.lhs() for prod in grammar.productions()])\n",
      "\n",
      "    for cond in conds:\n",
      "        empirical_probdist = nltk.MLEProbDist(observed_cond_freqdist[cond])\n",
      "\n",
      "        test_probs = grammar.productions(cond)\n",
      "        test_probs = map(lambda prod: (prod.rhs(), prod.prob()), test_probs)\n",
      "        # print test_probs\n",
      "        probs_tuples = [(empirical_probdist.prob(nonterminal), prob ) for nonterminal, prob in test_probs]\n",
      "        yield cond, kl_divergence(probs_tuples)"
     ],
     "language": "python",
     "metadata": {},
     "outputs": [],
     "prompt_number": 47
    },
    {
     "cell_type": "code",
     "collapsed": false,
     "input": [
      "observed_freqdist = extract_freqdist(extract_trees())\n",
      "test_grammar = nltk.grammar.toy_pcfg2\n",
      "divs = validate_divergence(test_grammar, observed_freqdist)\n",
      "\n",
      "print([d for d in divs])"
     ],
     "language": "python",
     "metadata": {},
     "outputs": [
      {
       "output_type": "stream",
       "stream": "stdout",
       "text": [
        "[(PP, 0.0), (Name, 0.0002679526999898839), (Det, 0.0007302498099227414), (N, 0.0005735099949627578), (VP, 0.0004684316795067981), (P, 0.0010015391360527447), (S, 0.0), (V, 0.00020368174920115147), (NP, 6.514879737855414e-05)]\n"
       ]
      }
     ],
     "prompt_number": 15
    },
    {
     "cell_type": "markdown",
     "metadata": {},
     "source": [
      "We can see the divergence is low, ie. the distributions are very similar, which means we're OK."
     ]
    },
    {
     "cell_type": "heading",
     "level": 1,
     "metadata": {},
     "source": [
      "Question 1.2: Learn a PCFG from a Treebank"
     ]
    },
    {
     "cell_type": "heading",
     "level": 2,
     "metadata": {},
     "source": [
      "How many productions are learned from the trees? How many interior nodes were in the treebank?"
     ]
    },
    {
     "cell_type": "code",
     "collapsed": false,
     "input": [
      "from question1 import tree_to_production, tree_to_productions,simplify_functional_tag  # as defined in the assignment.\n",
      "\n",
      "def leads_to_something(tree):\n",
      "    if isinstance(tree, Tree):\n",
      "        return tree.label() != '-NONE-' and any((leads_to_something(c)) for c in tree)\n",
      "\n",
      "    return tree != '-NONE-'\n",
      "\n",
      "def filter_tree(tree):\n",
      "    if isinstance(tree, Tree):\n",
      "        return Tree(simplify_functional_tag(tree.label()), map(filter_tree, filter(leads_to_something, list(tree))))\n",
      "    else:\n",
      "        return tree  # teehee"
     ],
     "language": "python",
     "metadata": {},
     "outputs": [],
     "prompt_number": 22
    },
    {
     "cell_type": "code",
     "collapsed": false,
     "input": [
      "from nltk.corpus import LazyCorpusLoader\n",
      "from nltk.corpus import BracketParseCorpusReader\n",
      "\n",
      "treebank = LazyCorpusLoader('treebank/combined', BracketParseCorpusReader, r'wsj_.*\\.mrg')\n",
      "sents = treebank.parsed_sents()\n",
      "\n",
      "s = sents[490]\n",
      "print s\n",
      "print filter_tree(s)"
     ],
     "language": "python",
     "metadata": {},
     "outputs": [
      {
       "output_type": "stream",
       "stream": "stdout",
       "text": [
        "(S\n",
        "  (S-TPC-2\n",
        "    (S\n",
        "      (SBAR-TMP\n",
        "        (RB Once)\n",
        "        (S\n",
        "          (NP-SBJ-63 (DT the) (NN disease))\n",
        "          (VP (VBD was) (VP (VBN confirmed) (NP (-NONE- *-63))))))\n",
        "      (, ,)\n",
        "      (NP-SBJ-64\n",
        "        (DT all)\n",
        "        (NP (DT the) (NN man) (POS 's))\n",
        "        (NNS associates)\n",
        "        (CC and)\n",
        "        (NN family))\n",
        "      (VP (VBD were) (VP (VBN tested) (NP (-NONE- *-64)))))\n",
        "    (, ,)\n",
        "    (CC but)\n",
        "    (S\n",
        "      (NP-SBJ-1 (NN none))\n",
        "      (VP\n",
        "        (VBP have)\n",
        "        (ADVP-TMP (RB so) (RB far))\n",
        "        (VP\n",
        "          (VBN been)\n",
        "          (VP\n",
        "            (VBN found)\n",
        "            (S\n",
        "              (NP-SBJ (-NONE- *-1))\n",
        "              (VP (TO to) (VP (VB have) (NP (NNP AIDS))))))))))\n",
        "  (, ,)\n",
        "  (NP-SBJ (DT the) (NN newspaper))\n",
        "  (VP (VBD said) (SBAR (-NONE- 0) (S (-NONE- *T*-2))))\n",
        "  (. .))\n",
        "(S\n",
        "  (S\n",
        "    (S\n",
        "      (SBAR\n",
        "        (RB Once)\n",
        "        (S\n",
        "          (NP (DT the) (NN disease))\n",
        "          (VP (VBD was) (VP (VBN confirmed)))))\n",
        "      (, ,)\n",
        "      (NP\n",
        "        (DT all)\n",
        "        (NP (DT the) (NN man) (POS 's))\n",
        "        (NNS associates)\n",
        "        (CC and)\n",
        "        (NN family))\n",
        "      (VP (VBD were) (VP (VBN tested))))\n",
        "    (, ,)\n",
        "    (CC but)\n",
        "    (S\n",
        "      (NP (NN none))\n",
        "      (VP\n",
        "        (VBP have)\n",
        "        (ADVP (RB so) (RB far))\n",
        "        (VP\n",
        "          (VBN been)\n",
        "          (VP\n",
        "            (VBN found)\n",
        "            (S (VP (TO to) (VP (VB have) (NP (NNP AIDS))))))))))\n",
        "  (, ,)\n",
        "  (NP (DT the) (NN newspaper))\n",
        "  (VP (VBD said))\n",
        "  (. .))\n"
       ]
      }
     ],
     "prompt_number": 23
    },
    {
     "cell_type": "code",
     "collapsed": false,
     "input": [
      "t = 0\n",
      "o = 0\n",
      "for s in sents[:200]:\n",
      "    l = list(tree_to_productions(filter_tree(s)))\n",
      "    # print l\n",
      "    t += len(l)\n",
      "    o += len(s.productions())\n",
      "\n",
      "print \"productions = \", t, \"out of\", o    "
     ],
     "language": "python",
     "metadata": {},
     "outputs": [
      {
       "output_type": "stream",
       "stream": "stdout",
       "text": [
        "productions =  8443 out of 9020\n"
       ]
      }
     ],
     "prompt_number": 24
    },
    {
     "cell_type": "markdown",
     "metadata": {},
     "source": [
      "in the filtered treebank we have 8443 productions (out of 9020 originally).<br/>\n",
      "each production corresponds to an interal node in the a tree.<br/>\n",
      "number of rules (unique productions) below:"
     ]
    },
    {
     "cell_type": "code",
     "collapsed": false,
     "input": [
      "treebank = LazyCorpusLoader('treebank/combined', BracketParseCorpusReader, r'wsj_.*\\.mrg')\n",
      "sents = treebank.parsed_sents()[:200]\n",
      "\n",
      "prods = sum([list(tree_to_productions(filter_tree(t))) for t in sents], list())\n",
      "freq = nltk.FreqDist(prods) # number of times each rule appears\n",
      "values_frequency = nltk.FreqDist(freq.values()) # number of times each rule-frequency appears\n",
      "\n",
      "print \"Total rules = \", len(freq.keys())\n",
      "\n",
      "import pylab\n",
      "%matplotlib inline\n",
      "pylab.xlabel(\"Rule frequency\")\n",
      "pylab.ylabel(\"number of rules\")\n",
      "pylab.plot(values_frequency.keys(), values_frequency.values(), '-bo', )"
     ],
     "language": "python",
     "metadata": {},
     "outputs": [
      {
       "output_type": "stream",
       "stream": "stdout",
       "text": [
        "Total rules =  2271\n"
       ]
      },
      {
       "metadata": {},
       "output_type": "pyout",
       "prompt_number": 25,
       "text": [
        "[<matplotlib.lines.Line2D at 0x55b9bd0>]"
       ]
      },
      {
       "metadata": {},
       "output_type": "display_data",
       "png": "[encoded data removed]",
       "text": [
        "<matplotlib.figure.Figure at 0x54e5610>"
       ]
      }
     ],
     "prompt_number": 25
    },
    {
     "cell_type": "markdown",
     "metadata": {},
     "source": [
      "not very readable, but we understand it's a long tail, most rules appear a small amount of times, and a few appear a lot."
     ]
    },
    {
     "cell_type": "code",
     "collapsed": false,
     "input": [
      "pylab.xlabel(\"log Rule frequency\")\n",
      "pylab.ylabel(\"log number of rules\")\n",
      "pylab.plot([math.log(x,2) for x in values_frequency.keys()], [math.log(x,2) for x in values_frequency.values()], '-bo')"
     ],
     "language": "python",
     "metadata": {},
     "outputs": [
      {
       "metadata": {},
       "output_type": "pyout",
       "prompt_number": 26,
       "text": [
        "[<matplotlib.lines.Line2D at 0x58c64d0>]"
       ]
      },
      {
       "metadata": {},
       "output_type": "display_data",
       "png": "[encoded data removed]",
       "text": [
        "<matplotlib.figure.Figure at 0x45d3690>"
       ]
      }
     ],
     "prompt_number": 26
    },
    {
     "cell_type": "heading",
     "level": 2,
     "metadata": {},
     "source": [
      "Comparison of two induced pcfg's (one with 200 trees the other with 400)"
     ]
    },
    {
     "cell_type": "code",
     "collapsed": false,
     "input": [
      "from question1 import get_productions, pcfg_validate_divergence\n",
      "from nltk.grammar import induce_pcfg\n",
      "\n",
      "treebank = LazyCorpusLoader('treebank/combined', BracketParseCorpusReader, r'wsj_.*\\.mrg')\n",
      "sents = treebank.parsed_sents()\n",
      "\n",
      "pcfg_200 = induce_pcfg(Nonterminal('S'), get_productions(sents, 200))\n",
      "pcfg_400 = induce_pcfg(Nonterminal('S'), get_productions(sents, 400))\n",
      "\n",
      "print 'Number of rules in pcfg_200: ',  len(pcfg_200.productions())\n",
      "print 'Number of rules in pcfg_400: ', len(pcfg_400.productions())\n",
      "print '*'*100\n",
      "print\n",
      "\n",
      "for kl in pcfg_validate_divergence(pcfg_200, pcfg_400):\n",
      "    print kl"
     ],
     "language": "python",
     "metadata": {},
     "outputs": [
      {
       "output_type": "stream",
       "stream": "stdout",
       "text": [
        "Number of rules in pcfg_200:  2271\n",
        "Number of rules in pcfg_400:  3711\n",
        "****************************************************************************************************\n",
        "\n",
        "(, -0.02185027760013622)\n",
        "(TO, 0.0)\n",
        "(PRP$, 0.0674917388944448)\n",
        "(VBG, 0.5633834197956236)\n",
        "(SBAR, 0.037076002720459134)\n",
        "(VBD, 0.1991487710499085)\n",
        "(SINV, 0.21101008211396013)\n",
        "(ADJP, 0.25878591124841277)\n",
        "(WHADVP, 0.0)\n",
        "(``, 0.019038408172372474)\n",
        "(VBN, 0.5599225244810067)\n",
        "(CONJP, 0.40106193005937496)\n",
        "('', 0.019922271576417547)\n",
        "(VBP, 0.3350117442117881)\n",
        "(WDT, 0.10035813203618336)\n",
        "(JJ, 0.6893163174674081)\n",
        "(WP, 0.07130369095859773)\n",
        "(VBZ, 0.2080578732737202)\n",
        "(DT, 0.039643913700574525)\n",
        "(PP, 0.030362020335012774)\n",
        "(RP, 0.18035453470612658)\n",
        "($, 0.02146440535603479)\n",
        "(NN, 0.6788123395157069)\n",
        "(UCP, 0.21906893283244902)\n",
        "(PRN, 0.6360419225571594)\n",
        "(RRC, 0.0)\n",
        "(,, 0.0)\n",
        "(., 0.006488746755271961)\n",
        "(NX, 0.6240008267668797)\n",
        "(WHPP, 0.0)\n",
        "(PRP, 0.14017636840446795)\n",
        "(RB, 0.3332077325940961)\n",
        "(NP, 0.4233061487601227)\n",
        "(:, 0.0566695754126886)\n",
        "(NNS, 0.6607431663091691)\n",
        "(NNP, 0.7590204626419416)\n",
        "(FRAG, 1.3716602089704093)\n",
        "(VB, 0.4479699767294875)\n",
        "(WRB, 0.13476391710654975)\n",
        "(QP, 0.10403445906246529)\n",
        "(CC, 0.021963703915286084)\n",
        "(PDT, -0.006907755278982137)\n",
        "(RBS, -0.006907755278982137)\n",
        "(RBR, 0.08850215500744102)\n",
        "(CD, 0.3104917117577246)\n",
        "(VP, 0.24569972601088455)\n",
        "(S, 0.07841144446423272)\n",
        "(EX, 0.010309643601367866)\n",
        "(IN, 0.05751631472462703)\n",
        "(WP$, 0.0)\n",
        "(NP=2, 0.0)\n",
        "(ADVP, 0.12366450501369385)\n",
        "(MD, 0.023839019558289175)\n",
        "(NNPS, 0.5799909744046422)\n",
        "(NAC, 0.020410997260127586)\n",
        "(POS, 0.0015083686251935076)\n",
        "(SQ, -0.006907755278982137)\n",
        "(JJS, 0.19918586575051472)\n",
        "(JJR, 0.20697488367402198)\n",
        "(WHNP, 0.04671050713474161)\n",
        "(SBARQ, -0.012429216196844383)\n",
        "(PRT, 0.041724453103768065)\n"
       ]
      }
     ],
     "prompt_number": 27
    },
    {
     "cell_type": "markdown",
     "metadata": {},
     "source": [
      "<b>We can see that there are some NonTerminals which are very affected from the added trees.\n",
      "For example: NN (kl=0.66) (VB=0.44) (NX=0.62) (VBG=0.56)"
     ]
    },
    {
     "cell_type": "heading",
     "level": 1,
     "metadata": {},
     "source": [
      "Question 1.3: Induce a PCFG in Chomsky Normal Form"
     ]
    },
    {
     "cell_type": "code",
     "collapsed": false,
     "input": [
      "from nltk.treetransforms import chomsky_normal_form\n",
      "\n",
      "def pcfg_cnf_learn(treebank, n):\n",
      "    for tree in treebank.parsed_sents()[:n]:\n",
      "        tree = filter_tree(tree)\n",
      "        chomsky_normal_form(tree, factor='right', horzMarkov=1, vertMarkov=1, childChar='|', parentChar='^')\n",
      "        yield tree"
     ],
     "language": "python",
     "metadata": {},
     "outputs": [],
     "prompt_number": 30
    },
    {
     "cell_type": "code",
     "collapsed": false,
     "input": [
      "treebank = LazyCorpusLoader('treebank/combined', BracketParseCorpusReader, r'wsj_.*\\.mrg')\n",
      "cnfs = pcfg_cnf_learn(treebank, 200)\n",
      "prods = sum([list(tree_to_productions(t)) for t in cnfs], list())\n",
      "\n",
      "print \"internal nodes = \", len(prods)\n",
      "print \"rules = \", len(set(prods))"
     ],
     "language": "python",
     "metadata": {},
     "outputs": [
      {
       "output_type": "stream",
       "stream": "stdout",
       "text": [
        "internal nodes =  10038\n",
        "rules =  2797\n"
       ]
      }
     ],
     "prompt_number": 31
    },
    {
     "cell_type": "markdown",
     "metadata": {},
     "source": [
      "compared to the earlier 8443 nodes and 2271 rules.<br/>\n",
      "not a bad price to pay for all that context.."
     ]
    },
    {
     "cell_type": "heading",
     "level": 1,
     "metadata": {},
     "source": [
      "Question 1.4"
     ]
    },
    {
     "cell_type": "heading",
     "level": 2,
     "metadata": {},
     "source": [
      "Compute the distribution of the RHS given the NP LHS for all NPs in the treebank. Draw a histogram plot."
     ]
    },
    {
     "cell_type": "code",
     "collapsed": false,
     "input": [
      "def tree_to_productions_parents(tree, parent_label):\n",
      "    yield (parent_label, tree_to_production(tree))\n",
      "    for child in tree:\n",
      "        if isinstance(child, Tree):\n",
      "            for prod in tree_to_productions_parents(child, tree.label()):\n",
      "                yield prod\n",
      "\n",
      "treebank = LazyCorpusLoader('treebank/combined', BracketParseCorpusReader, r'wsj_.*\\.mrg')\n",
      "trees = treebank.parsed_sents()\n",
      "trees = map(filter_tree, trees)\n",
      "prods = sum([list(tree_to_productions_parents(t, 'DUKIS')) for t in trees], list())\n",
      "                \n",
      "# only LHS = NP, no parent restriction:\n",
      "nps = filter(lambda prod: prod[1].lhs().symbol() == 'NP', list(prods))\n",
      "rhs = map(lambda x: x[1], nps)\n",
      "rhs_dist = nltk.FreqDist(rhs)\n",
      "\n",
      "print rhs_dist.tabulate()                "
     ],
     "language": "python",
     "metadata": {},
     "outputs": [
      {
       "output_type": "stream",
       "stream": "stdout",
       "text": [
        "NP -> NP PP NP -> DT NN NP -> PRP NP -> NNS NP -> NN NP -> NNP NNP NP -> NNP NP -> DT JJ NN NP -> JJ NNS NP -> DT NNS NP -> NP SBAR NP -> JJ NN NP -> NN NNS NP -> QP NP -> DT NN NN NP -> NP CC NP NP -> CD NP -> NP , NP NP -> NNP NNP NNP NP -> CD NN NP -> NP , NP , NP -> NP VP NP -> CD NNS NP -> NN NN NP -> DT NNP NP -> NNP POS NP -> PRP$ NN NP -> NP NP NP -> $ CD NP -> NP NN NP -> DT NN POS NP -> DT NP -> NP PP PP NP -> DT NNP NNP NP -> NP NP -> DT NNP NN NP -> DT JJ NNS NP -> PRP$ NNS NP -> JJ NN NNS NP -> NNP NNP POS NP -> DT ADJP NN NP -> DT JJ NN NN NP -> NP , SBAR NP -> QP NNS NP -> JJ JJ NNS NP -> NP NNS NP -> NNP CD NP -> NP , SBAR , NP -> EX NP -> NP PRN NP -> NP ADJP NP -> QP NN NP -> NNP NNS NP -> NNP NNP NNP NNP NP -> NP PP SBAR NP -> PRP$ JJ NN NP -> NP JJ NN NP -> DT NN NNS NP -> DT NNP NNP NNP NP -> JJ NN NN NP -> DT JJ JJ NN NP -> NP , CC NP NP -> JJ NP -> NNP NNPS NP -> JJR NNS NP -> DT NN S NP -> CD CD NP -> NP NN NN NP -> NNP NN NP -> NP , NP CC NP NP -> NP , PP NP -> NP ADVP NP -> JJ JJ NN NP -> NN NN NNS NP -> PRP$ JJ NNS NP -> DT VBN NN NP -> PRP$ NN NN NP -> DT JJ CD NNS NP -> DT NNP NNP NN NP -> NP , CC NP , NP -> DT NNS NN NP -> NP JJ NNS NP -> DT NNP NNP NNP NNP NP -> DT VBG NN NP -> ADJP NN NP -> DT NN SBAR NP -> NP : NP NP -> JJ NNP NP -> NP PP VP NP -> ADJP NNS NP -> NNP CC NNP NP -> NNS CC NNS NP -> VBG NNS NP -> CD JJ NNS NP -> DT CD NNS NP -> NP NNP NNP NP -> NNS NNS NP -> DT NNP NN NN NP -> DT JJ NP -> NP , VP , NP -> JJ CD NP -> DT CD NN NP -> NP : NP . NP -> NP NN NNS NP -> DT NN NN NN NP -> DT JJR NN NP -> DT NNP POS NP -> DT JJS NN NP -> PRP$ NN NNS NP -> JJR NP -> NP NN S NP -> DT NNPS NP -> NNP NNPS NNP NP -> JJR NN NP -> DT NNP NNP POS NP -> NP , ADVP NP -> NN NN NN NP -> RB NP -> NNS POS NP -> NP , VP NP -> DT JJ NN NNS NP -> NNP CD , CD NP -> NN CC NN NP -> DT NN CC NN NP -> DT NNP NNS NP -> NN POS NP -> DT JJ JJ NN NN NP -> NNS SBAR NP -> NNPS NP -> VBN NNS NP -> NNP NNP CC NNP NP -> NNP NNP NNS NP -> VBN NN NP -> NNP NN NNS NP -> NP JJ NN NN NP -> NP PP , SBAR NP -> JJS NP -> DT CD NP -> DT JJS NP -> DT NAC NN NP -> NNP NNP NNP POS NP -> NP PP NP NP -> DT ADJP JJ NN NP -> NP NNP NP -> NP PP S NP -> NP , PP , NP -> DT JJ , JJ NN NP -> CD NN NNS NP -> NNP NNP NNP NNP NNP NP -> DT NP CC NP NP -> VBG NN NP -> DT JJ NN POS NP -> DT NNS POS NP -> VBG NP -> DT NNP CD NN NP -> QP JJ NNS NP -> JJ NN POS NP -> DT NNP JJ NN NP -> RB DT NN NP -> NP NNP NNP NNP NP -> NP , NP , NP NP -> DT ADJP NN NN NP -> NN CC NN NNS NP -> JJ NNP NNS NP -> NP PP PP PP NP -> NN NNP NNP NP -> DT NN NN POS NP -> DT JJS NNS NP -> JJ JJ NN NNS NP -> DT CD NN NN NP -> DT NNP NN POS NP -> NP NNP NN NP -> JJS NNS NP -> NNP . NP -> DT VBG NNS NP -> NN CD NP -> NP , NP , CC NP NP -> DT NNS CC NNS NP -> DT NNP CD NP -> DT JJ NNP NN NP -> NP , NP , NP CC NP NP -> DT CD JJ NNS NP -> DT JJ NNP NNP NP -> PDT DT NN NP -> NP PP , PP NP -> JJ NNP NNP NP -> DT JJ NN NN NN NP -> NN SBAR NP -> DT JJ NNS NN NP -> DT NX NP -> DT ADJP NNS NP -> CD JJ NN NP -> NNP , NNP CC NNP NP -> NP , NP , SBAR NP -> DT NN JJ NN NP -> NNP CC NNP POS NP -> ADJP NN NNS NP -> NNP NN NN NP -> NP PRN PP NP -> CD NN NN NP -> JJ NNS NNS NP -> DT JJ JJ NNS NP -> NNS S NP -> VBN NN NNS NP -> RB DT JJ NN NP -> NP JJ JJ NN NP -> DT QP NP -> NP '' PP NP -> JJ NN NN NNS NP -> DT NNP NNP NN NN NP -> DT JJ NN S NP -> NNP NNP NNP NNP JJ NN NP -> PRP$ NN S NP -> JJ NN CC NN NP -> JJ NNS CC NNS NP -> NP PRN : NP -> NP NP PP NP -> NN JJ NN NP -> JJ NX NP -> DT JJR NNS NP -> NNP NNPS POS NP -> RB DT NP -> NN NNS CC NNS NP -> JJR NN NNS NP -> NNP NNP NNPS NP -> NP CONJP NP NP -> DT JJ CD NN NP -> RB NN NP -> NP NX NP -> DT JJ NNP NNP NN NP -> RB JJ NNS NP -> NP PP , SBAR , NP -> DT JJS JJ NN NP -> DT NNP NNPS NP -> NP , ADJP NP -> DT JJ CD NP -> `` NP , '' NP NP -> DT `` NN NP -> ADJP JJ NNS NP -> IN NN NP -> DT NN NNS NN NP -> DT VBG NN NN NP -> DT NNS NNS NP -> NNS NN NP -> JJ VBG NNS NP -> NNP CD NNS NP -> JJ JJ JJ NNS NP -> NNP NNP NNPS NNP NP -> NP JJ NN NNS NP -> NP CC NP PP NP -> NNP , NNP NP -> NP PP PRN NP -> JJR DT NN NP -> DT NNP NNP NNS NP -> NP , NP , PP . NP -> PRP$ CD NNS NP -> JJ DT NN NP -> DT RB JJ NN NP -> NP RRC NP -> NNP NNP NN NP -> DT `` JJ '' NN NP -> NN CC NNS NP -> JJR NN NN NP -> NNP NNP CC NNP NNP NP -> DT NNP CC NNP NP -> DT VBG CD NNS NP -> CD CD NN NP -> NP VP PP NP -> NP , ADJP , NP -> DT NNP CC NNP NNS NP -> JJR JJ NNS NP -> DT NNP NNP NNP NN NP -> DT JJ NNP NP -> JJ NNP NNP NNP NP -> NNP NNP NNP NNP NNP NNP NP -> ADJP JJ NN NP -> NP : S . NP -> QP NN NNS NP -> DT JJ NN JJ NN NP -> JJ NN NN NN NP -> JJ NN CC NN NNS NP -> NP ADJP NN NP -> NP PP , NP , NP -> NNP NNP NN NNP NNP NP -> DT NNP CC NNP NNP NP -> NP PP ADVP NP -> NP SBAR PP NP -> DT `` NN NN '' NP -> CD CC CD NP -> PRP$ NNP NNP NNP NP -> ADJP NNP NP -> DT `` JJ NN NP -> NNP JJ NN NP -> NP : NP : NP -> RB CD NP -> DT RB NP -> RBR DT NN NP -> CD NNP NNS NP -> CD JJ NN NNS NP -> PRP$ JJ NN NN NP -> DT JJ QP NP -> NP PP . NP -> DT `` NN '' NP -> NNP NNPS NNP NNP NP -> PRP$ NN POS NP -> DT VBN NN NN NP -> DT VBN NNS NP -> RB JJ NN NP -> NP , NP SBAR NP -> NP QP . NP -> NP ADVP PP NP -> NNP JJ NNS NP -> PRP$ JJ JJ NN NP -> DT NN NNS POS NP -> NP VP SBAR NP -> NP , NP . NP -> NP NNS NN NP -> NP ADJP PP NP -> DT `` JJ NN '' NP -> JJ NNS S NP -> DT JJ , JJ NNS NP -> DT JJR NN NN NP -> JJ , JJ NN NP -> PDT DT NP -> PRP$ NNS CC NNS NP -> DT JJ QP NNS NP -> DT `` NN '' NN NP -> NP : S NP -> CD VBN NNS NP -> DT JJS NN NN NP -> WDT NP -> DT $ CD NP -> DT NNP NNP NNP NNP NNP NP -> NP JJS NN NP -> RBR NP -> RB NNS NP -> DT NN VBG NN NP -> NNP CC NNP NNP NP -> NP PRN SBAR NP -> NNP , NNP , NP -> PRP$ NN NN NNS NP -> JJS JJ NNS NP -> RB JJ NP -> JJ NN S NP -> DT ADJP NNP NP -> PRP$ NX NP -> NP CC ADVP NP NP -> NP : NP -> DT JJ DT NP -> DT VBG JJ NN NP -> JJ NNS POS NP -> JJ NNP CD NP -> PDT DT JJ NN NP -> DT JJ VBG NN NP -> NP QP NP -> NP '' SBAR NP -> PRP$ JJS NN NP -> DT ADJP NNP NN NP -> RB CD NNS NP -> RB CD NN NP -> NP , CONJP NP NP -> DT JJ NN CC NN NP -> DT JJ NNP NN NN NP -> NP VP . NP -> CD JJ JJ NNS NP -> PRP$ NNP NN NN NP -> NP , NP , NP , NP , NP CC NP NP -> RB DT JJ NNS NP -> NNP NNP NNP NNP POS NP -> DT JJS JJ NNS NP -> DT JJ NN QP NP -> NNP NNP NNP NNPS NNP NP -> DT RBR JJ NN NP -> DT NN CC NN NN NP -> PRP$ JJ JJ NNS NP -> PRP$ NNP NNP NN NP -> JJ VBN NNS NP -> NP PP , VP NP -> DT JJ CC JJ NNS NP -> ADJP NNP NNP NP -> PRP$ JJ NN NNS NP -> NN NN NNP NNP NP -> PRP$ JJ NNP NN NP -> NP NNP NNP NNS NP -> DT NN CC NNS NP -> `` NP '' PRN NP -> `` NP , '' SBAR NP -> NN S NP -> DT UCP NN NP -> NN NNS NNS NP -> DT ADJP JJ NN NN NP -> NP , NP , NP , NP -> : NP PP , SBAR . NP -> VBN NN NN NP -> RB JJR NP -> DT JJ ADJP NN NP -> DT NNP NNP NNP NN NN NP -> PRP$ NN CC NN NN NP -> NNP NNP JJ NN NP -> CD , CD CC CD NP -> DT NNP NNP NNP NNP NNP NNP NP -> NP VBN NN NP -> NNP , NNP CC NNP NNP NP -> DT JJ JJ NP -> DT QP NNS NP -> DT ADJP NP -> JJ CC DT NN NP -> NNP NNP . NP -> DT NN QP NP -> NNP : NP -> JJ JJ NN NN NP -> PRP$ JJ ADJP NN NP -> NN JJ NNS NP -> NNPS NNP NP -> DT JJ NNS POS NP -> NN NN CC NN NP -> NNS CC NN NN NP -> NAC POS NP -> DT ADJP NNP NNP NN NP -> PRP$ NN NN NN NP -> JJ , JJ NNS NP -> NP PP , NP NP -> NP , ADVP NP NP -> NNP NNP : NP -> DT ADJP NN NNS NP -> DT NN CC NN NNS NP -> PRP$ NNS S NP -> NNP NNP NNP . NP -> DT VBG NP -> QP VBN NNS NP -> DT NNP NNPS NNP NNP NP -> NN NN NN NNS NP -> DT NAC NN NN NP -> NP , VP , '' NP -> NP NN NN NNS NP -> ADJP NN NN NP -> JJ VBG NP -> NN VBG NN NP -> NP JJS NNS NP -> VBN JJ NN NP -> NNP NN NNP NNP NP -> PRP$ ADJP NN NN NP -> NP PP , VP , NP -> VB NP -> CD NN NN NNS NP -> NP : NP : CC NP NP -> NP PP , PP , NP -> NP , RB NP NP -> NP CD NN NNS NP -> JJ NN NNP NNP NP -> JJ UCP NNS NP -> JJ , JJ NN NNS NP -> NP NNP NNP NN NP -> DT CD JJ NN NN NP -> PRP$ NNP NP -> PRP$ NNP NN NP -> PRP$ NNS POS NP -> DT NN NNP NP -> NP NP . NP -> NN , NN CC NN NP -> DT NN NN S NP -> PRP$ ADJP NN NP -> CD CD NNS NP -> DT JJ NNS NNS NP -> PRP$ JJ NP -> NNS , NNS CC NNS NP -> JJR JJ NN NP -> NP , ADVP NP , NP -> JJ CC JJ NNS NP -> PRP$ NP -> PRP$ ADJP JJ NN NP -> NNP NX NP -> DT NNP NNP NNP POS NP -> DT `` JJ NN '' NN NP -> NP=3 , ADVP NP -> RB DT ADJP NN NP -> ADJP NNP NNP NNP NP -> NP NN NN NNS NN NP -> DT NNP CD NNS NP -> NP VBN NNS NP -> DT DT NNS NP -> NNP NNP NNP CC NNP NP -> PRP$ NAC NN NP -> DT CD NN NNS NP -> QP JJ NN NP -> DT NAC NNP NP -> JJ NNP NNP NN NP -> DT NNP NN NN NN NP -> NP : NP : NP : CC NP NP -> NP NN CC NN NN NN NP -> VBN NN SBAR NP -> DT NN NN CC NN NNS NP -> NP NN PP NP -> PRP$ QP NNS NP -> PRP$ VBN NN NP -> DT CD CC CD NP -> JJ NN NNP NNP NNP NP -> DT JJS CD NNS NP -> CD NN QP NP -> `` NP '' PP NP -> NP ADJP NN NN NP -> DT NNP CC NNP NN NNS NP -> DT JJ VBN NN NP -> NNP NNP NN NN NP -> PRP$ NNP NNS NP -> NP : VP . NP -> `` JJ '' NNS NP -> NP CD NN NP -> DT `` JJ NN NN '' NP -> DT NN JJ NP -> NP NP S NP -> NP NN CC NN NP -> NP PP ADVP SBAR NP -> DT NN CD NP -> NP NNP NNPS NNP NP -> NP UCP NP -> JJ CD NNS NP -> PRP$ UCP NNS NP -> NNP NNP NNPS NNP POS NP -> JJ NNS NN NP -> DT JJ NX NP -> NNPS NNP CC NNP NP -> DT VBN CD CD NP -> NNP , NNP , NNP , NNP CC NNP NP -> JJ NNP NNP NNS NP -> JJ NN CC NN NN NNS NP -> NP , NP , PP NP -> NP PP PP SBAR NP -> NNP NN NNP NP -> NP , PP , SBAR NP -> NP , CC NP , PP NP -> DT JJ NNP NNS NP -> DT JJ VBG NP -> NNP NNPS CC NNP NNP NP -> DT JJ NNS CC NN NP -> VB NN NP -> NNP NNP NN NNS NP -> ADJP NNP NNS NP -> QP NN NN NP -> QP NNP NNS NP -> PRP$ NN NNS NN NP -> DT CD JJ JJ NNS NP -> NNPS NNPS NP -> NNP NNS NNS NP -> NP NN JJ NN NP -> DT JJ `` NN NN '' NP -> VBG JJ NNS NP -> DT NNP NNP JJ NN NP -> NP PP PP , SBAR NP -> DT JJ , JJ JJ NN NP -> NN NNS NN NP -> NN CC VBG NN NP -> NP CD JJ NNS NP -> RB NN NNS NP -> NP , NP CC NP , NP -> DT NNP CC NNP NN NP -> DT NNP NNP NNP NNP POS NP -> NP , PRN NP -> JJ NNP NN NP -> NP `` VP NP -> DT JJ $ CD NP -> DT NN CC JJ NNS NN NP -> NP JJ JJ NNP NN NP -> NP NN SBAR NP -> ADJP DT NN NP -> NP NN NN NN NP -> DT NNP CD NN NN NN NP -> NP , RRC , NP -> NP : NP : NP : NP : NP : NP NP -> DT JJ NNP NNS NNS NP -> JJR NNP NN NNS NP -> DT VBN NN NNS NP -> DT NP NP -> NP SBAR , PP NP -> CD NP NNS NP -> NP , RB NP , NP -> CD JJR NNS NP -> NP NNPS NNP NNP NP -> UCP NNS NP -> VBG NN NNS NP -> NNP DT NNP NP -> DT NNS RB NP -> DT CD VBN NNS NP -> DT JJ NNS CC NNS NP -> DT VBG NNP NN NP -> NP : CC NP NP -> NP NNPS NP -> DT JJ VBN NNS NP -> DT NNPS CC NNP NNP NP -> VB NNS NP -> NP NN JJ NP -> JJ NNP NN NNS NP -> DT NNS S NP -> DT NNP NNP CC NNP NN NP -> NP NNP CD NN NP -> NP NNP NNP NNP NN NP -> DT NNP NNP NN NNS NP -> NP : NP : NP : NP : NP NP -> NP , NP , NP , NP CC NP NP -> NP QP NNS NP -> NNP NNP JJ NNS NP -> PRP$ NNS NN NP -> CD NN JJ NNS NP -> NP , UCP , NP -> NP ADJP NNS NP -> JJ NNPS NP -> DT VBN CD NN NP -> RBS NP -> NAC NNP NNP NP -> DT NNP NNP CC NNP NNP NP -> `` NNP '' NNS NP -> PDT PRP$ NNS NP -> NP VBG NN NP -> PRP$ JJS NNS NP -> JJ NNP NNP NNP NNP NP -> DT NN CC NNS NNS NP -> NN VBG NP -> DT NN CD NN NN NP -> DT JJ JJ JJ NN NP -> NP : NP : NP : NP NP -> JJ NN NNS CC NNS NP -> JJR NN NN NN NP -> VBN NN CC NN NP -> PRP$ NNP CD NN NP -> NP ADJP JJ NN NP -> NNP NNP , NNP NNP CC NNP NP -> JJ NNS CC NN NP -> JJ CD POS NP -> NP , '' NP NP -> DT NNP NNS NN NP -> NP PP ADJP , VP . NP -> DT JJ NN `` NN '' NN NP -> PRP NN NP -> DT PRP NP -> SBAR CC NP NP -> NP NNS S NP -> DT NNP NN NNS NP -> NAC NNS NP -> NNP NNPS NNP POS NP -> NP ADJP PP SBAR NP -> NP PP ADJP , PP PP . NP -> NP , NP , SBAR , NP -> NP CC NP CC NP CC NP NP -> RB JJ DT NN NP -> DT CD NNP NP -> DT JJ NN CC NN NN NP -> DT NNP CD JJ NNS NN NP -> NP : NP : NP NP -> DT VBN JJ NN NP -> NP S NP -> DT JJ NN VBG NN NP -> PRP$ CD NN NNS NP -> NP NNP NNPS NP -> `` NNP NNP '' NP -> DT NNP NNP NNP JJ NN NP -> NP PP , ADJP , NP -> IN NP -> DT ADJP QP NP -> NP , NP : NP -> NP ADVP SBAR NP -> DT JJS NN NNS NP -> PRP$ NNP NNP NNS NP -> RBR JJ NN NNS NP -> PRP$ NN VBG NN NP -> NP , NP , NP , NP NP -> NNS CC NN NP -> DT JJ NNP JJ NN NP -> NN CC JJ NNS NP -> NP NN NNS NN NP -> DT VBN ADJP NN NP -> DT ADJP NX NP -> DT CD CD NP -> JJS NN NNS NP -> DT ADJP NNS NN NP -> NP , NP , '' NP -> FW NP -> NNPS POS NP -> DT RBS JJ NN NP -> DT ADJP CD NP -> IN CD NNS NP -> NP NNP NNP CC NNP NNP NP -> DT NNP NN NN CC NN NN NP -> NP , CC ADJP NP -> NP VBN NN NNS NP -> DT CD NX NP -> ADVP NP PRN , NP NP -> DT JJ NNP NN POS NP -> NN NNP NNP NNP NP -> DT `` NN NN '' NN NP -> ADJP CD NN JJ NNS NP -> DT JJS NNS NN NP -> PRP$ NNP NNP NNPS NNP NP -> JJ VBN NN CC VBG NNS NP -> JJ VBG NN NP -> JJ NNP NNS CC NNS NP -> DT NAC NN NN NN NP -> JJ JJ NNPS CC NNPS CC NNPS NP -> `` NP , '' RB NP NP -> NP PP , ADVP NP NP -> $ CD NN NP -> NNP NNP NNP NNS NP -> NN NNP NNS NP -> JJ NNP NNP CC NNP NNS NP -> NP NP , PP S . NP -> PRP NN NN NP -> DT VBN ADJP NN NN NP -> CD RB NP -> NP JJR NNS NP -> CD JJ JJ NNP NNS NP -> DT NN CC JJ NN NP -> PRP$ NNP NNP NNP NNP NN NP -> NNP NNP NNP NNP , PP , NP -> JJR NNS CC NNS NP -> CD JJ ADJP NN NNS NP -> NP JJ NNP NNP NNP NNP NN NP -> NN CC NN CC NNS NP -> NP NN CD NN NN NP -> NAC NN NP -> DT NNP NNP NNP NNP NN NP -> PRP$ NN CC NN NNS NP -> NP RB NN NP -> DT JJ NN NNS POS NP -> PRP$ JJR NN NP -> NNP VBG NNS NP -> LST NP VP NP -> DT JJ NN NN NNP NP -> JJ NN NNS NNS NP -> DT NN , SBAR NP -> PRP$ CD JJ NN NNS NP -> DT ADJP NN POS NP -> IN DT NN NP -> DT VBG NN SBAR NP -> NP , SBAR , PP NP -> NN CC NN NN NNS NP -> DT VBN QP NP -> CD NN CC NN NNS NP -> ADJP NN NNP NNP NP -> NP SBAR , '' NP -> JJ NNP NNP NNP NNP NNP NP -> DT JJR JJ NN NN S NP -> DT CC NN NP -> CD NN NNS NNS NP -> RB DT NNP JJ NN NNS NP -> RB DT ADJP NNS NP -> ADVP NN NN NN NP -> NP JJ `` NN NN '' NNS NP -> NP S NP NP -> NNP CC NNP NNP NNP NP -> NP `` S '' NP -> NP PP PP PP , ADVP NP -> NP , NP , ADVP NP , NP -> DT NAC , JJ NN , NP -> NP : PP : NP -> NNS NX NP -> DT NN FW NN NP -> DT JJR NP -> NP PP PP NP NP -> CD NN POS NP -> VBN JJ NN NNS NP -> DT VBG VBG NN NP -> ADJP VBG NN NP -> NP : NP : NP : NP : NP : NP : NP : NP : NP : CC NP NP -> PRP$ NNP CD JJ NN NP -> NNP NNP CC NNP POS NP -> RB NP CC NP NP -> VBG JJ NN NP -> VBG NN NN NP -> DT JJ NN NNS NN NP -> VBZ S NP -> NNP NNP NNP NN NNP NNP NP -> DT NN ADJP JJ JJ NN NP -> DT NNP NN CC NN NN NP -> `` RB DT JJ NN '' NP -> NP : SBAR : NP -> PRP$ JJ VBN NN NNS NP -> DT NN NNS CC NNS NN NN NP -> DT NN PRN NP -> DT JJ , VBN JJ NNS NP -> PDT DT NN NN NP -> JJ , ADJP NNS NP -> DT NN CD  NN  JJ NN NP -> PRP$ NNP NNP JJ NN NP -> NN NN NNP NNPS NNP NP -> NP NNP NNP CC NNP NNPS NP -> NNP , NNP CC NNP POS NP -> NP=3 , ADVP , NP -> NNP NNP NNP JJ NN NP -> PRP$ NP CD NN NNS NN NP -> DT JJ `` JJ '' NN NP -> NP JJ JJ NNS NP -> JJ NNP NNP NNPS NNP NP -> NP , NP PP , NP -> NP : ADJP NP -> QP DT NN NP -> NNP NN NNP NN NP -> JJS NN NN NP -> NNP NNP POS NNP NP -> DT NN PP PP NX NP -> DT JJ NNP NNP NNP NN NP -> DT JJ NN NN NNP NNP NP -> DT RB VBN JJ NN NP -> DT VBN JJ JJ NN NP -> DT VBG JJ NN NN NP -> DT `` JJ NNS '' NP -> DT JJ JJS NN NP -> DT NNP CC JJ NNS NP -> DT JJ NNP NNP NNP NP -> PRP$ NNS , NNS CC NN NP -> JJS RB JJ NNS NP -> DT CD NNP NNP JJ NNS NP -> NN NN NN NN NP -> DT NNP NN SBAR NP -> DT JJ `` JJ NN '' NN NP -> JJ NN NN NNP NNP NP -> VBN NNS NNS NP -> JJ NN VBG NNS NP -> PRP$ CD ADJP NN NNS NP -> PRP$ VBN CD NN NNS NNS NP -> DT `` NN NN NN NN NP -> NP PRN NP NP -> NN RB NP -> NP , NP , ADJP , NP -> NP JJ NNP NNP NP -> RB NP NP -> NNP NNP NNP NNP NNP POS NP -> CD NNS JJ NP -> NNS RB NP -> CD ADJP JJ NNS NP -> DT JJ NNS CC NN NN NP -> NP , ADJP , ADVP PP NP -> NNP NNP NNP NNP NNP . NP -> NN NNP NP -> NP JJ CD NP -> NP PP PP . NP -> NN VBD NN NNS NP -> DT JJ CD NNS NNS NP -> ADVP CD NNS NP -> NP PP , NP -> DT NN ADJP NN NP -> NNP NNP NNP NNP NNS NP -> NP , NP , NP , NP , NP , NP , NP , NP , CC NP NP -> NP : ADJP : NP -> NP JJ CD NNS NP -> NP NNP IN NNP NNP IN NNP NP -> NP `` SBAR NP -> NP PP , NP , ADJP , VP . NP -> DT JJ JJ NNS CC NNS NP -> NP , NP SBAR , NP -> DT NNP NN VBD NN NP -> QP NNS X NP -> RB NNPS NP -> DT NNP NN CC NNS NN NP -> NN , NN CC NN NN NP -> DT VBN CD NP -> JJ NNS , NN CC NNS NP -> NP CC NP , CONJP NP NP -> DT JJR ADJP NN NP -> NN NNS POS NP -> DT JJS NN VBG NN NP -> NN CC NN NN NN NP -> DT NNPS NNP NP -> NP NN NN NN NN NP -> PRP$ NP NP -> NP JJ NNS NNS NP -> NN CC JJ NN NNS NP -> NP . NP -> PRP$ JJ JJ NNS NN NP -> JJ NN NNP NNP NNPS NNP NP -> JJ JJ NP -> NN NN NNS NNS NP -> `` NP , '' PP : NP NP -> NP PP '' SBAR NP -> DT RB JJ NN S NP -> PRP$ JJ VBG NN NP -> PRP$ JJ NNP NNP . NN NN VBG NN NP -> NNP NNPS NN NNP NNP NP -> DT NN , CC NN , NP -> CD CD NNP NP -> NP : NP , NP NP , NP NP -> NP NNS NNS NP -> JJ VBN NN NP -> NP `` NN S NP -> VBG NNP NP -> NP PP , NP , VP . NP -> NP NAC NN NNS NP -> ADVP DT NNP NNP NN NN NP -> JJ NN NNS NN NP -> JJ NNS SBAR NP -> PRP$ NNP CC NNP JJ NN NNS NP -> PRP$ `` JJ '' NX NP -> NP : ADVP , NP . NP -> NP VBN QP NP -> CD NN SBAR NP -> DT NNP NNPS NNP NP -> DT JJ , JJ NN NNS NP -> DT JJ , JJ NN NN NP -> DT NNP NN NN CC NNS NN NP -> DT NP NNS CC NN NP -> DT `` NN NN NP -> NP `` NX '' PRN NP -> IN QP NP -> JJ NN NNP NNP VBG NP -> PRP$ JJS NP -> ADJP NNP NNPS NNP NP -> DT CD NNP NN NP -> RB DT QP NNS NP -> NP CC PRN NP NP -> DT NNP CC NNP POS NP -> DT NN CC NNS VBG NN NP -> NNP NP NP -> NP NN PRN S NP -> NN CC DT NP -> PRP$ NNP NNP NNP JJ NN NP -> PRP$ JJ VBG NNS NP -> JJ JJ NNP NP -> NP PP PP , ADJP NP -> VBN NNP JJ NN NP -> LST DT JJ NN NN NP -> PRP$ JJ NNS CC NNS NP -> `` JJ NN '' NP -> CD JJ NP -> LST NP PP NP -> DT NNS CC VBZ NP -> `` NN NP -> NNP , NNP , NNP , NNP NP -> NP PP : PP : NP -> DT JJ JJ CD NN NP -> DT NNP NNS CC NN NN NP -> NNP NNP NNP JJ NP -> `` NP '' SBAR NP -> DT NN NN SBAR NP -> PRP$ JJ NN NN NN NP -> DT NNP NNP NNPS NNP NP -> DT VBN NN POS NP -> DT JJ JJ NNP NN NP -> DT NNP NNP NNPS CC NNP NNP NP -> PRP$ JJ NNP NNP NNP NP -> NNP NNP NNP NNP NNP , NNP , NN NN NNS NP -> NP , NP , VP , NP -> DT JJR JJ NN NP -> DT NNP , NNP CC NNP NNP NNS NP -> RB DT VBG NNS NP -> DT NNS CC NN NNS NP -> PRP$ CD JJ NN NP -> NP `` NNS CC NNS NP -> CC DT NNP CC NNP NN NN NNS NP -> RB DT NNS NP -> NP NP PP . NP -> JJ NN VBZ NP -> NNP , NNP CC NNP NNP NNP NP -> VBD NN NP -> NP PP ADJP VP NP -> DT NNS NN POS NP -> DT JJS NN RB NP -> SBAR NP -> DT NN `` PP '' NN NP -> DT NNP NNP NNP NN NN POS NP -> NNPS NNP NNPS NP -> DT JJ , ADJP JJ NNS JJ NN NP -> DT NNP NNP NN CC NN NN NP -> DT NN NN CC NN NN NN NP -> PRP$ JJ `` NN '' NP -> NP JJ NP -> DT JJ JJ , ADJP NN NP -> DT JJ NNP NNP JJ NN NP -> NP NNP .  NNP  NNP NP -> VB NN NNS NP -> DT JJR CD NP -> ADJP `` JJ '' NN NNS NP -> PDT DT NNP CC NNP NNP NP -> PRP$ NNP CD NN NN NP -> DT VBN JJ NN NN NP -> RB DT JJ NNP CD NN NP -> ADVP NP SBAR NP -> NP `` S NP -> CD JJ JJ NN NP -> NP JJS CC JJS NP -> RB JJR NNS NP -> NP , NP , NP , NP . NP -> NN NNS CC NN NP -> PRP$ NNP NNP NNP NNP NNP NP -> DT JJ VBG NNS POS NP -> DT NNP IN DT NNP NP -> NP CD NN NN NP -> NP PP RRC NP -> PRP$ NNS CC NN NN NP -> NN CD  NN  NP -> NP NP QP NP -> NP NNP CD NNP CD NP -> NP RB RB IN NP NP -> NNP , NNP NNP NP -> RB RBR  NN NN  NP -> DT NNS CC NN NP -> IN DT JJ NP -> PRP NNP NNP NNP NP -> JJ NN NN NP NNP NP -> DT NN , NNP NNP NN NP -> JJ , JJ NN NN NP -> JJ  NN  NP -> DT ADJP , ADJP NN NN NP -> NNP NNP NNP : NP -> NP PP : NP NP -> NP PP , RRC , NP -> PRP$ VBN NNS NN NP -> PRP$ NN NN NN NNS NP -> NP PRN PP , SBAR , NP -> DT RBS NP -> NP , VP , SBAR NP -> NNPS NNP NNPS NNP NP -> CD NNS CC NNS NP -> NN NNP POS NP -> PRP$ NN CD NN NP -> NNP NNP NNP CC NNP , NNP NP -> DT NN `` NN NN '' NN NP -> DT ADJP NN NN CC NN NN NP -> NN NN NNS CC NNS NNS NP -> NNP , NNP , NNP , NNP NNP NP -> `` JJ NNS , '' NP -> PP PP NP -> DT NNP NNP NNP NN NN NNP NP -> NP : RB NP . NP -> PRP$ JJ NN POS NP -> PRP$ JJ JJ NN NN NP -> QP DT VBN NN NP -> NNPS `` NNP '' NNP NNP NP -> PRP$ JJ NNS CC NN NNS NP -> PRP$ CD NNP NP -> PRP$ JJ NN PRN NN NP -> JJ JJ NN POS NP -> PRP$ CD CC CD NP -> PRP$ VBG NNS NP -> NNP NNP CC NNP NNP NNP NP -> IN CD NN NP -> JJ NN NNP NNS NP -> DT CD JJS NNP JJ NNS NP -> DT JJ NNS , NNS CC NN NNS NN NP -> JJ NNP NNP CC NNP NP -> NN , NN , NN NP -> RBS JJ NNS NP -> NP : ADVP NP -> NNP NNP NNP NNP NNP NNP NNP NP -> DT JJR NNP CD NN NP -> NAC NNP NP -> DT JJ CD NNP NNS NP -> ADVP NP CC NP NP -> PRP$ JJ NNP NNP NNS NP -> NNPS NNP NNP NNP NP -> DT ADJP NNP CD NN NP -> DT CC DT JJ NN NP -> NP , PP NP , NP -> VBG NX NP -> JJ NN NN CC NN NN NNS NP -> JJ , JJ `` NNS '' NP -> PRP$ NNP NNP JJ VBN NN NP -> DT  VBG  NN POS NP -> JJ , JJ NN NN NNS NP -> DT JJ NNP NNP NNP CC NNP NNP NN NP -> NP TO NP NP -> DT JJ NN CC NN NN NN NP -> NP NNPS NNP NP -> S CC NP NP -> DT NN : NNP NNP NN NP -> NP , CC RB NP , S NP -> ADJP NN NNP NP -> NP , CC ADVP NP NP -> NAC CD NNP NNP NP -> QP NNP NN NP -> NP NNS CC NN NP -> DT JJ CD JJ NNS NP -> NP , ADJP , SBAR NP -> JJ JJ NNS NNS NP -> NNP CC NNP NNP JJ NNS NP -> NN CC NNS NNS NP -> IN JJ NN NN NP -> NP PP NP PRN NP -> PRP$ NN NNS NN , NN CC NN NN NNS NP -> `` NP '' CC `` NP NP -> CD JJ NNP NN NNS NP -> NP SBAR : NP -> CD NNP NNP NNS NP -> PRP NNP NNP , NP -> DT JJ UCP JJ NN NNS NP -> QP NN NN NNS NP -> DT NNP , NNP CC NNP NP -> ADVP $ CD NP -> NAC VBG NN NNP NNP NP -> DT NN , NN CC NN NNS NN NP -> DT VBG NNS NN NP -> PRP$ NNP NNP NNP NN NP -> JJ NN JJ NN NN NNS NP -> DT CD VBG NNS NP -> NP JJ NNS S NP -> NAC NN NN NP -> DT ADJP NN NN NN NP -> DT NAC NNS NP -> NNP `` NN '' NP -> DT NNP NNP NNP NNPS NNP NP -> NP PP ADJP , VP NP -> QP QP NP -> NP , NP , NP , NP , NP NP -> DT NNP . NP -> PDT DT NNS NP -> NP VP PRN NP -> DT JJ NNP NNP CC NNP NNP NNP NP -> NNP CC NNP NNP NNS NP -> NNP NNP NNP NNP CC NNP NNP NP -> NN CC JJ NN NN NNS NP -> ADVP NP JJS NN NN NP -> DT VBN CD NN NN NP -> NP PP ADJP NP -> DT DT JJ NNS NP -> DT JJ CD NNS QP NP -> DT NNP NNPS CC NNP NNP NP -> NP NP ADVP NP -> NP : `` S NP -> ADJP NN QP NP -> PRP$ JJ NP NN NP -> DT JJ NNP NNP NNP NNP NP -> JJ DT JJ NN NP -> DT NNPS NNP NN NP -> DT NNP NNPS NNP NNS NP -> QP NNP CC NNP NNP NNP NNS NP -> CD JJ NNS CC NNS NP -> NP PP : NP -> RB PDT DT JJ NN NN NNS NP -> NP NN CC JJ NN NN NP -> DT ADJP `` JJ '' NN NP -> JJS JJ JJ NNS NP -> QP DT NNP NN NN NP -> JJ CC JJ NP -> DT VBG NNP NP -> NNP NNP NNP NNPS NP -> NNS CC NN NNS NP -> CD JJ , JJ NNS NP -> DT `` NNP NNP '' NP -> NP , '' PP NP -> DT `` NN S NP -> NP PP ADJP , VP , PP . NP -> NNP NNP CC NNP NNP POS NP -> PRP$ NNP NNP NNPS NNP NN NP -> NP PP , VP , '' SBAR NP -> DT NNP NNP CD NP -> DT CD JJ NN JJ NN NN NP -> CD , CD , CD , CD , CD , CD CC CD NP -> NP , CC RB NP NP -> DT NNP NN NNS POS NP -> PRP$ VBG JJ , JJ NN NP -> NP , NP , NP , NP , NP , NP , NP CC NP NP -> JJ PRN JJ NNS NP -> JJ , ADJP NNP NNS NP -> NP PP PRN NP NP -> NNP NNP NNP CC NNP NNP NP -> NP , UCP NP -> `` NP , '' PP NP -> NP `` NP '' NP -> RB NNP NP -> NP JJ ADJP NN NP -> PDT DT NN NNS NP -> NNP NNP NNP NNP JJ VBG NP -> ADVP DT QP NP -> PRP$ `` NX NP -> PRP$ $ CD NP -> RBR JJ NNS NP -> NP PP PP PRN VP NP -> NP JJ `` NN '' NN NP -> NNS . NP -> NP SBAR , PP PP NP -> DT NNP NNP NNPS NNP NNP NP -> NP VBG NNS NP -> NP , NP , CONJP NP NP -> NP JJR NN NP -> DT VBN ADJP JJ NN NP -> NP PP POS NP -> NN NN CC VBZ NP -> DT CD JJ NN NP -> DT RB JJS NP -> NNP . NNP NP -> DT RB VBN NN NP -> DT JJ NN NN SBAR NP -> DT NNP NNS NNS NP -> DT NNP NN CD NP -> `` NP PP '' PP NP -> PRP$ NN CC NN NP -> DT JJ NN NN NN NN NP -> NN VBD NNS NP -> JJR JJ CC JJ NNS NP -> NP CC NP DT NP -> CD NNP NN NP -> DT JJ NN NN . NP -> PRP$ VBG JJ NNS NP -> NP : NP : NP : NP : NP , CC NP NP -> DT NN NN CD ADJP NN NP -> `` NN '' NNS NP -> DT JJ NNP NNP NNP NNP NNP NP -> NP : SBAR NP -> RBS JJ NN NNS NP -> DT NAC NN POS NP -> DT NNP NN VBG NN NP -> PRP$ CD CD NN NN NP -> DT NNS CC NN NN NP -> DT CD VBG JJ NNS NP -> PRP$ CD NNP CD NNP NP -> DT NNP NNP NN NN NN NP -> CD JJ NN JJ JJ NNS NP -> DT NNP NNP CC NNP NNPS NNP NN NP -> NNPS NNS NP -> DT NN CD NN NP -> `` NP '' NNS NP -> PRP$ JJS JJ NNS NP -> NP PP '' PP SBAR NP -> PRP$ NN NNS NNS NP -> DT NNS SBAR NP -> NX NNS POS NP -> NP NN NNP NNP NP -> CD NN NNP NNP CD NP -> JJ NN SBAR NP -> DT NNP CD NNP NP -> RB DT JJ NP -> PRP$ CD JJR NNS NP -> NP VBN JJ NN NP -> ADJP VBN NN NP -> NNP VBZ NP -> NN NN NNP NNP NNP NP -> NP ADJP NP NP -> NP , NP , NP , NP , FW NP -> DT CD NNS NNS NP -> NP NNP NN NN NP -> NNP NNP , NNP NNPS NP -> DT JJ NN CD NP -> NP NN CC NN NNS NP -> DT JJ NN , NN CC NN NN , NP -> DT VBN NN CC JJ NP -> DT VBN NNP NN NN NP -> NP JJS NN NN PP NP -> `` DT JJ '' NN NP -> NP CD NNP NNP NNP NP -> NP PRN , SBAR , NP -> PRP$ NN JJ NP -> NP JJS VBN NN NP -> DT `` JJ , JJ , JJ NN NP -> DT NAC NP -> : NP , `` NP '' NP -> NP JJ NN NN NN NP -> NP VP SBAR , NP -> DT RB CD NNS NP -> CD NNP NNP CC NNP NP -> DT ADJP NN VBG NN NP -> PRP$ NX JJ NNS NP -> NP : SBARQ . '' NP -> DT NNP CD NN NN NP -> S , NP NP -> UCP JJ NNS NP -> RB DT `` JJ '' NN NP -> DT NNP VBN NNS NN NP -> NP PRN PP , ADVP NP -> JJ SBAR NP -> DT NN JJ NNS NP -> CD NN NN JJ JJ JJ NN NNS NP -> NNP NNP NNPS NN NNP NNP NP -> DT DT NN NP -> NN CC NN JJ NN NP -> DT JJ NN NNP NP -> NP `` JJ NNS NP -> DT VBD NP -> ADJP JJR NP -> NNP IN NNP NP -> NP : VP NP -> `` NP , '' NP SBAR NP -> PRP CC PRP NP -> ADVP DT JJ NN NP -> NP RB NP NP -> JJ , JJ JJ NN NP -> NP : `` SBAR NP -> QP NNP CC JJ NNS NP -> NNP NNP NN NN NNP NNP NNP NP -> DT NN NN NN NN NP -> DT VBN NP -> DT VBN NN NN NN NN NP -> VBG CC NN NP -> DT VBG QP NN NP -> NP CC NP NX POS NP -> NNP JJ NP -> DT NNP NNP NNP , PP , NP -> NP : NP : NP . NP -> # CD NP -> RB DT NNP NN NN NP -> DT NN VBZ NP -> NP JJ , JJ NN NN NP -> DT ADJP NAC NN NP -> JJR VBG NN NP -> NP '' VP NP -> DT NNP NNP JJ NN NN NP -> DT NNP NNPS NNP NN NP -> NNP NNPS : . NP -> NP PRN `` VP . '' NP -> NNP NNP CC NNP NNS NP -> DT NP NN SBAR NP -> NP NN CD  NN  NN NN NN NP -> PRP$ JJ NN JJ NNS NP -> JJ NN : NP -> DT JJ NNP NNP CD NN NP -> NP JJ NN CC NN NP -> CD NNP : NP -> NP JJ IN NP NP -> NNP NNP NNS NN NP -> DT ADJP NNP NNP CC NNP NNP NNS NP -> NNP NNP SYM NNP NNP NP -> NP SBAR . NP -> VBN NNP NNP JJ NN NN NP -> NNS : NP -> NP PP , VP , SBAR NP -> DT JJ VBG JJ NN NP -> NNS , NNS , NNS CC NNS NP -> DT `` NNS '' NP -> VBN JJ JJ NNS NP -> NN NN SBAR NP -> JJ NNP NN NN JJ NNS NP -> NP JJS VBG NNS NP -> NP : NP : NP : NP : NP : NP : NP NP -> `` NP '' PRN PP NP -> NP NNP NNP NNPS NN NP -> PRP$ UCP NN NP -> NNP NNP NNPS CC NNP NP -> PRP$ JJ CD NN NP -> DT NNP JJ NN NN NP -> DT DT `` NN '' NP -> CONJP NP , CC NP NP -> NNP NNP NNPS NNP : NP -> PRP$ JJ CD NNS NP -> NP , PP PP , NP -> NP NP : NP -> NNP CC JJ NNS NP -> DT JJ `` NNS '' NP -> PRP$ NNP CC NNP NN NP -> NP NNS CC NNS NP -> JJ QP NP -> VBN JJ NNS NP -> NN : NP -> DT JJ , JJR NN NP -> NP CC NP , CC NP NP -> PRP CC NNS NP -> NP JJ JJ NN NN NP -> NNPS : NP -> JJ JJ NNP NNS NP -> DT JJ NNPS NP -> NNP NN , NN CC JJ NNS NP -> NP CD JJS NNS NP -> NP SBAR SBAR NP -> JJ NNP POS NP -> DT  NN NN  NN NP -> DT JJ , JJ JJ NN NN NP -> DT VBG QP NP -> CD NNP NN NNS NP -> `` NP NN '' NP -> DT NNP `` NNS '' NN NP -> NP JJ JJ VBG NP -> `` RB JJ '' NNS NP -> DT ADJP JJ NN NNS NN NP -> NNP NNP . NNP NP -> DT CD JJS JJ NNS NP -> DT NN NNS CC NNS NP -> NP  NP  NP -> DT NN CC NN NN POS NP -> DT JJ NNP NNPS NP -> DT NNP NNP ADJP NN NP -> CD NN CC CD NN NNS NP -> ADVP NN NP -> DT JJ JJ NNS NN NN NP -> JJ JJ NNS SBAR NP -> ADJP JJ JJ NN NNS NP -> DT NNP NNS CC JJ NNS NN NP -> WP RB NP -> NP JJ CC JJ NN NN NP -> ADJP JJ NN JJ NN NN NNS NP -> DT VBG NN POS NP -> CD CC JJR NNS NP -> IN DT JJ NN NP -> NN NN CC NNS NP -> NNP NNS CC NN NNS NP -> IN JJ NNS NP -> QP NNP NNP NNS NP -> NNP RB NNS NP -> NNP NNP PRN NNP NP -> DT JJS NNP NNP NN NP -> NP ADJP NN JJ NN NP -> DT NNP NNP NNP NNPS NN NP -> DT NNP NNP NNPS POS NP -> NP JJS NN NNS NP -> JJ CC NN NNS NP -> CD RB . NP -> NP JJS NP -> UCP NN NP -> NNP CC NNP NNP NN S NP -> NP VBN NNP NN NP -> NNP NN NN NN NP -> DT JJ NNP NN CC NN NP -> DT VBN NN , NN CC VBG NN NP -> NP CC RB NP NP -> NP CC NP CC NP NP -> CD JJ NN QP NP -> PRP$ IN NNS NP -> DT CD NNS RB NP -> DT NN NNS NN CC NNS NN NP -> NP SBAR , NP -> DT VBG JJ NNS NP -> CD JJ CD NP -> `` NP SBAR NP -> NP PP , PP S . NP -> NP X NP -> NP NNS NN CC NNS NN NP -> NNP CD , CD , NP -> DT '' NNS NP -> DT NAC NN VBG NN NP -> DT CD NNS NN NP -> NNP , NNP , CC NNP NP -> DT JJ NNP NNP CC NNP NNP NN NP -> NNP NNP NNP NN NP -> NP , UCP PP NP -> PRP$ PRN NN NP -> NP NNP NNP NNP CD NP -> CD NNP NNP NP -> JJR JJ NP -> DT NNP NNP NNP CD NP -> NNPS NNP POS NP -> CD NNP NNP NN NP -> JJR JJ NN NNS NP -> NNP NNS POS NP -> `` QP '' NNS NP -> NP PP '' NP -> RB DT CD NP -> DT JJS VBG NNS NP -> `` NP PP '' SBAR NP -> NP ADJP NN NNS NP -> DT JJ VBG NNS NP -> NN NN CC VBG NN NP -> NP `` NNS '' NN NP -> NP , CC NP , ADVP NP -> NNS CONJP NNS NP -> $ QP NP -> DT NNP VBG NN NP -> PRP$ JJ NN S NP -> QP DT JJ NN NP -> NP JJ , JJ NNP NP -> PRP$ JJ NNP NNP NP -> NP NAC NN NN NP -> NP : CC NP : NP -> DT NNP CC NNP NNP NNP NNP NP -> ADJP VBG NNS NP -> JJ `` NN '' NP -> NNP CD JJ NNS NN NP -> NN . NNP NP -> NP : SQ . NP -> NP , ADJP , PP NP -> ADJP NN NNS NN NP -> RB DT NN NN NP -> JJS NNPS NP -> DT `` ADJP NN NP -> DT JJ NNP NN NN NN NP -> NP , NP , CC NP , NP -> JJ NNP JJ NNS NP -> DT RB JJ NN NN NP -> NP JJ NNS NN NP -> RB QP JJ NNS NP -> DT JJ NNP NN NNS NP -> DT `` ADJP '' VBG NP -> NP ADJP VP NP -> DT JJ NNPS CC NNP NNP NN NP -> DT NN JJR NP -> NP PP '' VP NP -> ADVP NP PP NP -> DT ADJP NN SBAR NP -> DT `` NN CC NN NP -> NNP VBP NP -> PRP$ VBN NN NN NN NP -> `` NN NNS '' NP -> NP QP JJ NNS NP -> VBG NNS . NP -> IN DT NP -> PRP$ RB VBN VBG NN NP -> DT JJ NNP NNP NN NN NP -> ADJP ADJP NNS NP -> DT CD CD NNS NP -> DT NN NNP NN NP -> PRP$ CD NN NP -> DT NNP NNP ADJP NNS NP -> PRP$ NN CC JJ NN NN NP -> NP PRN VP NP -> NP NNP NNP CD NP -> NNP NN VBN NNS NP -> ADJP  NNS  NP -> NAC JJ NN NP -> JJ NNP NNP NN NNP NP -> NP PRN , NP , NP -> CD NNS QP NP -> DT JJ , JJ , JJ NN NP -> DT NN NN CC NN NP -> DT JJ JJ NN NNS NP -> DT VBN JJ NNS NP -> CD ADJP NNS NP -> CD POS NP -> DT NNPS CC NNPS NNP NP -> NP '' ADVP NP -> NP NNP NNS , NN , NNS CC NN NNS NP -> DT NNS , NNS , NNS CC NNS NP -> JJ JJ JJ NN NNS NP -> NP CC `` NP NP -> JJ JJ NNS S NP -> NP , NP , CONJP NP CC , PP , NP NP -> PRP$ JJ CC JJ NNS NP -> DT NNP CD CC CD NNS NP -> NN : IN NN . NP -> NP NNS SBAR NP -> DT NNP NNPS NNP CC NNP NNP NNP NP -> NNP NNP NNP NNP NN NP -> NNP CC NNP NNS NP -> DT NAC JJ NNS NN NP -> DT VBN NNP NNP NN NP -> PRP$ JJ NN VBG NN NP -> DT JJR NN NN SBAR NP -> DT JJS RB NP -> VBG JJ NN CC NN NNS NP -> PRP$ NNP NNP NN NN NP -> CD CD JJ NNS NP -> NP PP ADJP , PP , VP . NP -> NP , '' CC NP NP -> DT NNP NN CC NN NNS NP -> NP `` NP NP -> JJ NN '' NP -> NNS , CC RB NNS NP -> DT NN NN NNS NN NP -> $ CD QP NP -> CD NN JJ JJ JJ NN NNS NP -> NN CD NN NNS NP -> PRP$ JJS NN NN NP -> NP CD NNP NNP NNP NNP NP -> $ CD CD NP -> NN NN NNP NNP CC NNP NNPS NNP NP -> RB DT NN S NP -> DT JJR NNP NN NN NP -> DT NN NN NNP NNP NP -> DT NNP IN NNP NP -> CD JJ CC JJ NN NP -> NP JJ , ADJP , NNS NP -> IN JJ NN NP -> DT QP JJ NNS NP -> PRP$ JJ VBN NNS NP -> DT NN NNS NNS NP -> NP , PP PP PP NP -> LST VBN NN NP -> DT JJ JJ VBG NN NP -> NP `` SBAR , '' PP NP -> DT JJ ADJP NNS NN NP -> ADVP DT NP -> NP , RB S NP -> NNS NNP NP -> DT CD NNS POS NP -> DT CD NNP IN NNP NNP IN NNP NP -> NP  PP  NP -> IN NNP NP -> NP : NP : NP CC NP NP -> DT NNP JJ NNS NN NP -> DT ADJP JJ NNS NP -> NP VBG JJ NNS NP -> JJ NN NN NNP NNP NNP NP -> DT ADJP JJ CD NN NP -> NP JJS JJ NN NP -> JJ ADJP NNS NP -> DT NNP , NNP CC NNP NNS NP -> NP NNP CD NNS NP -> PRP$ NNPS NNP NNP NNS NP -> NNS , NN CC VBG NP -> NNP CC NNP . NP -> DT NNP CD NNS NN NP -> CD VBG NN NNS NP -> NP PP : PP : SBAR NP -> DT JJ NAC NN NP -> PRP$ JJ `` JJ NN '' NP -> NN VBG NNS NP -> DT `` NNP NNP NNP '' NNP NP -> NP PP , `` PP NP -> DT NAC , NN CC NNS NNS NN NP -> DT NN NNS NN NN NP -> NNP NNPS : NP -> JJ NNP NNP NNP NNP NN NP -> VBN NNS CC NNS NP -> JJ NP NP -> JJ NN CC NN NN NP -> QP PRP$ NN NN NP -> NP PP PRN , SBAR , NP -> NNS , RB NNS NP -> JJ NNS '' NP -> ADVP DT JJ NNP NN NN NP -> DT NNP POS NNP NP -> RB RB NP -> DT `` ADJP '' NN NP -> NP VBG NN NNS NP -> NP NNP NN VBG NN NN NP -> JJ NN NN NNP CC NNP NP -> CD CD NN NN NNS NP -> ADVP CD NP -> QP NNS NN NP -> JJ CD NNP NNS NP -> RB DT JJ NN CC NN NP -> NP VP , PP NP -> : NNP NNP . NP -> DT CD NNP NN NNS NP -> NP , NP NP NP -> LST JJ JJ NN . NP -> NNP NNP CD NNP NNP NNP NP -> DT NNP NNP NNP JJ NN NN NN NP -> ADJP NNP NNP CC NNPS NP -> DT NN CC RB \n",
        "3507 2877 1705 1324 1321 1242 1234  899  781  547  534  490  431  423  391  382  381  356  339  334  313  312  281  268  241  239  237  229  225  208  191  190  185  159  159  158  154  142  142  132  127  120  116  106   99   91   89   88   88   86   85   85   83   80   80   77   73   72   61   60   59   59   58   55   54   52   52   49   49   49   48   48   47   41   40   40   38   37   37   37   35   35   35   35   35   34   34   34   33   33   33   32   31   30   29   29   28   28   27   27   27   27   27   26   26   26   25   24   24   23   23   23   22   22   22   22   21   21   21   21   21   21   21   20   20   19   19   19   19   19   19   19   18   18   18   18   18   17   17   17   17   17   17   17   16   16   16   15   15   15   15   15   15   14   14   14   14   13   13   13   13   13   13   13   13   12   12   12   12   12   12   12   12   12   11   11   11   11   11   11   11   11   10   10   10   10   10   10   10   10   10   10   10   10   10   10    9    9    9    9    9    9    9    9    9    9    8    8    8    8    8    8    8    8    8    8    8    8    8    8    7    7    7    7    7    7    7    7    7    7    7    7    7    7    7    7    7    7    7    7    7    7    6    6    6    6    6    6    6    6    6    6    6    6    6    6    6    6    6    6    6    6    6    6    6    6    6    6    6    6    6    6    6    6    5    5    5    5    5    5    5    5    5    5    5    5    5    5    5    5    5    5    5    5    5    5    5    5    5    5    5    5    5    5    5    5    5    5    5    5    5    5    5    4    4    4    4    4    4    4    4    4    4    4    4    4    4    4    4    4    4    4    4    4    4    4    4    4    4    4    4    4    4    4    4    4    4    4    4    4    4    4    4    4    4    4    4    4    4    4    4    4    4    4    4    4    4    4    4    4    4    4    4    4    4    4    4    4    3    3    3    3    3    3    3    3    3    3    3    3    3    3    3    3    3    3    3    3    3    3    3    3    3    3    3    3    3    3    3    3    3    3    3    3    3    3    3    3    3    3    3    3    3    3    3    3    3    3    3    3    3    3    3    3    3    3    3    3    3    3    3    3    3    3    3    3    3    3    3    3    3    3    3    3    3    3    3    3    3    3    3    3    3    3    3    3    3    3    3    3    3    3    3    2    2    2    2    2    2    2    2    2    2    2    2    2    2    2    2    2    2    2    2    2    2    2    2    2    2    2    2    2    2    2    2    2    2    2    2    2    2    2    2    2    2    2    2    2    2    2    2    2    2    2    2    2    2    2    2    2    2    2    2    2    2    2    2    2    2    2    2    2    2    2    2    2    2    2    2    2    2    2    2    2    2    2    2    2    2    2    2    2    2    2    2    2    2    2    2    2    2    2    2    2    2    2    2    2    2    2    2    2    2    2    2    2    2    2    2    2    2    2    2    2    2    2    2    2    2    2    2    2    2    2    2    2    2    2    2    2    2    2    2    2    2    2    2    2    2    2    2    2    2    2    2    2    2    2    2    2    2    2    2    2    2    2    2    2    2    2    2    2    2    2    2    2    2    2    2    2    2    2    2    2    2    2    2    2    2    2    2    2    2    2    2    2    2    2    2    2    2    2    2    2    2    2    2    2    2    2    2    1    1    1    1    1    1    1    1    1    1    1    1    1    1    1    1    1    1    1    1    1    1    1    1    1    1    1    1    1    1    1    1    1    1    1    1    1    1    1    1    1    1    1    1    1    1    1    1    1    1    1    1    1    1    1    1    1    1    1    1    1    1    1    1    1    1    1    1    1    1    1    1    1    1    1    1    1    1    1    1    1    1    1    1    1    1    1    1    1    1    1    1    1    1    1    1    1    1    1    1    1    1    1    1    1    1    1    1    1    1    1    1    1    1    1    1    1    1    1    1    1    1    1    1    1    1    1    1    1    1    1    1    1    1    1    1    1    1    1    1    1    1    1    1    1    1    1    1    1    1    1    1    1    1    1    1    1    1    1    1    1    1    1    1    1    1    1    1    1    1    1    1    1    1    1    1    1    1    1    1    1    1    1    1    1    1    1    1    1    1    1    1    1    1    1    1    1    1    1    1    1    1    1    1    1    1    1    1    1    1    1    1    1    1    1    1    1    1    1    1    1    1    1    1    1    1    1    1    1    1    1    1    1    1    1    1    1    1    1    1    1    1    1    1    1    1    1    1    1    1    1    1    1    1    1    1    1    1    1    1    1    1    1    1    1    1    1    1    1    1    1    1    1    1    1    1    1    1    1    1    1    1    1    1    1    1    1    1    1    1    1    1    1    1    1    1    1    1    1    1    1    1    1    1    1    1    1    1    1    1    1    1    1    1    1    1    1    1    1    1    1    1    1    1    1    1    1    1    1    1    1    1    1    1    1    1    1    1    1    1    1    1    1    1    1    1    1    1    1    1    1    1    1    1    1    1    1    1    1    1    1    1    1    1    1    1    1    1    1    1    1    1    1    1    1    1    1    1    1    1    1    1    1    1    1    1    1    1    1    1    1    1    1    1    1    1    1    1    1    1    1    1    1    1    1    1    1    1    1    1    1    1    1    1    1    1    1    1    1    1    1    1    1    1    1    1    1    1    1    1    1    1    1    1    1    1    1    1    1    1    1    1    1    1    1    1    1    1    1    1    1    1    1    1    1    1    1    1    1    1    1    1    1    1    1    1    1    1    1    1    1    1    1    1    1    1    1    1    1    1    1    1    1    1    1    1    1    1    1    1    1    1    1    1    1    1    1    1    1    1    1    1    1    1    1    1    1    1    1    1    1    1    1    1    1    1    1    1    1    1    1    1    1    1    1    1    1    1    1    1    1    1    1    1    1    1    1    1    1    1    1    1    1    1    1    1    1    1    1    1    1    1    1    1    1    1    1    1    1    1    1    1    1    1    1    1    1    1    1    1    1    1    1    1    1    1    1    1    1    1    1    1    1    1    1    1    1    1    1    1    1    1    1    1    1    1    1    1    1    1    1    1    1    1    1    1    1    1    1    1    1    1    1    1    1    1    1    1    1    1    1    1    1    1    1    1    1    1    1    1    1    1    1    1    1    1    1    1    1    1    1    1    1    1    1    1    1    1    1    1    1    1    1    1    1    1    1    1    1    1    1    1    1    1    1    1    1    1    1    1    1    1    1    1    1    1    1    1    1    1    1    1    1    1    1    1    1    1    1    1    1    1    1    1    1    1    1    1    1    1    1    1    1    1    1    1    1    1    1    1    1    1    1    1    1    1    1    1    1    1    1    1    1    1    1    1    1    1    1    1    1    1    1    1    1    1    1    1    1    1    1    1    1    1    1    1    1    1    1    1    1    1    1    1    1    1    1    1    1    1    1    1    1    1    1    1    1    1    1    1    1    1    1    1    1    1    1    1    1    1    1    1    1    1    1    1    1    1    1    1    1    1    1    1    1    1    1    1    1    1    1    1    1    1    1    1    1    1    1    1    1    1    1    1    1    1    1    1    1    1    1    1    1    1    1    1    1    1    1    1    1    1    1    1    1    1    1    1    1    1    1    1    1    1    1    1    1    1    1    1    1    1    1    1    1    1    1    1    1    1    1    1    1    1    1    1    1    1    1    1    1    1    1    1    1    1    1    1    1    1    1    1    1    1    1    1    1    1    1    1    1    1    1    1    1    1    1    1    1    1    1    1    1    1    1    1    1    1    1    1    1    1    1    1    1    1    1    1    1    1    1    1    1    1    1    1    1    1    1    1    1 \n",
        "None\n"
       ]
      }
     ],
     "prompt_number": 34
    },
    {
     "cell_type": "code",
     "collapsed": false,
     "input": [
      "# only LHS = NP below S\n",
      "nps_below_s = map(lambda x: x[1], filter(lambda prod: prod[0] == 'S' and prod[1].lhs().symbol() == 'NP', list(prods)))\n",
      "nps_below_s_freq = nltk.FreqDist(nps_below_s)\n",
      "# print len(set(nps_below_s))\n",
      "# print nps_below_s[:10]\n",
      "\n",
      "# only LHS = NP below VP\n",
      "nps_below_vp = map(lambda x: x[1], filter(lambda prod: prod[0] == 'VP' and prod[1].lhs().symbol() == 'NP', list(prods)))\n",
      "\n",
      "nps_below_s_dist = nltk.MLEProbDist(nps_below_s_freq)\n",
      "nps_below_vp_dist = nltk.MLEProbDist(nps_below_vp_freq)\n",
      "\n",
      "samples = set(nps_below_s_dist.samples() + nps_below_vp_dist.samples())\n",
      "rhs_probs = [(nps_below_s_dist.prob(rhs), nps_below_vp_dist.prob(rhs)) for rhs in samples]\n",
      "\n",
      "\n",
      "print sum([x[0] != 0 and x[1] != 0 for x in rhs_probs])\n",
      "\n",
      "\n",
      "print kl_divergence(rhs_probs)\n"
     ],
     "language": "python",
     "metadata": {},
     "outputs": [
      {
       "output_type": "stream",
       "stream": "stdout",
       "text": [
        "0\n"
       ]
      },
      {
       "ename": "ValueError",
       "evalue": "math domain error",
       "output_type": "pyerr",
       "traceback": [
        "\u001b[1;31m---------------------------------------------------------------------------\u001b[0m\n\u001b[1;31mValueError\u001b[0m                                Traceback (most recent call last)",
        "\u001b[1;32m<ipython-input-57-d97ac98ca15d>\u001b[0m in \u001b[0;36m<module>\u001b[1;34m()\u001b[0m\n\u001b[0;32m     18\u001b[0m \u001b[1;33m\u001b[0m\u001b[0m\n\u001b[0;32m     19\u001b[0m \u001b[1;33m\u001b[0m\u001b[0m\n\u001b[1;32m---> 20\u001b[1;33m \u001b[1;32mprint\u001b[0m \u001b[0mkl_divergence\u001b[0m\u001b[1;33m(\u001b[0m\u001b[0mrhs_probs\u001b[0m\u001b[1;33m)\u001b[0m\u001b[1;33m\u001b[0m\u001b[0m\n\u001b[0m",
        "\u001b[1;32m<ipython-input-47-4714b58b1e83>\u001b[0m in \u001b[0;36mkl_divergence\u001b[1;34m(probs_tuples)\u001b[0m\n\u001b[0;32m      4\u001b[0m     \u001b[0msmooth_probabilities\u001b[0m\u001b[1;33m(\u001b[0m\u001b[0mprobs_tuples\u001b[0m\u001b[1;33m)\u001b[0m\u001b[1;33m\u001b[0m\u001b[0m\n\u001b[0;32m      5\u001b[0m     \u001b[1;32mfor\u001b[0m \u001b[0mprobx\u001b[0m\u001b[1;33m,\u001b[0m \u001b[0mproby\u001b[0m \u001b[1;32min\u001b[0m \u001b[0mprobs_tuples\u001b[0m\u001b[1;33m:\u001b[0m\u001b[1;33m\u001b[0m\u001b[0m\n\u001b[1;32m----> 6\u001b[1;33m         \u001b[0mkl\u001b[0m \u001b[1;33m+=\u001b[0m \u001b[0mprobx\u001b[0m \u001b[1;33m*\u001b[0m \u001b[0mmath\u001b[0m\u001b[1;33m.\u001b[0m\u001b[0mlog\u001b[0m\u001b[1;33m(\u001b[0m\u001b[0mprobx\u001b[0m \u001b[1;33m/\u001b[0m \u001b[0mproby\u001b[0m\u001b[1;33m)\u001b[0m\u001b[1;33m\u001b[0m\u001b[0m\n\u001b[0m\u001b[0;32m      7\u001b[0m \u001b[1;33m\u001b[0m\u001b[0m\n\u001b[0;32m      8\u001b[0m     \u001b[1;32mreturn\u001b[0m \u001b[0mkl\u001b[0m\u001b[1;33m\u001b[0m\u001b[0m\n",
        "\u001b[1;31mValueError\u001b[0m: math domain error"
       ]
      }
     ],
     "prompt_number": 57
    },
    {
     "cell_type": "code",
     "collapsed": false,
     "input": [],
     "language": "python",
     "metadata": {},
     "outputs": []
    }
   ],
   "metadata": {}
  }
 ]
}