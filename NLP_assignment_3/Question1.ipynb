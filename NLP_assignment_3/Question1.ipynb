{
 "metadata": {
  "name": "",
  "signature": "sha256:92545ede475a615588a59bfa0316c0829389f7a1b3705c4370833050464cb53c"
 },
 "nbformat": 3,
 "nbformat_minor": 0,
 "worksheets": [
  {
   "cells": [
    {
     "cell_type": "heading",
     "level": 1,
     "metadata": {},
     "source": [
      "Question 1.1: Random PCFG Generation"
     ]
    },
    {
     "cell_type": "markdown",
     "metadata": {},
     "source": [
      "We define a recursive method <i>sample_tree(grammar, current_symbol)</i>, then simple call it with the start symbol."
     ]
    },
    {
     "cell_type": "markdown",
     "metadata": {},
     "source": [
      "<pre>\n",
      "import nltk\n",
      "from nltk import PCFG\n",
      "from nltk import Tree, DictionaryProbDist\n",
      "from nltk.grammar import Nonterminal\n",
      "\n",
      "def sample_tree(grammar, current_symbol):\n",
      "    if not isinstance(current_symbol, Nonterminal):\n",
      "        return current_symbol\n",
      "    # sample a RHS, then recursively generate trees for each of the symbols in RHS.\n",
      "    possible_prods = grammar.productions(current_symbol)\n",
      "    prods_dist = DictionaryProbDist(dict(((production, production.prob()) for production in possible_prods)))\n",
      "\n",
      "    # sample a production:\n",
      "    prod = prods_dist.generate()\n",
      "\n",
      "    # now we need to return a tree whose root is LHS, and childs are recursive calls to self.\n",
      "    return Tree(prod.lhs(), [sample_tree(grammar, symbol) for symbol in prod.rhs()])\n",
      "\n",
      "\n",
      "def pcfg_generate(grammar):\n",
      "    \"\"\"\n",
      "    return a tree sampled from the language described by the PCFG grammar\n",
      "    :type grammar: PCFG\n",
      "    :param grammar: grammar to sample from, represented as PCFG.\n",
      "    \"\"\"\n",
      "    start_symbol = grammar.start()\n",
      "    return sample_tree(grammar, start_symbol)\n",
      "    </pre>"
     ]
    },
    {
     "cell_type": "code",
     "collapsed": false,
     "input": [
      "from question1 import *\n",
      "print pcfg_generate(nltk.grammar.toy_pcfg2)\n",
      "print pcfg_generate(nltk.grammar.toy_pcfg2)\n",
      "print pcfg_generate(nltk.grammar.toy_pcfg2)"
     ],
     "language": "python",
     "metadata": {},
     "outputs": [
      {
       "output_type": "stream",
       "stream": "stdout",
       "text": [
        "(S\n",
        "  (NP (Name Jack))\n",
        "  (VP\n",
        "    (V ran)\n",
        "    (NP (NP (Name Bob)) (PP (P with) (NP (Det the) (N hill))))))\n",
        "(S\n",
        "  (NP (NP (Det a) (N table)) (PP (P with) (NP (Det a) (N hill))))\n",
        "  (VP (V ate)))\n",
        "(S\n",
        "  (NP (Det a) (N hill))\n",
        "  (VP\n",
        "    (V ate)\n",
        "    (NP (NP (Name Bob)) (PP (P under) (NP (Det a) (N hill))))))\n"
       ]
      }
     ],
     "prompt_number": 1
    },
    {
     "cell_type": "heading",
     "level": 2,
     "metadata": {},
     "source": [
      "Generate random trees to file"
     ]
    },
    {
     "cell_type": "code",
     "collapsed": false,
     "input": [
      "sample_corpus(1000, lambda: pcfg_generate(nltk.grammar.toy_pcfg2))"
     ],
     "language": "python",
     "metadata": {},
     "outputs": [],
     "prompt_number": 2
    },
    {
     "cell_type": "heading",
     "level": 2,
     "metadata": {},
     "source": [
      "Compute the frequency distribution of each non-terminal and pre-terminal "
     ]
    },
    {
     "cell_type": "code",
     "collapsed": false,
     "input": [
      "observed_freqdist = extract_freqdist(extract_trees())\n",
      "\n",
      "print observed_freqdist.items()"
     ],
     "language": "python",
     "metadata": {},
     "outputs": [
      {
       "output_type": "stream",
       "stream": "stdout",
       "text": [
        "[(PP, FreqDist({(P, NP): 1375})), (Name, FreqDist({('Jack',): 595, ('Bob',): 586})), (Det, FreqDist({('the',): 755, ('a',): 551, ('my',): 495})), (N, FreqDist({('hill',): 910, ('telescope',): 264, ('table',): 239, ('boy',): 198, ('cookie',): 190})), (VP, FreqDist({(V, NP): 607, (V,): 393, (VP, PP): 9})), (P, FreqDist({('with',): 846, ('under',): 529})), (S, FreqDist({(NP, VP): 1000})), (V, FreqDist({('ate',): 537, ('ran',): 263, ('saw',): 200})), (NP, FreqDist({(Det, N): 1801, (NP, PP): 1366, (Name,): 1181}))]\n"
       ]
      }
     ],
     "prompt_number": 3
    },
    {
     "cell_type": "markdown",
     "metadata": {},
     "source": [
      "MLEProbEst will be created right before computing the kl-divergence in the following section"
     ]
    },
    {
     "cell_type": "heading",
     "level": 2,
     "metadata": {},
     "source": [
      "For each distribution, compute the KL-divergence"
     ]
    },
    {
     "cell_type": "code",
     "collapsed": false,
     "input": [
      "observed_freqdist = extract_freqdist(extract_trees())\n",
      "test_grammar = nltk.grammar.toy_pcfg2\n",
      "divs = validate_divergence(test_grammar, observed_freqdist)\n",
      "\n",
      "print([d for d in divs])"
     ],
     "language": "python",
     "metadata": {},
     "outputs": [
      {
       "output_type": "stream",
       "stream": "stdout",
       "text": [
        "[(PP, 0.0), (Name, 0.0005246890488202136), (Det, 0.0001771053473808553), (N, 0.0011221965145439836), (VP, 0.0003127681282508732), (P, 5.852773229319142e-05), (S, 0.0), (V, 0.0014712290358479228), (NP, 0.00017616070731387486)]\n"
       ]
      }
     ],
     "prompt_number": 4
    },
    {
     "cell_type": "markdown",
     "metadata": {},
     "source": [
      "We can see the divergence is low, ie. the distributions are very similar, which means we're OK."
     ]
    },
    {
     "cell_type": "heading",
     "level": 1,
     "metadata": {},
     "source": [
      "Question 1.2: Learn a PCFG from a Treebank"
     ]
    },
    {
     "cell_type": "code",
     "collapsed": false,
     "input": [],
     "language": "python",
     "metadata": {},
     "outputs": []
    }
   ],
   "metadata": {}
  }
 ]
}