{
 "metadata": {
  "name": "",
  "signature": "sha256:c718ca392e0b190762cb57b0ffa59fd366fdcc64b6bd9816b601150a6df31686"
 },
 "nbformat": 3,
 "nbformat_minor": 0,
 "worksheets": [
  {
   "cells": [
    {
     "cell_type": "heading",
     "level": 1,
     "metadata": {},
     "source": [
      "Question 1.1: Random PCFG Generation"
     ]
    },
    {
     "cell_type": "markdown",
     "metadata": {},
     "source": [
      "We define a recursive method <i>sample_tree(grammar, current_symbol)</i>, then simply call it with the start symbol."
     ]
    },
    {
     "cell_type": "code",
     "collapsed": false,
     "input": [
      "import nltk\n",
      "from nltk import PCFG\n",
      "from nltk import Tree, DictionaryProbDist\n",
      "from nltk.grammar import Nonterminal, Production\n",
      "\n",
      "def sample_tree(grammar, current_symbol):\n",
      "    if not isinstance(current_symbol, Nonterminal):\n",
      "        return current_symbol\n",
      "    # sample a RHS, then recursively generate trees for each of the symbols in RHS.\n",
      "    possible_prods = grammar.productions(current_symbol)\n",
      "    prods_dist = DictionaryProbDist(dict(((production, production.prob()) for production in possible_prods)))\n",
      "\n",
      "    # sample a production:\n",
      "    prod = prods_dist.generate()\n",
      "\n",
      "    # now we need to return a tree whose root is LHS, and childs are recursive calls to self.\n",
      "    return Tree(prod.lhs(), [sample_tree(grammar, symbol) for symbol in prod.rhs()])\n",
      "\n",
      "\n",
      "def pcfg_generate(grammar):\n",
      "    \"\"\"\n",
      "    return a tree sampled from the language described by the PCFG grammar\n",
      "    :type grammar: PCFG\n",
      "    :param grammar: grammar to sample from, represented as PCFG.\n",
      "    \"\"\"\n",
      "    start_symbol = grammar.start()\n",
      "    return sample_tree(grammar, start_symbol)\n",
      "\n",
      "\n",
      "def sample_corpus(n, generator, filename=\"./out/toy_pcfg2.gen\"):\n",
      "    with open(filename, \"a\") as fh:\n",
      "        fh.truncate(0)\n",
      "        for i in range(n):\n",
      "            fh.write(str(generator()).replace(\"\\n\", \"\"))\n",
      "            fh.write(\"\\n\")"
     ],
     "language": "python",
     "metadata": {},
     "outputs": [],
     "prompt_number": 47
    },
    {
     "cell_type": "code",
     "collapsed": false,
     "input": [
      "print pcfg_generate(nltk.grammar.toy_pcfg2)\n",
      "print pcfg_generate(nltk.grammar.toy_pcfg2)\n",
      "print pcfg_generate(nltk.grammar.toy_pcfg2)"
     ],
     "language": "python",
     "metadata": {},
     "outputs": [
      {
       "output_type": "stream",
       "stream": "stdout",
       "text": [
        "(S (NP (Det my) (N boy)) (VP (V saw)))\n",
        "(S\n",
        "  (NP\n",
        "    (NP (Det the) (N cookie))\n",
        "    (PP (P with) (NP (Det the) (N hill))))\n",
        "  (VP\n",
        "    (V ran)\n",
        "    (NP (NP (Det a) (N hill)) (PP (P with) (NP (Name Bob))))))\n",
        "(S\n",
        "  (NP (NP (Det the) (N telescope)) (PP (P with) (NP (Name Jack))))\n",
        "  (VP (V saw) (NP (Name Bob))))\n"
       ]
      }
     ],
     "prompt_number": 48
    },
    {
     "cell_type": "heading",
     "level": 2,
     "metadata": {},
     "source": [
      "Generate random trees to file"
     ]
    },
    {
     "cell_type": "code",
     "collapsed": false,
     "input": [
      "def extract_trees(filename=\"./out/toy_pcfg2.gen\"):\n",
      "    trees = []\n",
      "    with open(filename) as fh:\n",
      "        for line in fh:\n",
      "            trees.append(Tree.fromstring(line))\n",
      "\n",
      "    return trees\n",
      "\n",
      "\n",
      "def extract_freqdist(trees):\n",
      "    \"\"\"\n",
      "    extracts a ConditionalFreqDist from the trees, where the Cond is any Nonterminal encountered.\n",
      "    :param trees:\n",
      "    :return:\n",
      "    \"\"\"\n",
      "    freqdist = nltk.ConditionalFreqDist()\n",
      "    for t in trees:\n",
      "        _extract_freqdist(t, freqdist)\n",
      "\n",
      "    return freqdist"
     ],
     "language": "python",
     "metadata": {},
     "outputs": [],
     "prompt_number": 49
    },
    {
     "cell_type": "code",
     "collapsed": false,
     "input": [
      "sample_corpus(1000, lambda: pcfg_generate(nltk.grammar.toy_pcfg2))"
     ],
     "language": "python",
     "metadata": {},
     "outputs": [],
     "prompt_number": 50
    },
    {
     "cell_type": "heading",
     "level": 2,
     "metadata": {},
     "source": [
      "Compute the frequency distribution of each non-terminal and pre-terminal "
     ]
    },
    {
     "cell_type": "code",
     "collapsed": false,
     "input": [
      "def _extract_freqdist(tree, freqdist):\n",
      "    for production in tree.productions():\n",
      "        freqdist[production.lhs()][production.rhs()] += 1"
     ],
     "language": "python",
     "metadata": {},
     "outputs": [],
     "prompt_number": 51
    },
    {
     "cell_type": "code",
     "collapsed": false,
     "input": [
      "observed_freqdist = extract_freqdist(extract_trees())\n",
      "\n",
      "print observed_freqdist.items()"
     ],
     "language": "python",
     "metadata": {},
     "outputs": [
      {
       "output_type": "stream",
       "stream": "stdout",
       "text": [
        "[(PP, FreqDist({(P, NP): 1414})), (Name, FreqDist({('Jack',): 652, ('Bob',): 609})), (Det, FreqDist({('the',): 712, ('a',): 564, ('my',): 460})), (N, FreqDist({('hill',): 877, ('telescope',): 255, ('table',): 217, ('cookie',): 206, ('boy',): 181})), (VP, FreqDist({(V, NP): 583, (V,): 417, (VP, PP): 9})), (P, FreqDist({('with',): 891, ('under',): 523})), (S, FreqDist({(NP, VP): 1000})), (V, FreqDist({('ate',): 502, ('ran',): 284, ('saw',): 214})), (NP, FreqDist({(Det, N): 1736, (NP, PP): 1405, (Name,): 1261}))]\n"
       ]
      }
     ],
     "prompt_number": 52
    },
    {
     "cell_type": "markdown",
     "metadata": {},
     "source": [
      "MLEProbEst will be created right before computing the kl-divergence in the following section"
     ]
    },
    {
     "cell_type": "heading",
     "level": 2,
     "metadata": {},
     "source": [
      "For each distribution, compute the KL-divergence"
     ]
    },
    {
     "cell_type": "code",
     "collapsed": false,
     "input": [
      "import math\n",
      "def kl_divergence(probs_tuples):\n",
      "    kl = 0\n",
      "    smooth_probabilities(probs_tuples)\n",
      "    for probx, proby in probs_tuples:\n",
      "        try:\n",
      "            kl += probx * math.log(probx / proby, 2)\n",
      "        except ZeroDivisionError:\n",
      "            pass # if it happened it was because a very low probabilty, since we smooth zeros out.\n",
      "        except ValueError:\n",
      "            pass # ditto\n",
      "\n",
      "    return kl\n",
      "\n",
      "\n",
      "def smooth_probability(xs, epsilon=0.001):\n",
      "    zero_count = xs.count(0)\n",
      "    nonzero_count = len(xs) - zero_count\n",
      "    return map(lambda x: epsilon if x == 0 else x + ((zero_count * epsilon) / nonzero_count), xs)\n",
      "\n",
      "\n",
      "def smooth_probabilities(prob_tuples, epsilon=0.001):\n",
      "    xs, ys = map(list, zip(*prob_tuples))\n",
      "    xs = smooth_probability(xs, epsilon)\n",
      "    ys = smooth_probability(ys, epsilon)\n",
      "    return zip(xs, ys)\n",
      "\n",
      "\n",
      "def validate_divergence(grammar, observed_cond_freqdist):\n",
      "    conds = set([prod.lhs() for prod in grammar.productions()])\n",
      "\n",
      "    for cond in conds:\n",
      "        empirical_probdist = nltk.MLEProbDist(observed_cond_freqdist[cond])\n",
      "\n",
      "        test_probs = grammar.productions(cond)\n",
      "        test_probs = map(lambda prod: (prod.rhs(), prod.prob()), test_probs)\n",
      "        # print test_probs\n",
      "        probs_tuples = [(empirical_probdist.prob(nonterminal), prob ) for nonterminal, prob in test_probs]\n",
      "        yield cond, kl_divergence(probs_tuples)"
     ],
     "language": "python",
     "metadata": {},
     "outputs": [],
     "prompt_number": 53
    },
    {
     "cell_type": "code",
     "collapsed": false,
     "input": [
      "observed_freqdist = extract_freqdist(extract_trees())\n",
      "test_grammar = nltk.grammar.toy_pcfg2\n",
      "divs = validate_divergence(test_grammar, observed_freqdist)\n",
      "\n",
      "print([d for d in divs])"
     ],
     "language": "python",
     "metadata": {},
     "outputs": [
      {
       "output_type": "stream",
       "stream": "stdout",
       "text": [
        "[(PP, 0.0), (Name, 2.5147207363608592e-05), (Det, 0.0010996454308423928), (N, 0.000650306949857204), (VP, 0.0005852355933540264), (P, 0.00123639656341306), (S, 0.0), (V, 0.00018663821639511736), (NP, 0.0007362079748200016)]\n"
       ]
      }
     ],
     "prompt_number": 54
    },
    {
     "cell_type": "markdown",
     "metadata": {},
     "source": [
      "We can see the divergence is low, ie. the distributions are very similar, which means we're OK."
     ]
    },
    {
     "cell_type": "heading",
     "level": 1,
     "metadata": {},
     "source": [
      "Question 1.2: Learn a PCFG from a Treebank"
     ]
    },
    {
     "cell_type": "heading",
     "level": 2,
     "metadata": {},
     "source": [
      "How many productions are learned from the trees? How many interior nodes were in the treebank?"
     ]
    },
    {
     "cell_type": "code",
     "collapsed": false,
     "input": [
      "from question1 import tree_to_production, tree_to_productions,simplify_functional_tag  # as defined in the assignment.\n",
      "\n",
      "def leads_to_something(tree):\n",
      "    if isinstance(tree, Tree):\n",
      "        return tree.label() != '-NONE-' and any((leads_to_something(c)) for c in tree)\n",
      "\n",
      "    return tree != '-NONE-'\n",
      "\n",
      "def filter_tree(tree):\n",
      "    if isinstance(tree, Tree):\n",
      "        return Tree(simplify_functional_tag(tree.label()), map(filter_tree, filter(leads_to_something, list(tree))))\n",
      "    else:\n",
      "        return tree  # teehee"
     ],
     "language": "python",
     "metadata": {},
     "outputs": [],
     "prompt_number": 55
    },
    {
     "cell_type": "code",
     "collapsed": false,
     "input": [
      "from nltk.corpus import LazyCorpusLoader\n",
      "from nltk.corpus import BracketParseCorpusReader\n",
      "\n",
      "treebank = LazyCorpusLoader('treebank/combined', BracketParseCorpusReader, r'wsj_.*\\.mrg')\n",
      "sents = treebank.parsed_sents()\n",
      "\n",
      "s = sents[490]\n",
      "print s\n",
      "print filter_tree(s)"
     ],
     "language": "python",
     "metadata": {},
     "outputs": [
      {
       "output_type": "stream",
       "stream": "stdout",
       "text": [
        "(S\n",
        "  (S-TPC-2\n",
        "    (S\n",
        "      (SBAR-TMP\n",
        "        (RB Once)\n",
        "        (S\n",
        "          (NP-SBJ-63 (DT the) (NN disease))\n",
        "          (VP (VBD was) (VP (VBN confirmed) (NP (-NONE- *-63))))))\n",
        "      (, ,)\n",
        "      (NP-SBJ-64\n",
        "        (DT all)\n",
        "        (NP (DT the) (NN man) (POS 's))\n",
        "        (NNS associates)\n",
        "        (CC and)\n",
        "        (NN family))\n",
        "      (VP (VBD were) (VP (VBN tested) (NP (-NONE- *-64)))))\n",
        "    (, ,)\n",
        "    (CC but)\n",
        "    (S\n",
        "      (NP-SBJ-1 (NN none))\n",
        "      (VP\n",
        "        (VBP have)\n",
        "        (ADVP-TMP (RB so) (RB far))\n",
        "        (VP\n",
        "          (VBN been)\n",
        "          (VP\n",
        "            (VBN found)\n",
        "            (S\n",
        "              (NP-SBJ (-NONE- *-1))\n",
        "              (VP (TO to) (VP (VB have) (NP (NNP AIDS))))))))))\n",
        "  (, ,)\n",
        "  (NP-SBJ (DT the) (NN newspaper))\n",
        "  (VP (VBD said) (SBAR (-NONE- 0) (S (-NONE- *T*-2))))\n",
        "  (. .))\n",
        "(S\n",
        "  (S\n",
        "    (S\n",
        "      (SBAR\n",
        "        (RB Once)\n",
        "        (S\n",
        "          (NP (DT the) (NN disease))\n",
        "          (VP (VBD was) (VP (VBN confirmed)))))\n",
        "      (, ,)\n",
        "      (NP\n",
        "        (DT all)\n",
        "        (NP (DT the) (NN man) (POS 's))\n",
        "        (NNS associates)\n",
        "        (CC and)\n",
        "        (NN family))\n",
        "      (VP (VBD were) (VP (VBN tested))))\n",
        "    (, ,)\n",
        "    (CC but)\n",
        "    (S\n",
        "      (NP (NN none))\n",
        "      (VP\n",
        "        (VBP have)\n",
        "        (ADVP (RB so) (RB far))\n",
        "        (VP\n",
        "          (VBN been)\n",
        "          (VP\n",
        "            (VBN found)\n",
        "            (S (VP (TO to) (VP (VB have) (NP (NNP AIDS))))))))))\n",
        "  (, ,)\n",
        "  (NP (DT the) (NN newspaper))\n",
        "  (VP (VBD said))\n",
        "  (. .))\n"
       ]
      }
     ],
     "prompt_number": 56
    },
    {
     "cell_type": "code",
     "collapsed": false,
     "input": [
      "t = 0\n",
      "o = 0\n",
      "for s in sents[:200]:\n",
      "    l = list(tree_to_productions(filter_tree(s)))\n",
      "    # print l\n",
      "    t += len(l)\n",
      "    o += len(s.productions())\n",
      "\n",
      "print \"productions = \", t, \"out of\", o"
     ],
     "language": "python",
     "metadata": {},
     "outputs": [
      {
       "output_type": "stream",
       "stream": "stdout",
       "text": [
        "productions =  8443 out of 9020\n"
       ]
      }
     ],
     "prompt_number": 57
    },
    {
     "cell_type": "markdown",
     "metadata": {},
     "source": [
      "in the filtered treebank we have 8443 productions (out of 9020 originally).<br/>\n",
      "each production corresponds to an interal node in the a tree.<br/>\n",
      "number of rules (unique productions) below:"
     ]
    },
    {
     "cell_type": "code",
     "collapsed": false,
     "input": [
      "treebank = LazyCorpusLoader('treebank/combined', BracketParseCorpusReader, r'wsj_.*\\.mrg')\n",
      "sents = treebank.parsed_sents()[:200]\n",
      "\n",
      "prods = sum([list(tree_to_productions(filter_tree(t))) for t in sents], list())\n",
      "freq = nltk.FreqDist(prods) # number of times each rule appears\n",
      "values_frequency = nltk.FreqDist(freq.values()) # number of times each rule-frequency appears\n",
      "\n",
      "print \"Total rules = \", len(freq.keys())\n",
      "\n",
      "import pylab\n",
      "%matplotlib inline\n",
      "pylab.xlabel(\"Rule frequency\")\n",
      "pylab.ylabel(\"number of rules\")\n",
      "pylab.plot(values_frequency.keys(), values_frequency.values(), '-bo', )"
     ],
     "language": "python",
     "metadata": {},
     "outputs": [
      {
       "output_type": "stream",
       "stream": "stdout",
       "text": [
        "Total rules =  2271\n"
       ]
      },
      {
       "metadata": {},
       "output_type": "pyout",
       "prompt_number": 58,
       "text": [
        "[<matplotlib.lines.Line2D at 0x3f52f10>]"
       ]
      },
      {
       "metadata": {},
       "output_type": "display_data",
       "png": "[encoded data removed]",
       "text": [
        "<matplotlib.figure.Figure at 0x42eb610>"
       ]
      }
     ],
     "prompt_number": 58
    },
    {
     "cell_type": "markdown",
     "metadata": {},
     "source": [
      "not very readable, but we understand it's a long tail, most rules appear a small amount of times, and a few appear a lot."
     ]
    },
    {
     "cell_type": "code",
     "collapsed": false,
     "input": [
      "pylab.xlabel(\"log Rule frequency\")\n",
      "pylab.ylabel(\"log number of rules\")\n",
      "pylab.plot([math.log(x,2) for x in values_frequency.keys()], [math.log(x,2) for x in values_frequency.values()], '-bo')"
     ],
     "language": "python",
     "metadata": {},
     "outputs": [
      {
       "metadata": {},
       "output_type": "pyout",
       "prompt_number": 59,
       "text": [
        "[<matplotlib.lines.Line2D at 0x3a78450>]"
       ]
      },
      {
       "metadata": {},
       "output_type": "display_data",
       "png": "[encoded data removed]",
       "text": [
        "<matplotlib.figure.Figure at 0x3d5df50>"
       ]
      }
     ],
     "prompt_number": 59
    },
    {
     "cell_type": "heading",
     "level": 2,
     "metadata": {},
     "source": [
      "Comparison of two induced pcfg's (one with 200 trees the other with 400)"
     ]
    },
    {
     "cell_type": "code",
     "collapsed": false,
     "input": [
      "from question1 import get_productions, pcfg_validate_divergence\n",
      "from nltk.grammar import induce_pcfg\n",
      "\n",
      "treebank = LazyCorpusLoader('treebank/combined', BracketParseCorpusReader, r'wsj_.*\\.mrg')\n",
      "sents = treebank.parsed_sents()\n",
      "\n",
      "pcfg_200 = induce_pcfg(Nonterminal('S'), get_productions(sents, 200))\n",
      "pcfg_400 = induce_pcfg(Nonterminal('S'), get_productions(sents, 400))\n",
      "\n",
      "print 'Number of rules in pcfg_200: ',  len(pcfg_200.productions())\n",
      "print 'Number of rules in pcfg_400: ', len(pcfg_400.productions())\n",
      "print '*'*100\n",
      "print\n",
      "\n",
      "for kl in pcfg_validate_divergence(pcfg_200, pcfg_400):\n",
      "    print kl"
     ],
     "language": "python",
     "metadata": {},
     "outputs": [
      {
       "output_type": "stream",
       "stream": "stdout",
       "text": [
        "Number of rules in pcfg_200:  2271\n",
        "Number of rules in pcfg_400:  3711\n",
        "****************************************************************************************************\n",
        "\n",
        "(, -0.02185027760013622)\n",
        "(TO, 0.0)\n",
        "(PRP$, 0.0674917388944448)\n",
        "(VBG, 0.5633834197956236)\n",
        "(SBAR, 0.037076002720459134)\n",
        "(VBD, 0.1991487710499085)\n",
        "(SINV, 0.21101008211396013)\n",
        "(ADJP, 0.25878591124841277)\n",
        "(WHADVP, 0.0)\n",
        "(``, 0.019038408172372474)\n",
        "(VBN, 0.5599225244810067)\n",
        "(CONJP, 0.40106193005937496)\n",
        "('', 0.019922271576417547)\n",
        "(VBP, 0.3350117442117881)\n",
        "(WDT, 0.10035813203618336)\n",
        "(JJ, 0.6893163174674081)\n",
        "(WP, 0.07130369095859773)\n",
        "(VBZ, 0.2080578732737202)\n",
        "(DT, 0.039643913700574525)\n",
        "(PP, 0.030362020335012774)\n",
        "(RP, 0.18035453470612658)\n",
        "($, 0.02146440535603479)\n",
        "(NN, 0.6788123395157069)\n",
        "(UCP, 0.21906893283244902)\n",
        "(PRN, 0.6360419225571594)\n",
        "(RRC, 0.0)\n",
        "(,, 0.0)\n",
        "(., 0.006488746755271961)\n",
        "(NX, 0.6240008267668797)\n",
        "(WHPP, 0.0)\n",
        "(PRP, 0.14017636840446795)\n",
        "(RB, 0.3332077325940961)\n",
        "(NP, 0.4233061487601227)\n",
        "(:, 0.0566695754126886)\n",
        "(NNS, 0.6607431663091691)\n",
        "(NNP, 0.7590204626419416)\n",
        "(FRAG, 1.3716602089704093)\n",
        "(VB, 0.4479699767294875)\n",
        "(WRB, 0.13476391710654975)\n",
        "(QP, 0.10403445906246529)"
       ]
      },
      {
       "output_type": "stream",
       "stream": "stdout",
       "text": [
        "\n",
        "(CC, 0.021963703915286084)\n",
        "(PDT, -0.006907755278982137)\n",
        "(RBS, -0.006907755278982137)\n",
        "(RBR, 0.08850215500744102)\n",
        "(CD, 0.3104917117577246)\n",
        "(VP, 0.24569972601088455)\n",
        "(S, 0.07841144446423272)\n",
        "(EX, 0.010309643601367866)\n",
        "(IN, 0.05751631472462703)\n",
        "(WP$, 0.0)\n",
        "(NP=2, 0.0)\n",
        "(ADVP, 0.12366450501369385)\n",
        "(MD, 0.023839019558289175)\n",
        "(NNPS, 0.5799909744046422)\n",
        "(NAC, 0.020410997260127586)\n",
        "(POS, 0.0015083686251935076)\n",
        "(SQ, -0.006907755278982137)\n",
        "(JJS, 0.19918586575051472)\n",
        "(JJR, 0.20697488367402198)\n",
        "(WHNP, 0.04671050713474161)\n",
        "(SBARQ, -0.012429216196844383)\n",
        "(PRT, 0.041724453103768065)\n"
       ]
      }
     ],
     "prompt_number": 60
    },
    {
     "cell_type": "markdown",
     "metadata": {},
     "source": [
      "<b>We can see that there are some NonTerminals which are very affected from the added trees.\n",
      "For example: NN (kl=0.66) (VB=0.44) (NX=0.62) (VBG=0.56)"
     ]
    },
    {
     "cell_type": "heading",
     "level": 1,
     "metadata": {},
     "source": [
      "Question 1.3: Induce a PCFG in Chomsky Normal Form"
     ]
    },
    {
     "cell_type": "code",
     "collapsed": false,
     "input": [
      "from nltk.treetransforms import chomsky_normal_form\n",
      "\n",
      "def pcfg_cnf_learn(treebank, n):\n",
      "    for tree in treebank.parsed_sents()[:n]:\n",
      "        tree = filter_tree(tree)\n",
      "        chomsky_normal_form(tree, factor='right', horzMarkov=1, vertMarkov=1, childChar='|', parentChar='^')\n",
      "        yield tree"
     ],
     "language": "python",
     "metadata": {},
     "outputs": [],
     "prompt_number": 61
    },
    {
     "cell_type": "code",
     "collapsed": false,
     "input": [
      "treebank = LazyCorpusLoader('treebank/combined', BracketParseCorpusReader, r'wsj_.*\\.mrg')\n",
      "cnfs = pcfg_cnf_learn(treebank, 200)\n",
      "prods = sum([list(tree_to_productions(t)) for t in cnfs], list())\n",
      "\n",
      "print \"internal nodes = \", len(prods)\n",
      "print \"rules = \", len(set(prods))"
     ],
     "language": "python",
     "metadata": {},
     "outputs": [
      {
       "output_type": "stream",
       "stream": "stdout",
       "text": [
        "internal nodes =  10038\n",
        "rules =  2797\n"
       ]
      }
     ],
     "prompt_number": 62
    },
    {
     "cell_type": "markdown",
     "metadata": {},
     "source": [
      "compared to the earlier 8443 nodes and 2271 rules.<br/>\n",
      "not a bad price to pay for all that context.."
     ]
    },
    {
     "cell_type": "heading",
     "level": 1,
     "metadata": {},
     "source": [
      "Question 1.4"
     ]
    },
    {
     "cell_type": "heading",
     "level": 2,
     "metadata": {},
     "source": [
      "Compute the distribution of the RHS given the NP LHS for all NPs in the treebank. Draw a histogram plot."
     ]
    },
    {
     "cell_type": "code",
     "collapsed": false,
     "input": [
      "def tree_to_productions_parents(tree, parent_label):\n",
      "    yield (parent_label, tree_to_production(tree))\n",
      "    for child in tree:\n",
      "        if isinstance(child, Tree):\n",
      "            for prod in tree_to_productions_parents(child, tree.label()):\n",
      "                yield prod\n",
      "\n",
      "treebank = LazyCorpusLoader('treebank/combined', BracketParseCorpusReader, r'wsj_.*\\.mrg')\n",
      "trees = treebank.parsed_sents()\n",
      "trees = map(filter_tree, trees)\n",
      "prods = sum([list(tree_to_productions_parents(t, 'DUKIS')) for t in trees], list())\n",
      "                \n",
      "# only LHS = NP, no parent restriction:\n",
      "nps = filter(lambda prod: prod[1].lhs().symbol() == 'NP', list(prods))\n",
      "rhs = map(lambda x: x[1], nps)\n",
      "rhs_freq = nltk.FreqDist(rhs)\n",
      "\n",
      "# only LHS = NP below S\n",
      "nps_below_s = map(lambda x: x[1],\n",
      "                  filter(lambda prod: prod[0] == 'S' and prod[1].lhs().symbol() == 'NP', list(prods)))\n",
      "nps_below_s_freq = nltk.FreqDist(nps_below_s)\n",
      "\n",
      "# only LHS = NP below VP\n",
      "nps_below_vp = map(lambda x: x[1],\n",
      "                   filter(lambda prod: prod[0] == 'VP' and prod[1].lhs().symbol() == 'NP', list(prods)))\n",
      "nps_below_vp_freq = nltk.FreqDist(nps_below_vp)\n",
      "\n",
      "\n",
      "rhs_freqs = [(x.rhs(), rhs_freq[x]) for x in rhs_freq] # pairs of (RHS, frequency)\n",
      "rhs_s_freqs = [(x.rhs(), nps_below_s_freq[x]) for x in rhs_freq] # pairs of (RHS, frequency)\n",
      "rhs_vp_freqs = [(x.rhs(),nps_below_vp_freq[x]) for x in rhs_freq] # pairs of (RHS, frequency)\n",
      "# note - we look at the frequency of /all/ possible RHS, not only those appearing for LHS under X\n",
      "\n",
      "rhs_pos_vals = map(lambda x:x[0], rhs_freqs)\n",
      "\n",
      "print rhs_freqs[0]"
     ],
     "language": "python",
     "metadata": {},
     "outputs": [
      {
       "output_type": "stream",
       "stream": "stdout",
       "text": [
        "((DT, NNP, NN, NN, CC, NN, NN), 1)\n"
       ]
      }
     ],
     "prompt_number": 63
    },
    {
     "cell_type": "code",
     "collapsed": false,
     "input": [
      "# we now sort them by name so the shape of the histogram will carry some meaning.\n",
      "sorted_rhs_freqs = sorted(rhs_freqs, key=lambda kv: kv[0]) # sort by the first element in each pair, ie. name.\n",
      "sorted_rhs_freqs_s = sorted(rhs_s_freqs, key=lambda kv: kv[0]) \n",
      "sorted_rhs_freqs_vp = sorted(rhs_vp_freqs, key=lambda kv: kv[0]) \n",
      "\n",
      "pylab.ylabel(\"Rule frequency\")\n",
      "pylab.xlabel(\"Rule\")\n",
      "pylab.title(\"RHS of LHS=NP\")\n",
      "pylab.plot(map(lambda kv: kv[1], sorted_rhs_freqs), '-bo', )\n",
      "pylab.show()\n",
      "\n",
      "pylab.ylabel(\"Rule frequency\")\n",
      "pylab.xlabel(\"Rule\")\n",
      "pylab.title(\"RHS of LHS=NP under S\")\n",
      "pylab.plot(map(lambda kv: kv[1], sorted_rhs_freqs_s), '-bo', )\n",
      "pylab.show()\n",
      "\n",
      "pylab.ylabel(\"Rule frequency\")\n",
      "pylab.xlabel(\"Rule\")\n",
      "pylab.title(\"RHS of LHS=NP under VP\")\n",
      "pylab.plot(map(lambda kv: kv[1], sorted_rhs_freqs_vp), '-bo', )\n",
      "pylab.show()"
     ],
     "language": "python",
     "metadata": {},
     "outputs": [
      {
       "metadata": {},
       "output_type": "display_data",
       "png": "[encoded data removed]",
       "text": [
        "<matplotlib.figure.Figure at 0x96f1510>"
       ]
      },
      {
       "metadata": {},
       "output_type": "display_data",
       "png": "[encoded data removed]",
       "text": [
        "<matplotlib.figure.Figure at 0x171dd650>"
       ]
      },
      {
       "metadata": {},
       "output_type": "display_data",
       "png": "[encoded data removed]",
       "text": [
        "<matplotlib.figure.Figure at 0x2496a050>"
       ]
      }
     ],
     "prompt_number": 64
    },
    {
     "cell_type": "markdown",
     "metadata": {},
     "source": [
      "Other than reminding us of the game Lemmings, we see the shapes are, unsuprisingly, not very similar. let's compute the KL-divergence and verify this."
     ]
    },
    {
     "cell_type": "code",
     "collapsed": false,
     "input": [
      "treebank = LazyCorpusLoader('treebank/combined', BracketParseCorpusReader, r'wsj_.*\\.mrg')\n",
      "trees = treebank.parsed_sents()\n",
      "trees = map(filter_tree, trees)\n",
      "prods = sum([list(tree_to_productions_parents(t, 'DUKIS')) for t in trees], list())\n",
      "\n",
      "# only LHS = NP, no parent restriction:\n",
      "nps = filter(lambda prod: prod[1].lhs().symbol() == 'NP', list(prods))\n",
      "rhs = map(lambda x: x[1], nps)\n",
      "rhs_dist = nltk.FreqDist(rhs)\n",
      "# print len(rhs_dist.keys())\n",
      "# print rhs_dist.tabulate()\n",
      "\n",
      "\n",
      "nps_below_s_dist = nltk.MLEProbDist(nps_below_s_freq)\n",
      "nps_below_vp_dist = nltk.MLEProbDist(nps_below_vp_freq)\n",
      "\n",
      "samples = set(nps_below_s_dist.samples() + nps_below_vp_dist.samples())\n",
      "rhs_probs = [(nps_below_s_dist.prob(rhs), nps_below_vp_dist.prob(rhs)) for rhs in samples]\n",
      "\n",
      "print kl_divergence(rhs_probs)"
     ],
     "language": "python",
     "metadata": {},
     "outputs": [
      {
       "output_type": "stream",
       "stream": "stdout",
       "text": [
        "0.967813450309\n"
       ]
      }
     ],
     "prompt_number": 65
    },
    {
     "cell_type": "markdown",
     "metadata": {},
     "source": [
      "Now, $KL-divergence(K||Q)$ is defined as the number bits required to code samples from P when using a code optimized for Q. code in the meaning of minimal data required to represent.<br/>\n",
      "That doesn't really help us when comparing different distributions. let's see what KL-divergence we get for two absolutely differnt distribution of RHS tags (say for tags under VP and NP):<br/>\n"
     ]
    },
    {
     "cell_type": "code",
     "collapsed": false,
     "input": [
      "nps = filter(lambda prod: prod[1].lhs().symbol() == 'NP', list(prods))\n",
      "vps = filter(lambda prod: prod[1].lhs().symbol() == 'VP', list(prods))\n",
      "\n",
      "nps_rhs = map(lambda x: x[1].rhs(), nps)\n",
      "vps_rhs = map(lambda x: x[1].rhs(), vps)\n",
      "\n",
      "nps_rhs_freq = nltk.FreqDist(nps_rhs)\n",
      "vps_rhs_freq = nltk.FreqDist(vps_rhs)\n",
      "\n",
      "nps_dist = nltk.MLEProbDist(nps_rhs_freq)\n",
      "vps_dist = nltk.MLEProbDist(vps_rhs_freq)\n",
      "\n",
      "samples = set(nps_dist.samples() + vps_dist.samples())\n",
      "rhs_probs = [(nps_dist.prob(rhs), vps_dist.prob(rhs)) for rhs in samples]\n",
      "print rhs_probs[0]\n",
      "print kl_divergence(rhs_probs)"
     ],
     "language": "python",
     "metadata": {},
     "outputs": [
      {
       "output_type": "stream",
       "stream": "stdout",
       "text": [
        "(3.204922761361451e-05, 0.0)\n",
        "0.309603284826\n"
       ]
      }
     ],
     "prompt_number": 66
    },
    {
     "cell_type": "markdown",
     "metadata": {},
     "source": [
      "so the earlier distributions <b><i>are</i></b> different (...or the distribution under VPs and NPs are similar, which would be odd)."
     ]
    }
   ],
   "metadata": {}
  }
 ]
}