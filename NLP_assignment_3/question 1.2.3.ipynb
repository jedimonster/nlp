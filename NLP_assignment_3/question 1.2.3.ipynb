{
 "metadata": {
  "name": "",
  "signature": "sha256:37a7bd3454388762d1bf683e6cd4debbe6bd3923dd1221a954e679c9a7d0afa2"
 },
 "nbformat": 3,
 "nbformat_minor": 0,
 "worksheets": [
  {
   "cells": [
    {
     "cell_type": "heading",
     "level": 1,
     "metadata": {},
     "source": [
      "Comparison of two induced pcfg's (one with 200 trees the other with 400)"
     ]
    },
    {
     "cell_type": "code",
     "collapsed": false,
     "input": [
      "from question1_my import *\n",
      "from nltk.grammar import induce_pcfg\n",
      "\n",
      "treebank = LazyCorpusLoader('treebank/combined', BracketParseCorpusReader, r'wsj_.*\\.mrg')\n",
      "sents = treebank.parsed_sents()\n",
      "\n",
      "pcfg_200 = induce_pcfg(Nonterminal('S'), get_productions(sents, 200))\n",
      "pcfg_400 = induce_pcfg(Nonterminal('S'), get_productions(sents, 400))\n",
      "\n",
      "print 'Number of rules in pcfg_200: ',  len(pcfg_200.productions())\n",
      "print 'Number of rules in pcfg_400: ', len(pcfg_400.productions())\n",
      "print '*'*100\n",
      "print\n",
      "\n",
      "for kl in pcfg_validate_divergence(pcfg_200, pcfg_400):\n",
      "    print kl\n",
      "\n"
     ],
     "language": "python",
     "metadata": {},
     "outputs": [
      {
       "output_type": "stream",
       "stream": "stdout",
       "text": [
        "Number of rules in pcfg_200:  2271\n",
        "Number of rules in pcfg_400:  3711\n",
        "****************************************************************************************************\n",
        "\n",
        "(, -0.02185027760013622)\n",
        "(TO, 0.0)\n",
        "(PRP$, 0.0674917388944448)\n",
        "(VBG, 0.5633834197956236)\n",
        "(SBAR, 0.037076002720459134)\n",
        "(VBD, 0.1991487710499085)\n",
        "(SINV, 0.21101008211396013)\n",
        "(ADJP, 0.25878591124841277)\n",
        "(WHADVP, 0.0)\n",
        "(``, 0.019038408172372474)\n",
        "(VBN, 0.5599225244810068)\n",
        "(CONJP, 0.40106193005937496)\n",
        "('', 0.019922271576417547)\n",
        "(VBP, 0.3350117442117881)\n",
        "(WDT, 0.10035813203618336)\n",
        "(JJ, 0.6893163174674082)\n",
        "(WP, 0.07130369095859773)\n",
        "(VBZ, 0.2080578732737202)\n",
        "(DT, 0.039643913700574525)\n",
        "(PP, 0.030362020335012774)\n",
        "(RP, 0.18035453470612658)\n",
        "($, 0.02146440535603479)\n",
        "(NN, 0.678812339515707)\n",
        "(UCP, 0.21906893283244902)\n",
        "(PRN, 0.6360419225571594)\n",
        "(RRC, 0.0)\n",
        "(,, 0.0)\n",
        "(., 0.006488746755271961)\n",
        "(NX, 0.6240008267668797)\n",
        "(WHPP, 0.0)\n",
        "(PRP, 0.14017636840446795)\n",
        "(RB, 0.3332077325940961)\n",
        "(NP, 0.4233061487601227)\n",
        "(:, 0.0566695754126886)\n",
        "(NNS, 0.6607431663091691)\n",
        "(NNP, 0.7590204626419415)\n",
        "(FRAG, 1.3716602089704093)\n",
        "(VB, 0.4479699767294875)\n",
        "(WRB, 0.13476391710654975)\n",
        "(QP, 0.10403445906246529)\n",
        "(CC, 0.021963703915286084)\n",
        "(PDT, -0.006907755278982137)\n",
        "(RBS, -0.006907755278982137)\n",
        "(RBR, 0.08850215500744102)\n",
        "(CD, 0.3104917117577246)\n",
        "(VP, 0.24569972601088455)\n",
        "(S, 0.07841144446423272)\n",
        "(EX, 0.010309643601367866)\n",
        "(IN, 0.05751631472462703)\n",
        "(WP$, 0.0)\n",
        "(NP=2, 0.0)\n",
        "(ADVP, 0.12366450501369385)\n",
        "(MD, 0.023839019558289175)\n",
        "(NNPS, 0.5799909744046422)\n",
        "(NAC, 0.020410997260127586)\n",
        "(POS, 0.0015083686251935076)\n",
        "(SQ, -0.006907755278982137)\n",
        "(JJS, 0.19918586575051472)\n",
        "(JJR, 0.20697488367402198)\n",
        "(WHNP, 0.04671050713474161)\n",
        "(SBARQ, -0.012429216196844383)\n",
        "(PRT, 0.041724453103768065)\n"
       ]
      }
     ],
     "prompt_number": 3
    },
    {
     "cell_type": "markdown",
     "metadata": {},
     "source": [
      "<b>We can see that there are some NonTerminals which are very affected from the added trees.\n",
      "For example: NN (kl=0.66) (VB=0.44) (NX=0.62) (VBG=0.56)</b>"
     ]
    },
    {
     "cell_type": "code",
     "collapsed": false,
     "input": [],
     "language": "python",
     "metadata": {},
     "outputs": []
    }
   ],
   "metadata": {}
  }
 ]
}